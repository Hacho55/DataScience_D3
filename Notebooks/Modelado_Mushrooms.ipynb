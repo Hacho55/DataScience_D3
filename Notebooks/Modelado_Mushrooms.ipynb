{
 "cells": [
  {
   "cell_type": "markdown",
   "metadata": {},
   "source": [
    "# Desafío 3"
   ]
  },
  {
   "cell_type": "markdown",
   "metadata": {},
   "source": [
    "## Modelado para Mushrooms"
   ]
  },
  {
   "cell_type": "markdown",
   "metadata": {},
   "source": [
    "---\n",
    "<b><a id='section_1_'>1.1. Descripción del dataset Hongos</a></b>"
   ]
  },
  {
   "cell_type": "code",
   "execution_count": 93,
   "metadata": {},
   "outputs": [],
   "source": [
    "import numpy as np\n",
    "import pandas as pd\n",
    "import seaborn as sns\n",
    "%matplotlib inline\n",
    "import matplotlib.pyplot as plt\n",
    "import math"
   ]
  },
  {
   "cell_type": "code",
   "execution_count": 94,
   "metadata": {},
   "outputs": [
    {
     "name": "stdout",
     "output_type": "stream",
     "text": [
      "(8124, 23)\n"
     ]
    }
   ],
   "source": [
    "data_location = \"../Data/Hongos/mushrooms.csv\"\n",
    "data = pd.read_csv(data_location, sep=\",\")\n",
    "print(data.shape)\n"
   ]
  },
  {
   "cell_type": "code",
   "execution_count": 95,
   "metadata": {},
   "outputs": [
    {
     "data": {
      "text/html": [
       "<div>\n",
       "<style scoped>\n",
       "    .dataframe tbody tr th:only-of-type {\n",
       "        vertical-align: middle;\n",
       "    }\n",
       "\n",
       "    .dataframe tbody tr th {\n",
       "        vertical-align: top;\n",
       "    }\n",
       "\n",
       "    .dataframe thead th {\n",
       "        text-align: right;\n",
       "    }\n",
       "</style>\n",
       "<table border=\"1\" class=\"dataframe\">\n",
       "  <thead>\n",
       "    <tr style=\"text-align: right;\">\n",
       "      <th></th>\n",
       "      <th>type</th>\n",
       "      <th>Porcentaje de nulos</th>\n",
       "      <th>Nulos</th>\n",
       "      <th>Valores distintos</th>\n",
       "      <th>Ejemplos</th>\n",
       "    </tr>\n",
       "  </thead>\n",
       "  <tbody>\n",
       "    <tr>\n",
       "      <th>class</th>\n",
       "      <td>object</td>\n",
       "      <td>0.0</td>\n",
       "      <td>0</td>\n",
       "      <td>2</td>\n",
       "      <td>[p, e]</td>\n",
       "    </tr>\n",
       "    <tr>\n",
       "      <th>cap-shape</th>\n",
       "      <td>object</td>\n",
       "      <td>0.0</td>\n",
       "      <td>0</td>\n",
       "      <td>6</td>\n",
       "      <td>[x, b, s, f, k, c]</td>\n",
       "    </tr>\n",
       "    <tr>\n",
       "      <th>cap-surface</th>\n",
       "      <td>object</td>\n",
       "      <td>0.0</td>\n",
       "      <td>0</td>\n",
       "      <td>4</td>\n",
       "      <td>[s, y, f, g]</td>\n",
       "    </tr>\n",
       "    <tr>\n",
       "      <th>cap-color</th>\n",
       "      <td>object</td>\n",
       "      <td>0.0</td>\n",
       "      <td>0</td>\n",
       "      <td>10</td>\n",
       "      <td>[n, y, w, g, e, p, b, u, c, r]</td>\n",
       "    </tr>\n",
       "    <tr>\n",
       "      <th>bruises</th>\n",
       "      <td>object</td>\n",
       "      <td>0.0</td>\n",
       "      <td>0</td>\n",
       "      <td>2</td>\n",
       "      <td>[t, f]</td>\n",
       "    </tr>\n",
       "    <tr>\n",
       "      <th>odor</th>\n",
       "      <td>object</td>\n",
       "      <td>0.0</td>\n",
       "      <td>0</td>\n",
       "      <td>9</td>\n",
       "      <td>[p, a, l, n, f, c, y, s, m]</td>\n",
       "    </tr>\n",
       "    <tr>\n",
       "      <th>gill-attachment</th>\n",
       "      <td>object</td>\n",
       "      <td>0.0</td>\n",
       "      <td>0</td>\n",
       "      <td>2</td>\n",
       "      <td>[f, a]</td>\n",
       "    </tr>\n",
       "    <tr>\n",
       "      <th>gill-spacing</th>\n",
       "      <td>object</td>\n",
       "      <td>0.0</td>\n",
       "      <td>0</td>\n",
       "      <td>2</td>\n",
       "      <td>[c, w]</td>\n",
       "    </tr>\n",
       "    <tr>\n",
       "      <th>gill-size</th>\n",
       "      <td>object</td>\n",
       "      <td>0.0</td>\n",
       "      <td>0</td>\n",
       "      <td>2</td>\n",
       "      <td>[n, b]</td>\n",
       "    </tr>\n",
       "    <tr>\n",
       "      <th>gill-color</th>\n",
       "      <td>object</td>\n",
       "      <td>0.0</td>\n",
       "      <td>0</td>\n",
       "      <td>12</td>\n",
       "      <td>[k, n, g, p, w, h, u, e, b, r, y, o]</td>\n",
       "    </tr>\n",
       "    <tr>\n",
       "      <th>stalk-shape</th>\n",
       "      <td>object</td>\n",
       "      <td>0.0</td>\n",
       "      <td>0</td>\n",
       "      <td>2</td>\n",
       "      <td>[e, t]</td>\n",
       "    </tr>\n",
       "    <tr>\n",
       "      <th>stalk-root</th>\n",
       "      <td>object</td>\n",
       "      <td>0.0</td>\n",
       "      <td>0</td>\n",
       "      <td>5</td>\n",
       "      <td>[e, c, b, r, ?]</td>\n",
       "    </tr>\n",
       "    <tr>\n",
       "      <th>stalk-surface-above-ring</th>\n",
       "      <td>object</td>\n",
       "      <td>0.0</td>\n",
       "      <td>0</td>\n",
       "      <td>4</td>\n",
       "      <td>[s, f, k, y]</td>\n",
       "    </tr>\n",
       "    <tr>\n",
       "      <th>stalk-surface-below-ring</th>\n",
       "      <td>object</td>\n",
       "      <td>0.0</td>\n",
       "      <td>0</td>\n",
       "      <td>4</td>\n",
       "      <td>[s, f, y, k]</td>\n",
       "    </tr>\n",
       "    <tr>\n",
       "      <th>stalk-color-above-ring</th>\n",
       "      <td>object</td>\n",
       "      <td>0.0</td>\n",
       "      <td>0</td>\n",
       "      <td>9</td>\n",
       "      <td>[w, g, p, n, b, e, o, c, y]</td>\n",
       "    </tr>\n",
       "    <tr>\n",
       "      <th>stalk-color-below-ring</th>\n",
       "      <td>object</td>\n",
       "      <td>0.0</td>\n",
       "      <td>0</td>\n",
       "      <td>9</td>\n",
       "      <td>[w, p, g, b, n, e, y, o, c]</td>\n",
       "    </tr>\n",
       "    <tr>\n",
       "      <th>veil-type</th>\n",
       "      <td>object</td>\n",
       "      <td>0.0</td>\n",
       "      <td>0</td>\n",
       "      <td>1</td>\n",
       "      <td>[p]</td>\n",
       "    </tr>\n",
       "    <tr>\n",
       "      <th>veil-color</th>\n",
       "      <td>object</td>\n",
       "      <td>0.0</td>\n",
       "      <td>0</td>\n",
       "      <td>4</td>\n",
       "      <td>[w, n, o, y]</td>\n",
       "    </tr>\n",
       "    <tr>\n",
       "      <th>ring-number</th>\n",
       "      <td>object</td>\n",
       "      <td>0.0</td>\n",
       "      <td>0</td>\n",
       "      <td>3</td>\n",
       "      <td>[o, t, n]</td>\n",
       "    </tr>\n",
       "    <tr>\n",
       "      <th>ring-type</th>\n",
       "      <td>object</td>\n",
       "      <td>0.0</td>\n",
       "      <td>0</td>\n",
       "      <td>5</td>\n",
       "      <td>[p, e, l, f, n]</td>\n",
       "    </tr>\n",
       "    <tr>\n",
       "      <th>spore-print-color</th>\n",
       "      <td>object</td>\n",
       "      <td>0.0</td>\n",
       "      <td>0</td>\n",
       "      <td>9</td>\n",
       "      <td>[k, n, u, h, w, r, o, y, b]</td>\n",
       "    </tr>\n",
       "    <tr>\n",
       "      <th>population</th>\n",
       "      <td>object</td>\n",
       "      <td>0.0</td>\n",
       "      <td>0</td>\n",
       "      <td>6</td>\n",
       "      <td>[s, n, a, v, y, c]</td>\n",
       "    </tr>\n",
       "    <tr>\n",
       "      <th>habitat</th>\n",
       "      <td>object</td>\n",
       "      <td>0.0</td>\n",
       "      <td>0</td>\n",
       "      <td>7</td>\n",
       "      <td>[u, g, m, d, p, w, l]</td>\n",
       "    </tr>\n",
       "  </tbody>\n",
       "</table>\n",
       "</div>"
      ],
      "text/plain": [
       "                            type  Porcentaje de nulos  Nulos  \\\n",
       "class                     object                  0.0      0   \n",
       "cap-shape                 object                  0.0      0   \n",
       "cap-surface               object                  0.0      0   \n",
       "cap-color                 object                  0.0      0   \n",
       "bruises                   object                  0.0      0   \n",
       "odor                      object                  0.0      0   \n",
       "gill-attachment           object                  0.0      0   \n",
       "gill-spacing              object                  0.0      0   \n",
       "gill-size                 object                  0.0      0   \n",
       "gill-color                object                  0.0      0   \n",
       "stalk-shape               object                  0.0      0   \n",
       "stalk-root                object                  0.0      0   \n",
       "stalk-surface-above-ring  object                  0.0      0   \n",
       "stalk-surface-below-ring  object                  0.0      0   \n",
       "stalk-color-above-ring    object                  0.0      0   \n",
       "stalk-color-below-ring    object                  0.0      0   \n",
       "veil-type                 object                  0.0      0   \n",
       "veil-color                object                  0.0      0   \n",
       "ring-number               object                  0.0      0   \n",
       "ring-type                 object                  0.0      0   \n",
       "spore-print-color         object                  0.0      0   \n",
       "population                object                  0.0      0   \n",
       "habitat                   object                  0.0      0   \n",
       "\n",
       "                          Valores distintos  \\\n",
       "class                                     2   \n",
       "cap-shape                                 6   \n",
       "cap-surface                               4   \n",
       "cap-color                                10   \n",
       "bruises                                   2   \n",
       "odor                                      9   \n",
       "gill-attachment                           2   \n",
       "gill-spacing                              2   \n",
       "gill-size                                 2   \n",
       "gill-color                               12   \n",
       "stalk-shape                               2   \n",
       "stalk-root                                5   \n",
       "stalk-surface-above-ring                  4   \n",
       "stalk-surface-below-ring                  4   \n",
       "stalk-color-above-ring                    9   \n",
       "stalk-color-below-ring                    9   \n",
       "veil-type                                 1   \n",
       "veil-color                                4   \n",
       "ring-number                               3   \n",
       "ring-type                                 5   \n",
       "spore-print-color                         9   \n",
       "population                                6   \n",
       "habitat                                   7   \n",
       "\n",
       "                                                      Ejemplos  \n",
       "class                                                   [p, e]  \n",
       "cap-shape                                   [x, b, s, f, k, c]  \n",
       "cap-surface                                       [s, y, f, g]  \n",
       "cap-color                       [n, y, w, g, e, p, b, u, c, r]  \n",
       "bruises                                                 [t, f]  \n",
       "odor                               [p, a, l, n, f, c, y, s, m]  \n",
       "gill-attachment                                         [f, a]  \n",
       "gill-spacing                                            [c, w]  \n",
       "gill-size                                               [n, b]  \n",
       "gill-color                [k, n, g, p, w, h, u, e, b, r, y, o]  \n",
       "stalk-shape                                             [e, t]  \n",
       "stalk-root                                     [e, c, b, r, ?]  \n",
       "stalk-surface-above-ring                          [s, f, k, y]  \n",
       "stalk-surface-below-ring                          [s, f, y, k]  \n",
       "stalk-color-above-ring             [w, g, p, n, b, e, o, c, y]  \n",
       "stalk-color-below-ring             [w, p, g, b, n, e, y, o, c]  \n",
       "veil-type                                                  [p]  \n",
       "veil-color                                        [w, n, o, y]  \n",
       "ring-number                                          [o, t, n]  \n",
       "ring-type                                      [p, e, l, f, n]  \n",
       "spore-print-color                  [k, n, u, h, w, r, o, y, b]  \n",
       "population                                  [s, n, a, v, y, c]  \n",
       "habitat                                  [u, g, m, d, p, w, l]  "
      ]
     },
     "execution_count": 95,
     "metadata": {},
     "output_type": "execute_result"
    }
   ],
   "source": [
    "data_describe = pd.DataFrame(round(data.isnull().sum() /data.shape[0],2), columns= ['Porcentaje de nulos'])\n",
    "data_describe['type'] = data.dtypes\n",
    "data_describe = data_describe[['type','Porcentaje de nulos']]\n",
    "data_describe['Nulos'] = data.isnull().sum()\n",
    "values= []\n",
    "example=[]\n",
    "for x in data:\n",
    "    values.append(len(data[x].unique()))\n",
    "    example.append(data[x].unique())\n",
    "data_describe['Valores distintos'] = values\n",
    "data_describe['Ejemplos'] = example\n",
    "\n",
    "\n",
    "data_describe"
   ]
  },
  {
   "cell_type": "code",
   "execution_count": 96,
   "metadata": {},
   "outputs": [
    {
     "data": {
      "text/plain": [
       "e    0.52\n",
       "p    0.48\n",
       "Name: class, dtype: float64"
      ]
     },
     "execution_count": 96,
     "metadata": {},
     "output_type": "execute_result"
    }
   ],
   "source": [
    "# Analizamos la proporción entre clases Target\n",
    "data['class'].value_counts(normalize=True).round(2)"
   ]
  },
  {
   "cell_type": "markdown",
   "metadata": {},
   "source": [
    "---\n",
    "<b><a id='section_1_'>1.2. Transformación de variables Categoricas</a></b>"
   ]
  },
  {
   "cell_type": "code",
   "execution_count": 97,
   "metadata": {},
   "outputs": [],
   "source": [
    "from sklearn.preprocessing import OneHotEncoder\n",
    "from sklearn.compose import ColumnTransformer\n",
    "from sklearn.preprocessing import LabelEncoder"
   ]
  },
  {
   "cell_type": "markdown",
   "metadata": {},
   "source": [
    "### LabelEncoder para estudiar correlaciones"
   ]
  },
  {
   "cell_type": "code",
   "execution_count": 98,
   "metadata": {},
   "outputs": [],
   "source": [
    "le = LabelEncoder()"
   ]
  },
  {
   "cell_type": "code",
   "execution_count": 99,
   "metadata": {},
   "outputs": [
    {
     "data": {
      "text/html": [
       "<div>\n",
       "<style scoped>\n",
       "    .dataframe tbody tr th:only-of-type {\n",
       "        vertical-align: middle;\n",
       "    }\n",
       "\n",
       "    .dataframe tbody tr th {\n",
       "        vertical-align: top;\n",
       "    }\n",
       "\n",
       "    .dataframe thead th {\n",
       "        text-align: right;\n",
       "    }\n",
       "</style>\n",
       "<table border=\"1\" class=\"dataframe\">\n",
       "  <thead>\n",
       "    <tr style=\"text-align: right;\">\n",
       "      <th></th>\n",
       "      <th>class</th>\n",
       "      <th>cap-shape</th>\n",
       "      <th>cap-surface</th>\n",
       "      <th>cap-color</th>\n",
       "      <th>bruises</th>\n",
       "      <th>odor</th>\n",
       "      <th>gill-attachment</th>\n",
       "      <th>gill-spacing</th>\n",
       "      <th>gill-size</th>\n",
       "      <th>gill-color</th>\n",
       "      <th>...</th>\n",
       "      <th>stalk-surface-below-ring</th>\n",
       "      <th>stalk-color-above-ring</th>\n",
       "      <th>stalk-color-below-ring</th>\n",
       "      <th>veil-type</th>\n",
       "      <th>veil-color</th>\n",
       "      <th>ring-number</th>\n",
       "      <th>ring-type</th>\n",
       "      <th>spore-print-color</th>\n",
       "      <th>population</th>\n",
       "      <th>habitat</th>\n",
       "    </tr>\n",
       "  </thead>\n",
       "  <tbody>\n",
       "    <tr>\n",
       "      <th>0</th>\n",
       "      <td>1</td>\n",
       "      <td>5</td>\n",
       "      <td>2</td>\n",
       "      <td>4</td>\n",
       "      <td>1</td>\n",
       "      <td>6</td>\n",
       "      <td>1</td>\n",
       "      <td>0</td>\n",
       "      <td>1</td>\n",
       "      <td>4</td>\n",
       "      <td>...</td>\n",
       "      <td>2</td>\n",
       "      <td>7</td>\n",
       "      <td>7</td>\n",
       "      <td>0</td>\n",
       "      <td>2</td>\n",
       "      <td>1</td>\n",
       "      <td>4</td>\n",
       "      <td>2</td>\n",
       "      <td>3</td>\n",
       "      <td>5</td>\n",
       "    </tr>\n",
       "    <tr>\n",
       "      <th>1</th>\n",
       "      <td>0</td>\n",
       "      <td>5</td>\n",
       "      <td>2</td>\n",
       "      <td>9</td>\n",
       "      <td>1</td>\n",
       "      <td>0</td>\n",
       "      <td>1</td>\n",
       "      <td>0</td>\n",
       "      <td>0</td>\n",
       "      <td>4</td>\n",
       "      <td>...</td>\n",
       "      <td>2</td>\n",
       "      <td>7</td>\n",
       "      <td>7</td>\n",
       "      <td>0</td>\n",
       "      <td>2</td>\n",
       "      <td>1</td>\n",
       "      <td>4</td>\n",
       "      <td>3</td>\n",
       "      <td>2</td>\n",
       "      <td>1</td>\n",
       "    </tr>\n",
       "    <tr>\n",
       "      <th>2</th>\n",
       "      <td>0</td>\n",
       "      <td>0</td>\n",
       "      <td>2</td>\n",
       "      <td>8</td>\n",
       "      <td>1</td>\n",
       "      <td>3</td>\n",
       "      <td>1</td>\n",
       "      <td>0</td>\n",
       "      <td>0</td>\n",
       "      <td>5</td>\n",
       "      <td>...</td>\n",
       "      <td>2</td>\n",
       "      <td>7</td>\n",
       "      <td>7</td>\n",
       "      <td>0</td>\n",
       "      <td>2</td>\n",
       "      <td>1</td>\n",
       "      <td>4</td>\n",
       "      <td>3</td>\n",
       "      <td>2</td>\n",
       "      <td>3</td>\n",
       "    </tr>\n",
       "  </tbody>\n",
       "</table>\n",
       "<p>3 rows × 23 columns</p>\n",
       "</div>"
      ],
      "text/plain": [
       "   class  cap-shape  cap-surface  cap-color  bruises  odor  gill-attachment  \\\n",
       "0      1          5            2          4        1     6                1   \n",
       "1      0          5            2          9        1     0                1   \n",
       "2      0          0            2          8        1     3                1   \n",
       "\n",
       "   gill-spacing  gill-size  gill-color  ...  stalk-surface-below-ring  \\\n",
       "0             0          1           4  ...                         2   \n",
       "1             0          0           4  ...                         2   \n",
       "2             0          0           5  ...                         2   \n",
       "\n",
       "   stalk-color-above-ring  stalk-color-below-ring  veil-type  veil-color  \\\n",
       "0                       7                       7          0           2   \n",
       "1                       7                       7          0           2   \n",
       "2                       7                       7          0           2   \n",
       "\n",
       "   ring-number  ring-type  spore-print-color  population  habitat  \n",
       "0            1          4                  2           3        5  \n",
       "1            1          4                  3           2        1  \n",
       "2            1          4                  3           2        3  \n",
       "\n",
       "[3 rows x 23 columns]"
      ]
     },
     "execution_count": 99,
     "metadata": {},
     "output_type": "execute_result"
    }
   ],
   "source": [
    "data_le = data.apply(le.fit_transform)\n",
    "data_le.head(3)"
   ]
  },
  {
   "cell_type": "code",
   "execution_count": 100,
   "metadata": {},
   "outputs": [
    {
     "data": {
      "text/plain": [
       "<matplotlib.axes._subplots.AxesSubplot at 0x7fedd7b24510>"
      ]
     },
     "execution_count": 100,
     "metadata": {},
     "output_type": "execute_result"
    },
    {
     "data": {
      "image/png": "[encoded data removed]",
      "text/plain": [
       "<Figure size 216x504 with 2 Axes>"
      ]
     },
     "metadata": {
      "needs_background": "light"
     },
     "output_type": "display_data"
    }
   ],
   "source": [
    "plt.figure(figsize=(3,7))\n",
    "sns.heatmap(data_le.corr()[['class']], cmap=\"PiYG\", annot=True)"
   ]
  },
  {
   "cell_type": "code",
   "execution_count": 101,
   "metadata": {},
   "outputs": [],
   "source": [
    "#sns.pairplot(data_le.drop(['veil-type'], axis=1), hue= 'class', diag_kind='none')\n",
    "#funciona\n"
   ]
  },
  {
   "cell_type": "markdown",
   "metadata": {},
   "source": [
    "### Separación de features, target y sets de entrenamiento y testeo"
   ]
  },
  {
   "cell_type": "code",
   "execution_count": 102,
   "metadata": {},
   "outputs": [
    {
     "data": {
      "text/plain": [
       "0    4208\n",
       "1    3916\n",
       "Name: class, dtype: int64"
      ]
     },
     "execution_count": 102,
     "metadata": {},
     "output_type": "execute_result"
    }
   ],
   "source": [
    "data['class']= data['class'].apply(lambda x: 1 if x is 'p' else 0)\n",
    "data['class'].value_counts()"
   ]
  },
  {
   "cell_type": "code",
   "execution_count": 103,
   "metadata": {},
   "outputs": [
    {
     "name": "stdout",
     "output_type": "stream",
     "text": [
      "<class 'pandas.core.frame.DataFrame'>\n",
      "<class 'pandas.core.series.Series'>\n"
     ]
    }
   ],
   "source": [
    "X = data.drop(['class','veil-type'], axis=1)\n",
    "y = data['class']\n",
    "print(type(X))\n",
    "print(type(y))\n"
   ]
  },
  {
   "cell_type": "code",
   "execution_count": null,
   "metadata": {},
   "outputs": [],
   "source": []
  },
  {
   "cell_type": "code",
   "execution_count": 104,
   "metadata": {},
   "outputs": [],
   "source": [
    "from sklearn.model_selection import train_test_split\n",
    "X_train, X_test, y_train, y_test = train_test_split(X, y, test_size=0.4, stratify=y, random_state=12)"
   ]
  },
  {
   "cell_type": "code",
   "execution_count": 105,
   "metadata": {},
   "outputs": [
    {
     "data": {
      "text/plain": [
       "0    0.52\n",
       "1    0.48\n",
       "Name: class, dtype: float64"
      ]
     },
     "metadata": {},
     "output_type": "display_data"
    },
    {
     "data": {
      "text/plain": [
       "0    0.52\n",
       "1    0.48\n",
       "Name: class, dtype: float64"
      ]
     },
     "metadata": {},
     "output_type": "display_data"
    }
   ],
   "source": [
    "display(y_train.value_counts(normalize=True).round(2))\n",
    "display(y_test.value_counts(normalize=True).round(2))"
   ]
  },
  {
   "cell_type": "code",
   "execution_count": 139,
   "metadata": {},
   "outputs": [
    {
     "data": {
      "text/plain": [
       "array(['cap-shape_c', 'cap-shape_f', 'cap-shape_k', 'cap-shape_s',\n",
       "       'cap-shape_x', 'cap-surface_g', 'cap-surface_s', 'cap-surface_y',\n",
       "       'cap-color_c', 'cap-color_e', 'cap-color_g', 'cap-color_n',\n",
       "       'cap-color_p', 'cap-color_r', 'cap-color_u', 'cap-color_w',\n",
       "       'cap-color_y', 'bruises_t', 'odor_c', 'odor_f', 'odor_l', 'odor_m',\n",
       "       'odor_n', 'odor_p', 'odor_s', 'odor_y', 'gill-attachment_f',\n",
       "       'gill-spacing_w', 'gill-size_n', 'gill-color_e', 'gill-color_g',\n",
       "       'gill-color_h', 'gill-color_k', 'gill-color_n', 'gill-color_o',\n",
       "       'gill-color_p', 'gill-color_r', 'gill-color_u', 'gill-color_w',\n",
       "       'gill-color_y', 'stalk-shape_t', 'stalk-root_b', 'stalk-root_c',\n",
       "       'stalk-root_e', 'stalk-root_r', 'stalk-surface-above-ring_k',\n",
       "       'stalk-surface-above-ring_s', 'stalk-surface-above-ring_y',\n",
       "       'stalk-surface-below-ring_k', 'stalk-surface-below-ring_s',\n",
       "       'stalk-surface-below-ring_y', 'stalk-color-above-ring_c',\n",
       "       'stalk-color-above-ring_e', 'stalk-color-above-ring_g',\n",
       "       'stalk-color-above-ring_n', 'stalk-color-above-ring_o',\n",
       "       'stalk-color-above-ring_p', 'stalk-color-above-ring_w',\n",
       "       'stalk-color-above-ring_y', 'stalk-color-below-ring_c',\n",
       "       'stalk-color-below-ring_e', 'stalk-color-below-ring_g',\n",
       "       'stalk-color-below-ring_n', 'stalk-color-below-ring_o',\n",
       "       'stalk-color-below-ring_p', 'stalk-color-below-ring_w',\n",
       "       'stalk-color-below-ring_y', 'veil-color_o', 'veil-color_w',\n",
       "       'veil-color_y', 'ring-number_o', 'ring-number_t', 'ring-type_f',\n",
       "       'ring-type_l', 'ring-type_n', 'ring-type_p', 'spore-print-color_h',\n",
       "       'spore-print-color_k', 'spore-print-color_n',\n",
       "       'spore-print-color_o', 'spore-print-color_r',\n",
       "       'spore-print-color_u', 'spore-print-color_w',\n",
       "       'spore-print-color_y', 'population_c', 'population_n',\n",
       "       'population_s', 'population_v', 'population_y', 'habitat_g',\n",
       "       'habitat_l', 'habitat_m', 'habitat_p', 'habitat_u', 'habitat_w'],\n",
       "      dtype=object)"
      ]
     },
     "execution_count": 139,
     "metadata": {},
     "output_type": "execute_result"
    }
   ],
   "source": [
    "from sklearn.preprocessing import OneHotEncoder\n",
    "\n",
    "encoder = OneHotEncoder(drop='first')\n",
    "\n",
    "X_train_encoder = encoder.fit_transform(X_train)\n",
    "X_test_encoder = encoder.transform(X_test)\n",
    "encoder.get_feature_names(input_features=X_train.columns)"
   ]
  },
  {
   "cell_type": "markdown",
   "metadata": {},
   "source": [
    "### GridSearchCV con KNN y LogisticRegression"
   ]
  },
  {
   "cell_type": "code",
   "execution_count": 107,
   "metadata": {},
   "outputs": [],
   "source": [
    "from sklearn.linear_model import LogisticRegression\n",
    "from sklearn.neighbors import KNeighborsClassifier\n",
    "from sklearn.model_selection import GridSearchCV\n",
    "from sklearn.metrics import classification_report, confusion_matrix\n",
    "from sklearn.preprocessing import normalize"
   ]
  },
  {
   "cell_type": "code",
   "execution_count": 108,
   "metadata": {
    "colab": {},
    "colab_type": "code",
    "id": "IYwM0lY7i7bl"
   },
   "outputs": [],
   "source": [
    "lr = LogisticRegression()\n",
    "knn = KNeighborsClassifier()"
   ]
  },
  {
   "cell_type": "code",
   "execution_count": 109,
   "metadata": {},
   "outputs": [],
   "source": [
    "k_range = list(range(1, 30))\n",
    "C = np.linspace(0.09,0.29,10)\n",
    "solver = ['saga']\n",
    "penalty = ['l1','l2']\n",
    "weight_options = ['uniform', 'distance']\n",
    "#class_weight = ['balanced']\n"
   ]
  },
  {
   "cell_type": "code",
   "execution_count": 110,
   "metadata": {
    "colab": {},
    "colab_type": "code",
    "id": "2tvslAf2i7br"
   },
   "outputs": [
    {
     "name": "stdout",
     "output_type": "stream",
     "text": [
      "{'C': array([0.09      , 0.11222222, 0.13444444, 0.15666667, 0.17888889,\n",
      "       0.20111111, 0.22333333, 0.24555556, 0.26777778, 0.29      ]), 'solver': ['saga'], 'penalty': ['l1', 'l2']}\n"
     ]
    }
   ],
   "source": [
    "param_grid_lr = dict(C=C, solver=solver, penalty=penalty)\n",
    "print(param_grid_lr)"
   ]
  },
  {
   "cell_type": "code",
   "execution_count": 111,
   "metadata": {},
   "outputs": [
    {
     "name": "stdout",
     "output_type": "stream",
     "text": [
      "{'n_neighbors': [1, 2, 3, 4, 5, 6, 7, 8, 9, 10, 11, 12, 13, 14, 15, 16, 17, 18, 19, 20, 21, 22, 23, 24, 25, 26, 27, 28, 29], 'weights': ['uniform', 'distance']}\n"
     ]
    }
   ],
   "source": [
    "param_grid_knn = dict(n_neighbors=k_range, weights=weight_options)\n",
    "print(param_grid_knn)"
   ]
  },
  {
   "cell_type": "markdown",
   "metadata": {},
   "source": [
    "Evaluamos la mejor configuración de hiperparámetros de cada modelo: **LogReg** y **KNN**"
   ]
  },
  {
   "cell_type": "code",
   "execution_count": 112,
   "metadata": {},
   "outputs": [],
   "source": [
    "from sklearn.model_selection import StratifiedKFold\n",
    "folds=StratifiedKFold(n_splits=5, random_state=19, shuffle=True)"
   ]
  },
  {
   "cell_type": "code",
   "execution_count": null,
   "metadata": {},
   "outputs": [],
   "source": []
  },
  {
   "cell_type": "code",
   "execution_count": 113,
   "metadata": {},
   "outputs": [
    {
     "name": "stderr",
     "output_type": "stream",
     "text": [
      "/Users/horaciosuarez/opt/anaconda3/envs/dhdsblend/lib/python3.7/site-packages/sklearn/linear_model/_sag.py:330: ConvergenceWarning: The max_iter was reached which means the coef_ did not converge\n",
      "  \"the coef_ did not converge\", ConvergenceWarning)\n",
      "/Users/horaciosuarez/opt/anaconda3/envs/dhdsblend/lib/python3.7/site-packages/sklearn/linear_model/_sag.py:330: ConvergenceWarning: The max_iter was reached which means the coef_ did not converge\n",
      "  \"the coef_ did not converge\", ConvergenceWarning)\n",
      "/Users/horaciosuarez/opt/anaconda3/envs/dhdsblend/lib/python3.7/site-packages/sklearn/linear_model/_sag.py:330: ConvergenceWarning: The max_iter was reached which means the coef_ did not converge\n",
      "  \"the coef_ did not converge\", ConvergenceWarning)\n",
      "/Users/horaciosuarez/opt/anaconda3/envs/dhdsblend/lib/python3.7/site-packages/sklearn/linear_model/_sag.py:330: ConvergenceWarning: The max_iter was reached which means the coef_ did not converge\n",
      "  \"the coef_ did not converge\", ConvergenceWarning)\n",
      "/Users/horaciosuarez/opt/anaconda3/envs/dhdsblend/lib/python3.7/site-packages/sklearn/linear_model/_sag.py:330: ConvergenceWarning: The max_iter was reached which means the coef_ did not converge\n",
      "  \"the coef_ did not converge\", ConvergenceWarning)\n",
      "/Users/horaciosuarez/opt/anaconda3/envs/dhdsblend/lib/python3.7/site-packages/sklearn/linear_model/_sag.py:330: ConvergenceWarning: The max_iter was reached which means the coef_ did not converge\n",
      "  \"the coef_ did not converge\", ConvergenceWarning)\n",
      "/Users/horaciosuarez/opt/anaconda3/envs/dhdsblend/lib/python3.7/site-packages/sklearn/linear_model/_sag.py:330: ConvergenceWarning: The max_iter was reached which means the coef_ did not converge\n",
      "  \"the coef_ did not converge\", ConvergenceWarning)\n",
      "/Users/horaciosuarez/opt/anaconda3/envs/dhdsblend/lib/python3.7/site-packages/sklearn/linear_model/_sag.py:330: ConvergenceWarning: The max_iter was reached which means the coef_ did not converge\n",
      "  \"the coef_ did not converge\", ConvergenceWarning)\n",
      "/Users/horaciosuarez/opt/anaconda3/envs/dhdsblend/lib/python3.7/site-packages/sklearn/linear_model/_sag.py:330: ConvergenceWarning: The max_iter was reached which means the coef_ did not converge\n",
      "  \"the coef_ did not converge\", ConvergenceWarning)\n",
      "/Users/horaciosuarez/opt/anaconda3/envs/dhdsblend/lib/python3.7/site-packages/sklearn/linear_model/_sag.py:330: ConvergenceWarning: The max_iter was reached which means the coef_ did not converge\n",
      "  \"the coef_ did not converge\", ConvergenceWarning)\n",
      "/Users/horaciosuarez/opt/anaconda3/envs/dhdsblend/lib/python3.7/site-packages/sklearn/linear_model/_sag.py:330: ConvergenceWarning: The max_iter was reached which means the coef_ did not converge\n",
      "  \"the coef_ did not converge\", ConvergenceWarning)\n",
      "/Users/horaciosuarez/opt/anaconda3/envs/dhdsblend/lib/python3.7/site-packages/sklearn/linear_model/_sag.py:330: ConvergenceWarning: The max_iter was reached which means the coef_ did not converge\n",
      "  \"the coef_ did not converge\", ConvergenceWarning)\n",
      "/Users/horaciosuarez/opt/anaconda3/envs/dhdsblend/lib/python3.7/site-packages/sklearn/linear_model/_sag.py:330: ConvergenceWarning: The max_iter was reached which means the coef_ did not converge\n",
      "  \"the coef_ did not converge\", ConvergenceWarning)\n",
      "/Users/horaciosuarez/opt/anaconda3/envs/dhdsblend/lib/python3.7/site-packages/sklearn/linear_model/_sag.py:330: ConvergenceWarning: The max_iter was reached which means the coef_ did not converge\n",
      "  \"the coef_ did not converge\", ConvergenceWarning)\n",
      "/Users/horaciosuarez/opt/anaconda3/envs/dhdsblend/lib/python3.7/site-packages/sklearn/linear_model/_sag.py:330: ConvergenceWarning: The max_iter was reached which means the coef_ did not converge\n",
      "  \"the coef_ did not converge\", ConvergenceWarning)\n",
      "/Users/horaciosuarez/opt/anaconda3/envs/dhdsblend/lib/python3.7/site-packages/sklearn/linear_model/_sag.py:330: ConvergenceWarning: The max_iter was reached which means the coef_ did not converge\n",
      "  \"the coef_ did not converge\", ConvergenceWarning)\n",
      "/Users/horaciosuarez/opt/anaconda3/envs/dhdsblend/lib/python3.7/site-packages/sklearn/linear_model/_sag.py:330: ConvergenceWarning: The max_iter was reached which means the coef_ did not converge\n",
      "  \"the coef_ did not converge\", ConvergenceWarning)\n",
      "/Users/horaciosuarez/opt/anaconda3/envs/dhdsblend/lib/python3.7/site-packages/sklearn/linear_model/_sag.py:330: ConvergenceWarning: The max_iter was reached which means the coef_ did not converge\n",
      "  \"the coef_ did not converge\", ConvergenceWarning)\n",
      "/Users/horaciosuarez/opt/anaconda3/envs/dhdsblend/lib/python3.7/site-packages/sklearn/linear_model/_sag.py:330: ConvergenceWarning: The max_iter was reached which means the coef_ did not converge\n",
      "  \"the coef_ did not converge\", ConvergenceWarning)\n",
      "/Users/horaciosuarez/opt/anaconda3/envs/dhdsblend/lib/python3.7/site-packages/sklearn/linear_model/_sag.py:330: ConvergenceWarning: The max_iter was reached which means the coef_ did not converge\n",
      "  \"the coef_ did not converge\", ConvergenceWarning)\n",
      "/Users/horaciosuarez/opt/anaconda3/envs/dhdsblend/lib/python3.7/site-packages/sklearn/linear_model/_sag.py:330: ConvergenceWarning: The max_iter was reached which means the coef_ did not converge\n",
      "  \"the coef_ did not converge\", ConvergenceWarning)\n",
      "/Users/horaciosuarez/opt/anaconda3/envs/dhdsblend/lib/python3.7/site-packages/sklearn/linear_model/_sag.py:330: ConvergenceWarning: The max_iter was reached which means the coef_ did not converge\n",
      "  \"the coef_ did not converge\", ConvergenceWarning)\n",
      "/Users/horaciosuarez/opt/anaconda3/envs/dhdsblend/lib/python3.7/site-packages/sklearn/linear_model/_sag.py:330: ConvergenceWarning: The max_iter was reached which means the coef_ did not converge\n",
      "  \"the coef_ did not converge\", ConvergenceWarning)\n",
      "/Users/horaciosuarez/opt/anaconda3/envs/dhdsblend/lib/python3.7/site-packages/sklearn/linear_model/_sag.py:330: ConvergenceWarning: The max_iter was reached which means the coef_ did not converge\n",
      "  \"the coef_ did not converge\", ConvergenceWarning)\n",
      "/Users/horaciosuarez/opt/anaconda3/envs/dhdsblend/lib/python3.7/site-packages/sklearn/linear_model/_sag.py:330: ConvergenceWarning: The max_iter was reached which means the coef_ did not converge\n",
      "  \"the coef_ did not converge\", ConvergenceWarning)\n",
      "/Users/horaciosuarez/opt/anaconda3/envs/dhdsblend/lib/python3.7/site-packages/sklearn/linear_model/_sag.py:330: ConvergenceWarning: The max_iter was reached which means the coef_ did not converge\n",
      "  \"the coef_ did not converge\", ConvergenceWarning)\n",
      "/Users/horaciosuarez/opt/anaconda3/envs/dhdsblend/lib/python3.7/site-packages/sklearn/linear_model/_sag.py:330: ConvergenceWarning: The max_iter was reached which means the coef_ did not converge\n",
      "  \"the coef_ did not converge\", ConvergenceWarning)\n",
      "/Users/horaciosuarez/opt/anaconda3/envs/dhdsblend/lib/python3.7/site-packages/sklearn/linear_model/_sag.py:330: ConvergenceWarning: The max_iter was reached which means the coef_ did not converge\n",
      "  \"the coef_ did not converge\", ConvergenceWarning)\n",
      "/Users/horaciosuarez/opt/anaconda3/envs/dhdsblend/lib/python3.7/site-packages/sklearn/linear_model/_sag.py:330: ConvergenceWarning: The max_iter was reached which means the coef_ did not converge\n",
      "  \"the coef_ did not converge\", ConvergenceWarning)\n",
      "/Users/horaciosuarez/opt/anaconda3/envs/dhdsblend/lib/python3.7/site-packages/sklearn/linear_model/_sag.py:330: ConvergenceWarning: The max_iter was reached which means the coef_ did not converge\n",
      "  \"the coef_ did not converge\", ConvergenceWarning)\n",
      "/Users/horaciosuarez/opt/anaconda3/envs/dhdsblend/lib/python3.7/site-packages/sklearn/linear_model/_sag.py:330: ConvergenceWarning: The max_iter was reached which means the coef_ did not converge\n",
      "  \"the coef_ did not converge\", ConvergenceWarning)\n",
      "/Users/horaciosuarez/opt/anaconda3/envs/dhdsblend/lib/python3.7/site-packages/sklearn/linear_model/_sag.py:330: ConvergenceWarning: The max_iter was reached which means the coef_ did not converge\n",
      "  \"the coef_ did not converge\", ConvergenceWarning)\n"
     ]
    },
    {
     "data": {
      "text/plain": [
       "GridSearchCV(cv=StratifiedKFold(n_splits=5, random_state=19, shuffle=True),\n",
       "             estimator=KNeighborsClassifier(),\n",
       "             param_grid={'n_neighbors': [1, 2, 3, 4, 5, 6, 7, 8, 9, 10, 11, 12,\n",
       "                                         13, 14, 15, 16, 17, 18, 19, 20, 21, 22,\n",
       "                                         23, 24, 25, 26, 27, 28, 29],\n",
       "                         'weights': ['uniform', 'distance']},\n",
       "             scoring='accuracy')"
      ]
     },
     "execution_count": 113,
     "metadata": {},
     "output_type": "execute_result"
    }
   ],
   "source": [
    "grid_lr = GridSearchCV(lr, param_grid_lr, cv=folds, scoring='accuracy')\n",
    "grid_lr.fit(X_train_encoder, y_train)\n",
    "grid_knn = GridSearchCV(knn, param_grid_knn, cv=folds, scoring='accuracy')\n",
    "grid_knn.fit(X_train_encoder, y_train)"
   ]
  },
  {
   "cell_type": "code",
   "execution_count": 114,
   "metadata": {},
   "outputs": [
    {
     "name": "stdout",
     "output_type": "stream",
     "text": [
      "Logistic Regression:\n",
      "LogisticRegression(C=0.11222222222222222, penalty='l1', solver='saga')\n",
      "0.998358553151161\n",
      "{'C': 0.11222222222222222, 'penalty': 'l1', 'solver': 'saga'}\n",
      "######################\n",
      "KNN:\n",
      "KNeighborsClassifier(n_neighbors=1)\n",
      "1.0\n",
      "{'n_neighbors': 1, 'weights': 'uniform'}\n"
     ]
    }
   ],
   "source": [
    "print(\"Logistic Regression:\")\n",
    "print(grid_lr.best_estimator_)\n",
    "print(grid_lr.best_score_)\n",
    "print(grid_lr.best_params_)\n",
    "print(\"######################\")\n",
    "print(\"KNN:\")\n",
    "print(grid_knn.best_estimator_)\n",
    "print(grid_knn.best_score_)\n",
    "print(grid_knn.best_params_)"
   ]
  },
  {
   "cell_type": "code",
   "execution_count": 115,
   "metadata": {},
   "outputs": [],
   "source": [
    "y_pred_grid_lr = grid_lr.predict(X_test_encoder)\n",
    "y_pred_grid_knn = grid_knn.predict(X_test_encoder)"
   ]
  },
  {
   "cell_type": "code",
   "execution_count": 116,
   "metadata": {},
   "outputs": [
    {
     "name": "stdout",
     "output_type": "stream",
     "text": [
      "              precision    recall  f1-score   support\n",
      "\n",
      "           0       1.00      1.00      1.00      1683\n",
      "           1       1.00      0.99      1.00      1567\n",
      "\n",
      "    accuracy                           1.00      3250\n",
      "   macro avg       1.00      1.00      1.00      3250\n",
      "weighted avg       1.00      1.00      1.00      3250\n",
      "\n",
      "              precision    recall  f1-score   support\n",
      "\n",
      "           0       1.00      1.00      1.00      1683\n",
      "           1       1.00      1.00      1.00      1567\n",
      "\n",
      "    accuracy                           1.00      3250\n",
      "   macro avg       1.00      1.00      1.00      3250\n",
      "weighted avg       1.00      1.00      1.00      3250\n",
      "\n"
     ]
    }
   ],
   "source": [
    "print (classification_report(y_test, y_pred_grid_lr))\n",
    "print (classification_report(y_test, y_pred_grid_knn))"
   ]
  },
  {
   "cell_type": "code",
   "execution_count": 117,
   "metadata": {},
   "outputs": [
    {
     "name": "stdout",
     "output_type": "stream",
     "text": [
      "[[1683    0]\n",
      " [   8 1559]]\n",
      "[[1683    0]\n",
      " [   0 1567]]\n"
     ]
    },
    {
     "data": {
      "image/png": "[encoded data removed]",
      "text/plain": [
       "<Figure size 432x288 with 2 Axes>"
      ]
     },
     "metadata": {
      "needs_background": "light"
     },
     "output_type": "display_data"
    }
   ],
   "source": [
    "import matplotlib.pyplot as plt\n",
    "%matplotlib inline\n",
    "import seaborn as sns\n",
    "confusion_lr = confusion_matrix(y_test, y_pred_grid_lr)\n",
    "print(confusion_lr)\n",
    "confusion_knn = confusion_matrix(y_test, y_pred_grid_knn)\n",
    "print(confusion_knn)\n",
    "sns.heatmap(confusion_lr, annot=True, fmt='.0f')\n",
    "plt.ylabel('Verdaderos')\n",
    "plt.xlabel('Predichos');"
   ]
  },
  {
   "cell_type": "code",
   "execution_count": 118,
   "metadata": {},
   "outputs": [
    {
     "data": {
      "image/png": "[encoded data removed]",
      "text/plain": [
       "<Figure size 432x288 with 2 Axes>"
      ]
     },
     "metadata": {
      "needs_background": "light"
     },
     "output_type": "display_data"
    }
   ],
   "source": [
    "sns.heatmap(confusion_knn, annot=True, fmt='.0f')\n",
    "plt.ylabel('Verdaderos')\n",
    "plt.xlabel('Predichos');"
   ]
  },
  {
   "cell_type": "code",
   "execution_count": 119,
   "metadata": {},
   "outputs": [
    {
     "data": {
      "text/html": [
       "<div>\n",
       "<style scoped>\n",
       "    .dataframe tbody tr th:only-of-type {\n",
       "        vertical-align: middle;\n",
       "    }\n",
       "\n",
       "    .dataframe tbody tr th {\n",
       "        vertical-align: top;\n",
       "    }\n",
       "\n",
       "    .dataframe thead th {\n",
       "        text-align: right;\n",
       "    }\n",
       "</style>\n",
       "<table border=\"1\" class=\"dataframe\">\n",
       "  <thead>\n",
       "    <tr style=\"text-align: right;\">\n",
       "      <th></th>\n",
       "      <th>0</th>\n",
       "      <th>1</th>\n",
       "    </tr>\n",
       "  </thead>\n",
       "  <tbody>\n",
       "    <tr>\n",
       "      <th>0</th>\n",
       "      <td>0.992613</td>\n",
       "      <td>0.007387</td>\n",
       "    </tr>\n",
       "    <tr>\n",
       "      <th>1</th>\n",
       "      <td>0.027825</td>\n",
       "      <td>0.972175</td>\n",
       "    </tr>\n",
       "    <tr>\n",
       "      <th>2</th>\n",
       "      <td>0.997574</td>\n",
       "      <td>0.002426</td>\n",
       "    </tr>\n",
       "    <tr>\n",
       "      <th>3</th>\n",
       "      <td>0.982865</td>\n",
       "      <td>0.017135</td>\n",
       "    </tr>\n",
       "    <tr>\n",
       "      <th>4</th>\n",
       "      <td>0.998700</td>\n",
       "      <td>0.001300</td>\n",
       "    </tr>\n",
       "    <tr>\n",
       "      <th>...</th>\n",
       "      <td>...</td>\n",
       "      <td>...</td>\n",
       "    </tr>\n",
       "    <tr>\n",
       "      <th>3245</th>\n",
       "      <td>0.003274</td>\n",
       "      <td>0.996726</td>\n",
       "    </tr>\n",
       "    <tr>\n",
       "      <th>3246</th>\n",
       "      <td>0.980405</td>\n",
       "      <td>0.019595</td>\n",
       "    </tr>\n",
       "    <tr>\n",
       "      <th>3247</th>\n",
       "      <td>0.193750</td>\n",
       "      <td>0.806250</td>\n",
       "    </tr>\n",
       "    <tr>\n",
       "      <th>3248</th>\n",
       "      <td>0.997638</td>\n",
       "      <td>0.002362</td>\n",
       "    </tr>\n",
       "    <tr>\n",
       "      <th>3249</th>\n",
       "      <td>0.004622</td>\n",
       "      <td>0.995378</td>\n",
       "    </tr>\n",
       "  </tbody>\n",
       "</table>\n",
       "<p>3250 rows × 2 columns</p>\n",
       "</div>"
      ],
      "text/plain": [
       "             0         1\n",
       "0     0.992613  0.007387\n",
       "1     0.027825  0.972175\n",
       "2     0.997574  0.002426\n",
       "3     0.982865  0.017135\n",
       "4     0.998700  0.001300\n",
       "...        ...       ...\n",
       "3245  0.003274  0.996726\n",
       "3246  0.980405  0.019595\n",
       "3247  0.193750  0.806250\n",
       "3248  0.997638  0.002362\n",
       "3249  0.004622  0.995378\n",
       "\n",
       "[3250 rows x 2 columns]"
      ]
     },
     "execution_count": 119,
     "metadata": {},
     "output_type": "execute_result"
    }
   ],
   "source": [
    "y_pred_lr_proba = grid_lr.predict_proba(X_test_encoder)\n",
    "y_pred_lr_proba_df = pd.DataFrame(y_pred_lr_proba)\n",
    "y_pred_lr_proba_df"
   ]
  },
  {
   "cell_type": "markdown",
   "metadata": {},
   "source": [
    "### Test sobre los threshold"
   ]
  },
  {
   "cell_type": "code",
   "execution_count": 120,
   "metadata": {},
   "outputs": [
    {
     "data": {
      "text/plain": [
       "1.0"
      ]
     },
     "execution_count": 120,
     "metadata": {},
     "output_type": "execute_result"
    }
   ],
   "source": [
    "# Specificity\n",
    "TP = confusion_lr[1, 1]\n",
    "TN = confusion_lr[0, 0]\n",
    "FP = confusion_lr[0, 1]\n",
    "FN = confusion_lr[1, 0]\n",
    "\n",
    "speci = TN/(TN+FP)\n",
    "speci"
   ]
  },
  {
   "cell_type": "markdown",
   "metadata": {},
   "source": [
    "### Curva ROC"
   ]
  },
  {
   "cell_type": "code",
   "execution_count": 121,
   "metadata": {},
   "outputs": [
    {
     "data": {
      "image/png": "[encoded data removed]",
      "text/plain": [
       "<Figure size 432x288 with 1 Axes>"
      ]
     },
     "metadata": {
      "needs_background": "light"
     },
     "output_type": "display_data"
    }
   ],
   "source": [
    "from sklearn.metrics import roc_curve\n",
    "fpr_lr,tpr_lr,thr_lr = roc_curve(y_test, y_pred_lr_proba[:,1])\n",
    "\n",
    "df = pd.DataFrame(dict(fpr=fpr_lr, tpr=tpr_lr, thr = thr_lr))\n",
    "\n",
    "plt.axis([0, 1.01, 0, 1.01])\n",
    "plt.xlabel('1 - Specificty')\n",
    "plt.ylabel('TPR / Sensitivity')\n",
    "plt.title('ROC Curve')\n",
    "plt.plot(df['fpr'],df['tpr'])\n",
    "plt.plot(np.arange(0,1, step =0.01), np.arange(0,1, step =0.01))\n",
    "plt.show()"
   ]
  },
  {
   "cell_type": "code",
   "execution_count": 122,
   "metadata": {},
   "outputs": [
    {
     "name": "stdout",
     "output_type": "stream",
     "text": [
      "AUC= 0.9997106846838444\n"
     ]
    }
   ],
   "source": [
    "from sklearn.metrics import auc\n",
    "print('AUC=', auc(fpr_lr, tpr_lr))"
   ]
  },
  {
   "cell_type": "code",
   "execution_count": 123,
   "metadata": {},
   "outputs": [
    {
     "data": {
      "text/plain": [
       "(0, 1)"
      ]
     },
     "execution_count": 123,
     "metadata": {},
     "output_type": "execute_result"
    },
    {
     "data": {
      "image/png": "[encoded data removed]",
      "text/plain": [
       "<Figure size 432x288 with 1 Axes>"
      ]
     },
     "metadata": {
      "needs_background": "light"
     },
     "output_type": "display_data"
    }
   ],
   "source": [
    "from sklearn.metrics import precision_recall_curve\n",
    "\n",
    "precision, recall, thresholds = precision_recall_curve(y_test, y_pred_lr_proba[:,1])\n",
    "   #retrieve probability of being 1(in second column of probs_y)\n",
    "pr_auc = auc(recall, precision)\n",
    "plt.title('Precision Recall vs Threshold Chart')\n",
    "plt.plot(thresholds, precision[: -1], 'b--', label='Precision')\n",
    "plt.plot(thresholds, recall[: -1], 'r--', label='Recall')\n",
    "plt.ylabel('Precision, Recall')\n",
    "plt.xlabel('Threshold')\n",
    "plt.legend(loc='lower left')\n",
    "plt.ylim([0,1])"
   ]
  },
  {
   "cell_type": "code",
   "execution_count": 127,
   "metadata": {},
   "outputs": [
    {
     "data": {
      "text/plain": [
       "LogisticRegression(C=0.11222222222222222, penalty='l1', solver='saga')"
      ]
     },
     "execution_count": 127,
     "metadata": {},
     "output_type": "execute_result"
    }
   ],
   "source": [
    "best_lr= grid_lr.best_estimator_\n",
    "best_lr"
   ]
  },
  {
   "cell_type": "markdown",
   "metadata": {},
   "source": [
    "### Revisar los coeficientes y estudiar la situación"
   ]
  },
  {
   "cell_type": "code",
   "execution_count": 143,
   "metadata": {},
   "outputs": [
    {
     "data": {
      "text/html": [
       "<div>\n",
       "<style scoped>\n",
       "    .dataframe tbody tr th:only-of-type {\n",
       "        vertical-align: middle;\n",
       "    }\n",
       "\n",
       "    .dataframe tbody tr th {\n",
       "        vertical-align: top;\n",
       "    }\n",
       "\n",
       "    .dataframe thead th {\n",
       "        text-align: right;\n",
       "    }\n",
       "</style>\n",
       "<table border=\"1\" class=\"dataframe\">\n",
       "  <thead>\n",
       "    <tr style=\"text-align: right;\">\n",
       "      <th></th>\n",
       "      <th>0</th>\n",
       "    </tr>\n",
       "  </thead>\n",
       "  <tbody>\n",
       "    <tr>\n",
       "      <th>odor_n</th>\n",
       "      <td>-3.734835</td>\n",
       "    </tr>\n",
       "    <tr>\n",
       "      <th>gill-spacing_w</th>\n",
       "      <td>-1.587840</td>\n",
       "    </tr>\n",
       "    <tr>\n",
       "      <th>odor_l</th>\n",
       "      <td>-1.101546</td>\n",
       "    </tr>\n",
       "    <tr>\n",
       "      <th>bruises_t</th>\n",
       "      <td>-0.840531</td>\n",
       "    </tr>\n",
       "    <tr>\n",
       "      <th>stalk-surface-above-ring_s</th>\n",
       "      <td>-0.812694</td>\n",
       "    </tr>\n",
       "    <tr>\n",
       "      <th>stalk-color-above-ring_w</th>\n",
       "      <td>-0.267414</td>\n",
       "    </tr>\n",
       "    <tr>\n",
       "      <th>stalk-root_c</th>\n",
       "      <td>-0.223365</td>\n",
       "    </tr>\n",
       "    <tr>\n",
       "      <th>spore-print-color_n</th>\n",
       "      <td>-0.214177</td>\n",
       "    </tr>\n",
       "    <tr>\n",
       "      <th>cap-color_y</th>\n",
       "      <td>-0.107375</td>\n",
       "    </tr>\n",
       "    <tr>\n",
       "      <th>ring-type_p</th>\n",
       "      <td>-0.103970</td>\n",
       "    </tr>\n",
       "    <tr>\n",
       "      <th>population_y</th>\n",
       "      <td>-0.017988</td>\n",
       "    </tr>\n",
       "    <tr>\n",
       "      <th>gill-color_n</th>\n",
       "      <td>-0.000003</td>\n",
       "    </tr>\n",
       "    <tr>\n",
       "      <th>stalk-color-below-ring_p</th>\n",
       "      <td>0.000000</td>\n",
       "    </tr>\n",
       "    <tr>\n",
       "      <th>stalk-color-below-ring_w</th>\n",
       "      <td>0.000000</td>\n",
       "    </tr>\n",
       "    <tr>\n",
       "      <th>stalk-color-below-ring_n</th>\n",
       "      <td>0.000000</td>\n",
       "    </tr>\n",
       "    <tr>\n",
       "      <th>stalk-color-below-ring_y</th>\n",
       "      <td>0.000000</td>\n",
       "    </tr>\n",
       "    <tr>\n",
       "      <th>stalk-color-below-ring_o</th>\n",
       "      <td>0.000000</td>\n",
       "    </tr>\n",
       "    <tr>\n",
       "      <th>cap-shape_c</th>\n",
       "      <td>0.000000</td>\n",
       "    </tr>\n",
       "    <tr>\n",
       "      <th>veil-color_o</th>\n",
       "      <td>0.000000</td>\n",
       "    </tr>\n",
       "    <tr>\n",
       "      <th>stalk-color-below-ring_c</th>\n",
       "      <td>0.000000</td>\n",
       "    </tr>\n",
       "    <tr>\n",
       "      <th>stalk-color-above-ring_y</th>\n",
       "      <td>0.000000</td>\n",
       "    </tr>\n",
       "    <tr>\n",
       "      <th>stalk-color-above-ring_p</th>\n",
       "      <td>0.000000</td>\n",
       "    </tr>\n",
       "    <tr>\n",
       "      <th>stalk-color-above-ring_o</th>\n",
       "      <td>0.000000</td>\n",
       "    </tr>\n",
       "    <tr>\n",
       "      <th>stalk-color-above-ring_n</th>\n",
       "      <td>0.000000</td>\n",
       "    </tr>\n",
       "    <tr>\n",
       "      <th>stalk-color-above-ring_g</th>\n",
       "      <td>0.000000</td>\n",
       "    </tr>\n",
       "    <tr>\n",
       "      <th>stalk-color-above-ring_e</th>\n",
       "      <td>0.000000</td>\n",
       "    </tr>\n",
       "    <tr>\n",
       "      <th>stalk-color-below-ring_g</th>\n",
       "      <td>0.000000</td>\n",
       "    </tr>\n",
       "    <tr>\n",
       "      <th>stalk-color-below-ring_e</th>\n",
       "      <td>0.000000</td>\n",
       "    </tr>\n",
       "    <tr>\n",
       "      <th>ring-number_o</th>\n",
       "      <td>0.000000</td>\n",
       "    </tr>\n",
       "    <tr>\n",
       "      <th>veil-color_y</th>\n",
       "      <td>0.000000</td>\n",
       "    </tr>\n",
       "    <tr>\n",
       "      <th>habitat_p</th>\n",
       "      <td>0.000000</td>\n",
       "    </tr>\n",
       "    <tr>\n",
       "      <th>habitat_m</th>\n",
       "      <td>0.000000</td>\n",
       "    </tr>\n",
       "    <tr>\n",
       "      <th>habitat_l</th>\n",
       "      <td>0.000000</td>\n",
       "    </tr>\n",
       "    <tr>\n",
       "      <th>habitat_g</th>\n",
       "      <td>0.000000</td>\n",
       "    </tr>\n",
       "    <tr>\n",
       "      <th>population_s</th>\n",
       "      <td>0.000000</td>\n",
       "    </tr>\n",
       "    <tr>\n",
       "      <th>population_n</th>\n",
       "      <td>0.000000</td>\n",
       "    </tr>\n",
       "    <tr>\n",
       "      <th>population_c</th>\n",
       "      <td>0.000000</td>\n",
       "    </tr>\n",
       "    <tr>\n",
       "      <th>spore-print-color_y</th>\n",
       "      <td>0.000000</td>\n",
       "    </tr>\n",
       "    <tr>\n",
       "      <th>spore-print-color_u</th>\n",
       "      <td>0.000000</td>\n",
       "    </tr>\n",
       "    <tr>\n",
       "      <th>spore-print-color_o</th>\n",
       "      <td>0.000000</td>\n",
       "    </tr>\n",
       "    <tr>\n",
       "      <th>spore-print-color_k</th>\n",
       "      <td>0.000000</td>\n",
       "    </tr>\n",
       "    <tr>\n",
       "      <th>spore-print-color_h</th>\n",
       "      <td>0.000000</td>\n",
       "    </tr>\n",
       "    <tr>\n",
       "      <th>ring-type_n</th>\n",
       "      <td>0.000000</td>\n",
       "    </tr>\n",
       "    <tr>\n",
       "      <th>ring-type_l</th>\n",
       "      <td>0.000000</td>\n",
       "    </tr>\n",
       "    <tr>\n",
       "      <th>ring-type_f</th>\n",
       "      <td>0.000000</td>\n",
       "    </tr>\n",
       "    <tr>\n",
       "      <th>ring-number_t</th>\n",
       "      <td>0.000000</td>\n",
       "    </tr>\n",
       "    <tr>\n",
       "      <th>stalk-color-above-ring_c</th>\n",
       "      <td>0.000000</td>\n",
       "    </tr>\n",
       "    <tr>\n",
       "      <th>veil-color_w</th>\n",
       "      <td>0.000000</td>\n",
       "    </tr>\n",
       "    <tr>\n",
       "      <th>stalk-surface-below-ring_y</th>\n",
       "      <td>0.000000</td>\n",
       "    </tr>\n",
       "    <tr>\n",
       "      <th>stalk-surface-above-ring_y</th>\n",
       "      <td>0.000000</td>\n",
       "    </tr>\n",
       "    <tr>\n",
       "      <th>stalk-surface-below-ring_k</th>\n",
       "      <td>0.000000</td>\n",
       "    </tr>\n",
       "    <tr>\n",
       "      <th>stalk-surface-below-ring_s</th>\n",
       "      <td>0.000000</td>\n",
       "    </tr>\n",
       "    <tr>\n",
       "      <th>cap-color_w</th>\n",
       "      <td>0.000000</td>\n",
       "    </tr>\n",
       "    <tr>\n",
       "      <th>cap-color_u</th>\n",
       "      <td>0.000000</td>\n",
       "    </tr>\n",
       "    <tr>\n",
       "      <th>cap-color_r</th>\n",
       "      <td>0.000000</td>\n",
       "    </tr>\n",
       "    <tr>\n",
       "      <th>cap-color_p</th>\n",
       "      <td>0.000000</td>\n",
       "    </tr>\n",
       "    <tr>\n",
       "      <th>cap-color_n</th>\n",
       "      <td>0.000000</td>\n",
       "    </tr>\n",
       "    <tr>\n",
       "      <th>cap-color_g</th>\n",
       "      <td>0.000000</td>\n",
       "    </tr>\n",
       "    <tr>\n",
       "      <th>odor_s</th>\n",
       "      <td>0.000000</td>\n",
       "    </tr>\n",
       "    <tr>\n",
       "      <th>cap-color_e</th>\n",
       "      <td>0.000000</td>\n",
       "    </tr>\n",
       "    <tr>\n",
       "      <th>cap-surface_y</th>\n",
       "      <td>0.000000</td>\n",
       "    </tr>\n",
       "    <tr>\n",
       "      <th>cap-surface_s</th>\n",
       "      <td>0.000000</td>\n",
       "    </tr>\n",
       "    <tr>\n",
       "      <th>cap-surface_g</th>\n",
       "      <td>0.000000</td>\n",
       "    </tr>\n",
       "    <tr>\n",
       "      <th>cap-shape_x</th>\n",
       "      <td>0.000000</td>\n",
       "    </tr>\n",
       "    <tr>\n",
       "      <th>cap-shape_s</th>\n",
       "      <td>0.000000</td>\n",
       "    </tr>\n",
       "    <tr>\n",
       "      <th>cap-shape_k</th>\n",
       "      <td>0.000000</td>\n",
       "    </tr>\n",
       "    <tr>\n",
       "      <th>cap-shape_f</th>\n",
       "      <td>0.000000</td>\n",
       "    </tr>\n",
       "    <tr>\n",
       "      <th>cap-color_c</th>\n",
       "      <td>0.000000</td>\n",
       "    </tr>\n",
       "    <tr>\n",
       "      <th>odor_y</th>\n",
       "      <td>0.000000</td>\n",
       "    </tr>\n",
       "    <tr>\n",
       "      <th>odor_m</th>\n",
       "      <td>0.000000</td>\n",
       "    </tr>\n",
       "    <tr>\n",
       "      <th>habitat_w</th>\n",
       "      <td>0.000000</td>\n",
       "    </tr>\n",
       "    <tr>\n",
       "      <th>stalk-shape_t</th>\n",
       "      <td>0.000000</td>\n",
       "    </tr>\n",
       "    <tr>\n",
       "      <th>gill-color_y</th>\n",
       "      <td>0.000000</td>\n",
       "    </tr>\n",
       "    <tr>\n",
       "      <th>gill-color_w</th>\n",
       "      <td>0.000000</td>\n",
       "    </tr>\n",
       "    <tr>\n",
       "      <th>gill-color_u</th>\n",
       "      <td>0.000000</td>\n",
       "    </tr>\n",
       "    <tr>\n",
       "      <th>gill-attachment_f</th>\n",
       "      <td>0.000000</td>\n",
       "    </tr>\n",
       "    <tr>\n",
       "      <th>gill-color_r</th>\n",
       "      <td>0.000000</td>\n",
       "    </tr>\n",
       "    <tr>\n",
       "      <th>stalk-root_e</th>\n",
       "      <td>0.000000</td>\n",
       "    </tr>\n",
       "    <tr>\n",
       "      <th>gill-color_p</th>\n",
       "      <td>0.000000</td>\n",
       "    </tr>\n",
       "    <tr>\n",
       "      <th>gill-color_k</th>\n",
       "      <td>0.000000</td>\n",
       "    </tr>\n",
       "    <tr>\n",
       "      <th>gill-color_h</th>\n",
       "      <td>0.000000</td>\n",
       "    </tr>\n",
       "    <tr>\n",
       "      <th>gill-color_g</th>\n",
       "      <td>0.000000</td>\n",
       "    </tr>\n",
       "    <tr>\n",
       "      <th>stalk-root_r</th>\n",
       "      <td>0.000000</td>\n",
       "    </tr>\n",
       "    <tr>\n",
       "      <th>gill-color_e</th>\n",
       "      <td>0.000000</td>\n",
       "    </tr>\n",
       "    <tr>\n",
       "      <th>habitat_u</th>\n",
       "      <td>0.000000</td>\n",
       "    </tr>\n",
       "    <tr>\n",
       "      <th>gill-color_o</th>\n",
       "      <td>0.000000</td>\n",
       "    </tr>\n",
       "    <tr>\n",
       "      <th>stalk-root_b</th>\n",
       "      <td>0.000000</td>\n",
       "    </tr>\n",
       "    <tr>\n",
       "      <th>population_v</th>\n",
       "      <td>0.107461</td>\n",
       "    </tr>\n",
       "    <tr>\n",
       "      <th>stalk-surface-above-ring_k</th>\n",
       "      <td>0.595976</td>\n",
       "    </tr>\n",
       "    <tr>\n",
       "      <th>spore-print-color_w</th>\n",
       "      <td>1.847741</td>\n",
       "    </tr>\n",
       "    <tr>\n",
       "      <th>odor_c</th>\n",
       "      <td>1.916580</td>\n",
       "    </tr>\n",
       "    <tr>\n",
       "      <th>odor_p</th>\n",
       "      <td>2.048635</td>\n",
       "    </tr>\n",
       "    <tr>\n",
       "      <th>gill-size_n</th>\n",
       "      <td>3.062755</td>\n",
       "    </tr>\n",
       "    <tr>\n",
       "      <th>odor_f</th>\n",
       "      <td>5.256574</td>\n",
       "    </tr>\n",
       "    <tr>\n",
       "      <th>spore-print-color_r</th>\n",
       "      <td>7.319446</td>\n",
       "    </tr>\n",
       "  </tbody>\n",
       "</table>\n",
       "</div>"
      ],
      "text/plain": [
       "                                   0\n",
       "odor_n                     -3.734835\n",
       "gill-spacing_w             -1.587840\n",
       "odor_l                     -1.101546\n",
       "bruises_t                  -0.840531\n",
       "stalk-surface-above-ring_s -0.812694\n",
       "stalk-color-above-ring_w   -0.267414\n",
       "stalk-root_c               -0.223365\n",
       "spore-print-color_n        -0.214177\n",
       "cap-color_y                -0.107375\n",
       "ring-type_p                -0.103970\n",
       "population_y               -0.017988\n",
       "gill-color_n               -0.000003\n",
       "stalk-color-below-ring_p    0.000000\n",
       "stalk-color-below-ring_w    0.000000\n",
       "stalk-color-below-ring_n    0.000000\n",
       "stalk-color-below-ring_y    0.000000\n",
       "stalk-color-below-ring_o    0.000000\n",
       "cap-shape_c                 0.000000\n",
       "veil-color_o                0.000000\n",
       "stalk-color-below-ring_c    0.000000\n",
       "stalk-color-above-ring_y    0.000000\n",
       "stalk-color-above-ring_p    0.000000\n",
       "stalk-color-above-ring_o    0.000000\n",
       "stalk-color-above-ring_n    0.000000\n",
       "stalk-color-above-ring_g    0.000000\n",
       "stalk-color-above-ring_e    0.000000\n",
       "stalk-color-below-ring_g    0.000000\n",
       "stalk-color-below-ring_e    0.000000\n",
       "ring-number_o               0.000000\n",
       "veil-color_y                0.000000\n",
       "habitat_p                   0.000000\n",
       "habitat_m                   0.000000\n",
       "habitat_l                   0.000000\n",
       "habitat_g                   0.000000\n",
       "population_s                0.000000\n",
       "population_n                0.000000\n",
       "population_c                0.000000\n",
       "spore-print-color_y         0.000000\n",
       "spore-print-color_u         0.000000\n",
       "spore-print-color_o         0.000000\n",
       "spore-print-color_k         0.000000\n",
       "spore-print-color_h         0.000000\n",
       "ring-type_n                 0.000000\n",
       "ring-type_l                 0.000000\n",
       "ring-type_f                 0.000000\n",
       "ring-number_t               0.000000\n",
       "stalk-color-above-ring_c    0.000000\n",
       "veil-color_w                0.000000\n",
       "stalk-surface-below-ring_y  0.000000\n",
       "stalk-surface-above-ring_y  0.000000\n",
       "stalk-surface-below-ring_k  0.000000\n",
       "stalk-surface-below-ring_s  0.000000\n",
       "cap-color_w                 0.000000\n",
       "cap-color_u                 0.000000\n",
       "cap-color_r                 0.000000\n",
       "cap-color_p                 0.000000\n",
       "cap-color_n                 0.000000\n",
       "cap-color_g                 0.000000\n",
       "odor_s                      0.000000\n",
       "cap-color_e                 0.000000\n",
       "cap-surface_y               0.000000\n",
       "cap-surface_s               0.000000\n",
       "cap-surface_g               0.000000\n",
       "cap-shape_x                 0.000000\n",
       "cap-shape_s                 0.000000\n",
       "cap-shape_k                 0.000000\n",
       "cap-shape_f                 0.000000\n",
       "cap-color_c                 0.000000\n",
       "odor_y                      0.000000\n",
       "odor_m                      0.000000\n",
       "habitat_w                   0.000000\n",
       "stalk-shape_t               0.000000\n",
       "gill-color_y                0.000000\n",
       "gill-color_w                0.000000\n",
       "gill-color_u                0.000000\n",
       "gill-attachment_f           0.000000\n",
       "gill-color_r                0.000000\n",
       "stalk-root_e                0.000000\n",
       "gill-color_p                0.000000\n",
       "gill-color_k                0.000000\n",
       "gill-color_h                0.000000\n",
       "gill-color_g                0.000000\n",
       "stalk-root_r                0.000000\n",
       "gill-color_e                0.000000\n",
       "habitat_u                   0.000000\n",
       "gill-color_o                0.000000\n",
       "stalk-root_b                0.000000\n",
       "population_v                0.107461\n",
       "stalk-surface-above-ring_k  0.595976\n",
       "spore-print-color_w         1.847741\n",
       "odor_c                      1.916580\n",
       "odor_p                      2.048635\n",
       "gill-size_n                 3.062755\n",
       "odor_f                      5.256574\n",
       "spore-print-color_r         7.319446"
      ]
     },
     "metadata": {},
     "output_type": "display_data"
    }
   ],
   "source": [
    "coeficientes = pd.DataFrame(best_lr.coef_, columns=encoder.get_feature_names(input_features=X_train.columns)).T\n",
    "pd.set_option('display.max_rows', None)\n",
    "display(coeficientes.sort_values(by=0))"
   ]
  },
  {
   "cell_type": "markdown",
   "metadata": {},
   "source": [
    "## Naive Bayes"
   ]
  },
  {
   "cell_type": "code",
   "execution_count": 144,
   "metadata": {},
   "outputs": [],
   "source": [
    "from sklearn.naive_bayes import GaussianNB"
   ]
  },
  {
   "cell_type": "code",
   "execution_count": 146,
   "metadata": {},
   "outputs": [
    {
     "data": {
      "text/plain": [
       "GaussianNB()"
      ]
     },
     "execution_count": 146,
     "metadata": {},
     "output_type": "execute_result"
    }
   ],
   "source": [
    "gnb = GaussianNB()\n",
    "\n",
    "gnb.fit(X_train_encoder.todense(), y_train)"
   ]
  },
  {
   "cell_type": "code",
   "execution_count": 150,
   "metadata": {},
   "outputs": [
    {
     "data": {
      "text/plain": [
       "array([0, 1, 0, ..., 1, 0, 1])"
      ]
     },
     "execution_count": 150,
     "metadata": {},
     "output_type": "execute_result"
    }
   ],
   "source": [
    "y_pred_gnb = gnb.predict(X_test_encoder.todense())\n",
    "\n",
    "y_pred_gnb"
   ]
  },
  {
   "cell_type": "code",
   "execution_count": 164,
   "metadata": {},
   "outputs": [
    {
     "data": {
      "text/plain": [
       "0.94"
      ]
     },
     "execution_count": 164,
     "metadata": {},
     "output_type": "execute_result"
    }
   ],
   "source": [
    "from sklearn.metrics import accuracy_score\n",
    "round(accuracy_score(y_test, y_pred_gnb), 2)"
   ]
  },
  {
   "cell_type": "code",
   "execution_count": 154,
   "metadata": {},
   "outputs": [
    {
     "name": "stdout",
     "output_type": "stream",
     "text": [
      "[[1496  187]\n",
      " [   1 1566]]\n"
     ]
    },
    {
     "data": {
      "image/png": "[encoded data removed]",
      "text/plain": [
       "<Figure size 432x288 with 2 Axes>"
      ]
     },
     "metadata": {
      "needs_background": "light"
     },
     "output_type": "display_data"
    }
   ],
   "source": [
    "confusion_gnb = confusion_matrix(y_test, y_pred_gnb)\n",
    "print(confusion_gnb)\n",
    "sns.heatmap(confusion_gnb, annot=True, fmt='.0f')\n",
    "plt.ylabel('Verdaderos')\n",
    "plt.xlabel('Predichos');"
   ]
  },
  {
   "cell_type": "markdown",
   "metadata": {},
   "source": [
    "## DesicionTreeClassifier"
   ]
  },
  {
   "cell_type": "code",
   "execution_count": 156,
   "metadata": {},
   "outputs": [],
   "source": [
    "from sklearn.tree import DecisionTreeClassifier, export_graphviz\n",
    "import graphviz\n"
   ]
  },
  {
   "cell_type": "code",
   "execution_count": 157,
   "metadata": {},
   "outputs": [],
   "source": [
    "dt = DecisionTreeClassifier()\n",
    "dt = dt.fit(X_train_encoder, y_train)"
   ]
  },
  {
   "cell_type": "code",
   "execution_count": 158,
   "metadata": {},
   "outputs": [
    {
     "data": {
      "image/svg+xml": [
       "<?xml version=\"1.0\" encoding=\"UTF-8\" standalone=\"no\"?>\n",
       "<!DOCTYPE svg PUBLIC \"-//W3C//DTD SVG 1.1//EN\"\n",
       " \"http://www.w3.org/Graphics/SVG/1.1/DTD/svg11.dtd\">\n",
       "<!-- Generated by graphviz version 2.42.3 (20191010.1750)\n",
       " -->\n",
       "<!-- Title: Tree Pages: 1 -->\n",
       "<svg width=\"1020pt\" height=\"758pt\"\n",
       " viewBox=\"0.00 0.00 1020.13 758.00\" xmlns=\"http://www.w3.org/2000/svg\" xmlns:xlink=\"http://www.w3.org/1999/xlink\">\n",
       "<g id=\"graph0\" class=\"graph\" transform=\"scale(1 1) rotate(0) translate(4 754)\">\n",
       "<title>Tree</title>\n",
       "<polygon fill=\"white\" stroke=\"transparent\" points=\"-4,4 -4,-754 1016.13,-754 1016.13,4 -4,4\"/>\n",
       "<!-- 0 -->\n",
       "<g id=\"node1\" class=\"node\">\n",
       "<title>0</title>\n",
       "<path fill=\"#fdf6f1\" stroke=\"black\" d=\"M664.73,-750C664.73,-750 545.18,-750 545.18,-750 539.18,-750 533.18,-744 533.18,-738 533.18,-738 533.18,-698 533.18,-698 533.18,-692 539.18,-686 545.18,-686 545.18,-686 664.73,-686 664.73,-686 670.73,-686 676.73,-692 676.73,-698 676.73,-698 676.73,-738 676.73,-738 676.73,-744 670.73,-750 664.73,-750\"/>\n",
       "<text text-anchor=\"start\" x=\"565.7\" y=\"-734.8\" font-family=\"Helvetica,sans-Serif\" font-size=\"14.00\">odor_n ≤ 0.5</text>\n",
       "<text text-anchor=\"start\" x=\"568.57\" y=\"-720.8\" font-family=\"Helvetica,sans-Serif\" font-size=\"14.00\">gini = 0.499</text>\n",
       "<text text-anchor=\"start\" x=\"555.34\" y=\"-706.8\" font-family=\"Helvetica,sans-Serif\" font-size=\"14.00\">samples = 4874</text>\n",
       "<text text-anchor=\"start\" x=\"541.32\" y=\"-692.8\" font-family=\"Helvetica,sans-Serif\" font-size=\"14.00\">value = [2525, 2349]</text>\n",
       "</g>\n",
       "<!-- 1 -->\n",
       "<g id=\"node2\" class=\"node\">\n",
       "<title>1</title>\n",
       "<path fill=\"#63b2eb\" stroke=\"black\" d=\"M568.94,-650C568.94,-650 456.97,-650 456.97,-650 450.97,-650 444.97,-644 444.97,-638 444.97,-638 444.97,-598 444.97,-598 444.97,-592 450.97,-586 456.97,-586 456.97,-586 568.94,-586 568.94,-586 574.94,-586 580.94,-592 580.94,-598 580.94,-598 580.94,-638 580.94,-638 580.94,-644 574.94,-650 568.94,-650\"/>\n",
       "<text text-anchor=\"start\" x=\"459.31\" y=\"-634.8\" font-family=\"Helvetica,sans-Serif\" font-size=\"14.00\">stalk&#45;root_c ≤ 0.5</text>\n",
       "<text text-anchor=\"start\" x=\"480.46\" y=\"-620.8\" font-family=\"Helvetica,sans-Serif\" font-size=\"14.00\">gini = 0.29</text>\n",
       "<text text-anchor=\"start\" x=\"463.34\" y=\"-606.8\" font-family=\"Helvetica,sans-Serif\" font-size=\"14.00\">samples = 2761</text>\n",
       "<text text-anchor=\"start\" x=\"453.21\" y=\"-592.8\" font-family=\"Helvetica,sans-Serif\" font-size=\"14.00\">value = [485, 2276]</text>\n",
       "</g>\n",
       "<!-- 0&#45;&gt;1 -->\n",
       "<g id=\"edge1\" class=\"edge\">\n",
       "<title>0&#45;&gt;1</title>\n",
       "<path fill=\"none\" stroke=\"black\" d=\"M575.85,-685.99C567.37,-676.97 558.01,-666.99 549.16,-657.56\"/>\n",
       "<polygon fill=\"black\" stroke=\"black\" points=\"551.59,-655.04 542.19,-650.14 546.48,-659.83 551.59,-655.04\"/>\n",
       "<text text-anchor=\"middle\" x=\"541.4\" y=\"-670.93\" font-family=\"Helvetica,sans-Serif\" font-size=\"14.00\">True</text>\n",
       "</g>\n",
       "<!-- 16 -->\n",
       "<g id=\"node17\" class=\"node\">\n",
       "<title>16</title>\n",
       "<path fill=\"#e68640\" stroke=\"black\" d=\"M779.75,-650C779.75,-650 638.16,-650 638.16,-650 632.16,-650 626.16,-644 626.16,-638 626.16,-638 626.16,-598 626.16,-598 626.16,-592 632.16,-586 638.16,-586 638.16,-586 779.75,-586 779.75,-586 785.75,-586 791.75,-592 791.75,-598 791.75,-598 791.75,-638 791.75,-638 791.75,-644 785.75,-650 779.75,-650\"/>\n",
       "<text text-anchor=\"start\" x=\"634.31\" y=\"-634.8\" font-family=\"Helvetica,sans-Serif\" font-size=\"14.00\">spore&#45;print&#45;color_r ≤ 0.5</text>\n",
       "<text text-anchor=\"start\" x=\"672.57\" y=\"-620.8\" font-family=\"Helvetica,sans-Serif\" font-size=\"14.00\">gini = 0.067</text>\n",
       "<text text-anchor=\"start\" x=\"659.86\" y=\"-606.8\" font-family=\"Helvetica,sans-Serif\" font-size=\"14.00\">samples = 2113</text>\n",
       "<text text-anchor=\"start\" x=\"653.11\" y=\"-592.8\" font-family=\"Helvetica,sans-Serif\" font-size=\"14.00\">value = [2040, 73]</text>\n",
       "</g>\n",
       "<!-- 0&#45;&gt;16 -->\n",
       "<g id=\"edge16\" class=\"edge\">\n",
       "<title>0&#45;&gt;16</title>\n",
       "<path fill=\"none\" stroke=\"black\" d=\"M637.86,-685.99C647.63,-676.79 658.44,-666.6 668.63,-657\"/>\n",
       "<polygon fill=\"black\" stroke=\"black\" points=\"671.03,-659.55 675.91,-650.14 666.23,-654.45 671.03,-659.55\"/>\n",
       "<text text-anchor=\"middle\" x=\"675.17\" y=\"-670.93\" font-family=\"Helvetica,sans-Serif\" font-size=\"14.00\">False</text>\n",
       "</g>\n",
       "<!-- 2 -->\n",
       "<g id=\"node3\" class=\"node\">\n",
       "<title>2</title>\n",
       "<path fill=\"#48a4e7\" stroke=\"black\" d=\"M412.27,-550C412.27,-550 221.64,-550 221.64,-550 215.64,-550 209.64,-544 209.64,-538 209.64,-538 209.64,-498 209.64,-498 209.64,-492 215.64,-486 221.64,-486 221.64,-486 412.27,-486 412.27,-486 418.27,-486 424.27,-492 424.27,-498 424.27,-498 424.27,-538 424.27,-538 424.27,-544 418.27,-550 412.27,-550\"/>\n",
       "<text text-anchor=\"start\" x=\"217.8\" y=\"-534.8\" font-family=\"Helvetica,sans-Serif\" font-size=\"14.00\">stalk&#45;surface&#45;below&#45;ring_y ≤ 0.5</text>\n",
       "<text text-anchor=\"start\" x=\"280.57\" y=\"-520.8\" font-family=\"Helvetica,sans-Serif\" font-size=\"14.00\">gini = 0.131</text>\n",
       "<text text-anchor=\"start\" x=\"267.34\" y=\"-506.8\" font-family=\"Helvetica,sans-Serif\" font-size=\"14.00\">samples = 2424</text>\n",
       "<text text-anchor=\"start\" x=\"257.21\" y=\"-492.8\" font-family=\"Helvetica,sans-Serif\" font-size=\"14.00\">value = [171, 2253]</text>\n",
       "</g>\n",
       "<!-- 1&#45;&gt;2 -->\n",
       "<g id=\"edge2\" class=\"edge\">\n",
       "<title>1&#45;&gt;2</title>\n",
       "<path fill=\"none\" stroke=\"black\" d=\"M450.94,-585.99C431.01,-576.03 408.78,-564.91 388.24,-554.64\"/>\n",
       "<polygon fill=\"black\" stroke=\"black\" points=\"389.75,-551.48 379.24,-550.14 386.62,-557.75 389.75,-551.48\"/>\n",
       "</g>\n",
       "<!-- 13 -->\n",
       "<g id=\"node14\" class=\"node\">\n",
       "<title>13</title>\n",
       "<path fill=\"#e78a48\" stroke=\"black\" d=\"M560.87,-550C560.87,-550 465.04,-550 465.04,-550 459.04,-550 453.04,-544 453.04,-538 453.04,-538 453.04,-498 453.04,-498 453.04,-492 459.04,-486 465.04,-486 465.04,-486 560.87,-486 560.87,-486 566.87,-486 572.87,-492 572.87,-498 572.87,-498 572.87,-538 572.87,-538 572.87,-544 566.87,-550 560.87,-550\"/>\n",
       "<text text-anchor=\"start\" x=\"467.09\" y=\"-534.8\" font-family=\"Helvetica,sans-Serif\" font-size=\"14.00\">bruises_t ≤ 0.5</text>\n",
       "<text text-anchor=\"start\" x=\"476.57\" y=\"-520.8\" font-family=\"Helvetica,sans-Serif\" font-size=\"14.00\">gini = 0.127</text>\n",
       "<text text-anchor=\"start\" x=\"467.23\" y=\"-506.8\" font-family=\"Helvetica,sans-Serif\" font-size=\"14.00\">samples = 337</text>\n",
       "<text text-anchor=\"start\" x=\"461\" y=\"-492.8\" font-family=\"Helvetica,sans-Serif\" font-size=\"14.00\">value = [314, 23]</text>\n",
       "</g>\n",
       "<!-- 1&#45;&gt;13 -->\n",
       "<g id=\"edge13\" class=\"edge\">\n",
       "<title>1&#45;&gt;13</title>\n",
       "<path fill=\"none\" stroke=\"black\" d=\"M512.96,-585.99C512.96,-577.86 512.96,-568.96 512.96,-560.38\"/>\n",
       "<polygon fill=\"black\" stroke=\"black\" points=\"516.46,-560.14 512.96,-550.14 509.46,-560.14 516.46,-560.14\"/>\n",
       "</g>\n",
       "<!-- 3 -->\n",
       "<g id=\"node4\" class=\"node\">\n",
       "<title>3</title>\n",
       "<path fill=\"#3e9fe6\" stroke=\"black\" d=\"M231.38,-450C231.38,-450 86.54,-450 86.54,-450 80.54,-450 74.54,-444 74.54,-438 74.54,-438 74.54,-398 74.54,-398 74.54,-392 80.54,-386 86.54,-386 86.54,-386 231.38,-386 231.38,-386 237.38,-386 243.38,-392 243.38,-398 243.38,-398 243.38,-438 243.38,-438 243.38,-444 237.38,-450 231.38,-450\"/>\n",
       "<text text-anchor=\"start\" x=\"82.75\" y=\"-434.8\" font-family=\"Helvetica,sans-Serif\" font-size=\"14.00\">spore&#45;print&#45;color_u ≤ 0.5</text>\n",
       "<text text-anchor=\"start\" x=\"122.57\" y=\"-420.8\" font-family=\"Helvetica,sans-Serif\" font-size=\"14.00\">gini = 0.046</text>\n",
       "<text text-anchor=\"start\" x=\"109.34\" y=\"-406.8\" font-family=\"Helvetica,sans-Serif\" font-size=\"14.00\">samples = 2307</text>\n",
       "<text text-anchor=\"start\" x=\"103.11\" y=\"-392.8\" font-family=\"Helvetica,sans-Serif\" font-size=\"14.00\">value = [54, 2253]</text>\n",
       "</g>\n",
       "<!-- 2&#45;&gt;3 -->\n",
       "<g id=\"edge3\" class=\"edge\">\n",
       "<title>2&#45;&gt;3</title>\n",
       "<path fill=\"none\" stroke=\"black\" d=\"M266.96,-485.99C251.4,-476.34 234.1,-465.61 217.98,-455.61\"/>\n",
       "<polygon fill=\"black\" stroke=\"black\" points=\"219.51,-452.44 209.17,-450.14 215.82,-458.39 219.51,-452.44\"/>\n",
       "</g>\n",
       "<!-- 12 -->\n",
       "<g id=\"node13\" class=\"node\">\n",
       "<title>12</title>\n",
       "<path fill=\"#e58139\" stroke=\"black\" d=\"M360.55,-443C360.55,-443 273.36,-443 273.36,-443 267.36,-443 261.36,-437 261.36,-431 261.36,-431 261.36,-405 261.36,-405 261.36,-399 267.36,-393 273.36,-393 273.36,-393 360.55,-393 360.55,-393 366.55,-393 372.55,-399 372.55,-405 372.55,-405 372.55,-431 372.55,-431 372.55,-437 366.55,-443 360.55,-443\"/>\n",
       "<text text-anchor=\"start\" x=\"288.35\" y=\"-427.8\" font-family=\"Helvetica,sans-Serif\" font-size=\"14.00\">gini = 0.0</text>\n",
       "<text text-anchor=\"start\" x=\"271.75\" y=\"-413.8\" font-family=\"Helvetica,sans-Serif\" font-size=\"14.00\">samples = 117</text>\n",
       "<text text-anchor=\"start\" x=\"269.41\" y=\"-399.8\" font-family=\"Helvetica,sans-Serif\" font-size=\"14.00\">value = [117, 0]</text>\n",
       "</g>\n",
       "<!-- 2&#45;&gt;12 -->\n",
       "<g id=\"edge12\" class=\"edge\">\n",
       "<title>2&#45;&gt;12</title>\n",
       "<path fill=\"none\" stroke=\"black\" d=\"M316.96,-485.99C316.96,-475.65 316.96,-464.06 316.96,-453.46\"/>\n",
       "<polygon fill=\"black\" stroke=\"black\" points=\"320.46,-453.29 316.96,-443.29 313.46,-453.29 320.46,-453.29\"/>\n",
       "</g>\n",
       "<!-- 4 -->\n",
       "<g id=\"node5\" class=\"node\">\n",
       "<title>4</title>\n",
       "<path fill=\"#3b9ee5\" stroke=\"black\" d=\"M182.66,-350C182.66,-350 79.26,-350 79.26,-350 73.26,-350 67.26,-344 67.26,-338 67.26,-338 67.26,-298 67.26,-298 67.26,-292 73.26,-286 79.26,-286 79.26,-286 182.66,-286 182.66,-286 188.66,-286 194.66,-292 194.66,-298 194.66,-298 194.66,-338 194.66,-338 194.66,-344 188.66,-350 182.66,-350\"/>\n",
       "<text text-anchor=\"start\" x=\"94.04\" y=\"-334.8\" font-family=\"Helvetica,sans-Serif\" font-size=\"14.00\">odor_l ≤ 0.5</text>\n",
       "<text text-anchor=\"start\" x=\"94.57\" y=\"-320.8\" font-family=\"Helvetica,sans-Serif\" font-size=\"14.00\">gini = 0.021</text>\n",
       "<text text-anchor=\"start\" x=\"81.34\" y=\"-306.8\" font-family=\"Helvetica,sans-Serif\" font-size=\"14.00\">samples = 2277</text>\n",
       "<text text-anchor=\"start\" x=\"75.11\" y=\"-292.8\" font-family=\"Helvetica,sans-Serif\" font-size=\"14.00\">value = [24, 2253]</text>\n",
       "</g>\n",
       "<!-- 3&#45;&gt;4 -->\n",
       "<g id=\"edge4\" class=\"edge\">\n",
       "<title>3&#45;&gt;4</title>\n",
       "<path fill=\"none\" stroke=\"black\" d=\"M150.1,-385.99C147.72,-377.68 145.12,-368.57 142.62,-359.81\"/>\n",
       "<polygon fill=\"black\" stroke=\"black\" points=\"145.97,-358.8 139.85,-350.14 139.24,-360.72 145.97,-358.8\"/>\n",
       "</g>\n",
       "<!-- 11 -->\n",
       "<g id=\"node12\" class=\"node\">\n",
       "<title>11</title>\n",
       "<path fill=\"#e58139\" stroke=\"black\" d=\"M305.3,-343C305.3,-343 224.62,-343 224.62,-343 218.62,-343 212.62,-337 212.62,-331 212.62,-331 212.62,-305 212.62,-305 212.62,-299 218.62,-293 224.62,-293 224.62,-293 305.3,-293 305.3,-293 311.3,-293 317.3,-299 317.3,-305 317.3,-305 317.3,-331 317.3,-331 317.3,-337 311.3,-343 305.3,-343\"/>\n",
       "<text text-anchor=\"start\" x=\"236.35\" y=\"-327.8\" font-family=\"Helvetica,sans-Serif\" font-size=\"14.00\">gini = 0.0</text>\n",
       "<text text-anchor=\"start\" x=\"223.13\" y=\"-313.8\" font-family=\"Helvetica,sans-Serif\" font-size=\"14.00\">samples = 30</text>\n",
       "<text text-anchor=\"start\" x=\"220.79\" y=\"-299.8\" font-family=\"Helvetica,sans-Serif\" font-size=\"14.00\">value = [30, 0]</text>\n",
       "</g>\n",
       "<!-- 3&#45;&gt;11 -->\n",
       "<g id=\"edge11\" class=\"edge\">\n",
       "<title>3&#45;&gt;11</title>\n",
       "<path fill=\"none\" stroke=\"black\" d=\"M192.5,-385.99C204.85,-374.57 218.85,-361.63 231.22,-350.19\"/>\n",
       "<polygon fill=\"black\" stroke=\"black\" points=\"233.72,-352.65 238.69,-343.29 228.97,-347.51 233.72,-352.65\"/>\n",
       "</g>\n",
       "<!-- 5 -->\n",
       "<g id=\"node6\" class=\"node\">\n",
       "<title>5</title>\n",
       "<path fill=\"#3a9ee5\" stroke=\"black\" d=\"M131.31,-250C131.31,-250 16.6,-250 16.6,-250 10.6,-250 4.6,-244 4.6,-238 4.6,-238 4.6,-198 4.6,-198 4.6,-192 10.6,-186 16.6,-186 16.6,-186 131.31,-186 131.31,-186 137.31,-186 143.31,-192 143.31,-198 143.31,-198 143.31,-238 143.31,-238 143.31,-244 137.31,-250 131.31,-250\"/>\n",
       "<text text-anchor=\"start\" x=\"12.53\" y=\"-234.8\" font-family=\"Helvetica,sans-Serif\" font-size=\"14.00\">gill&#45;spacing_w ≤ 0.5</text>\n",
       "<text text-anchor=\"start\" x=\"38.08\" y=\"-220.8\" font-family=\"Helvetica,sans-Serif\" font-size=\"14.00\">gini = 0.011</text>\n",
       "<text text-anchor=\"start\" x=\"24.34\" y=\"-206.8\" font-family=\"Helvetica,sans-Serif\" font-size=\"14.00\">samples = 2266</text>\n",
       "<text text-anchor=\"start\" x=\"18.11\" y=\"-192.8\" font-family=\"Helvetica,sans-Serif\" font-size=\"14.00\">value = [13, 2253]</text>\n",
       "</g>\n",
       "<!-- 4&#45;&gt;5 -->\n",
       "<g id=\"edge5\" class=\"edge\">\n",
       "<title>4&#45;&gt;5</title>\n",
       "<path fill=\"none\" stroke=\"black\" d=\"M112.92,-285.99C107.93,-277.41 102.44,-267.98 97.2,-258.97\"/>\n",
       "<polygon fill=\"black\" stroke=\"black\" points=\"100.12,-257.03 92.07,-250.14 94.07,-260.55 100.12,-257.03\"/>\n",
       "</g>\n",
       "<!-- 10 -->\n",
       "<g id=\"node11\" class=\"node\">\n",
       "<title>10</title>\n",
       "<path fill=\"#e58139\" stroke=\"black\" d=\"M252.77,-243C252.77,-243 173.15,-243 173.15,-243 167.15,-243 161.15,-237 161.15,-231 161.15,-231 161.15,-205 161.15,-205 161.15,-199 167.15,-193 173.15,-193 173.15,-193 252.77,-193 252.77,-193 258.77,-193 264.77,-199 264.77,-205 264.77,-205 264.77,-231 264.77,-231 264.77,-237 258.77,-243 252.77,-243\"/>\n",
       "<text text-anchor=\"start\" x=\"184.35\" y=\"-227.8\" font-family=\"Helvetica,sans-Serif\" font-size=\"14.00\">gini = 0.0</text>\n",
       "<text text-anchor=\"start\" x=\"171.64\" y=\"-213.8\" font-family=\"Helvetica,sans-Serif\" font-size=\"14.00\">samples = 11</text>\n",
       "<text text-anchor=\"start\" x=\"169.3\" y=\"-199.8\" font-family=\"Helvetica,sans-Serif\" font-size=\"14.00\">value = [11, 0]</text>\n",
       "</g>\n",
       "<!-- 4&#45;&gt;10 -->\n",
       "<g id=\"edge10\" class=\"edge\">\n",
       "<title>4&#45;&gt;10</title>\n",
       "<path fill=\"none\" stroke=\"black\" d=\"M156.9,-285.99C166.19,-274.89 176.68,-262.36 186.04,-251.16\"/>\n",
       "<polygon fill=\"black\" stroke=\"black\" points=\"188.9,-253.2 192.63,-243.29 183.53,-248.71 188.9,-253.2\"/>\n",
       "</g>\n",
       "<!-- 6 -->\n",
       "<g id=\"node7\" class=\"node\">\n",
       "<title>6</title>\n",
       "<path fill=\"#399de5\" stroke=\"black\" d=\"M107.87,-143C107.87,-143 12.04,-143 12.04,-143 6.04,-143 0.04,-137 0.04,-131 0.04,-131 0.04,-105 0.04,-105 0.04,-99 6.04,-93 12.04,-93 12.04,-93 107.87,-93 107.87,-93 113.87,-93 119.87,-99 119.87,-105 119.87,-105 119.87,-131 119.87,-131 119.87,-137 113.87,-143 107.87,-143\"/>\n",
       "<text text-anchor=\"start\" x=\"31.35\" y=\"-127.8\" font-family=\"Helvetica,sans-Serif\" font-size=\"14.00\">gini = 0.0</text>\n",
       "<text text-anchor=\"start\" x=\"10.34\" y=\"-113.8\" font-family=\"Helvetica,sans-Serif\" font-size=\"14.00\">samples = 2198</text>\n",
       "<text text-anchor=\"start\" x=\"8\" y=\"-99.8\" font-family=\"Helvetica,sans-Serif\" font-size=\"14.00\">value = [0, 2198]</text>\n",
       "</g>\n",
       "<!-- 5&#45;&gt;6 -->\n",
       "<g id=\"edge6\" class=\"edge\">\n",
       "<title>5&#45;&gt;6</title>\n",
       "<path fill=\"none\" stroke=\"black\" d=\"M69.53,-185.99C68.05,-175.65 66.39,-164.06 64.88,-153.46\"/>\n",
       "<polygon fill=\"black\" stroke=\"black\" points=\"68.31,-152.69 63.43,-143.29 61.38,-153.68 68.31,-152.69\"/>\n",
       "</g>\n",
       "<!-- 7 -->\n",
       "<g id=\"node8\" class=\"node\">\n",
       "<title>7</title>\n",
       "<path fill=\"#68b4eb\" stroke=\"black\" d=\"M238.08,-150C238.08,-150 149.83,-150 149.83,-150 143.83,-150 137.83,-144 137.83,-138 137.83,-138 137.83,-98 137.83,-98 137.83,-92 143.83,-86 149.83,-86 149.83,-86 238.08,-86 238.08,-86 244.08,-86 250.08,-92 250.08,-98 250.08,-98 250.08,-138 250.08,-138 250.08,-144 244.08,-150 238.08,-150\"/>\n",
       "<text text-anchor=\"start\" x=\"155.09\" y=\"-134.8\" font-family=\"Helvetica,sans-Serif\" font-size=\"14.00\">odor_c ≤ 0.5</text>\n",
       "<text text-anchor=\"start\" x=\"157.57\" y=\"-120.8\" font-family=\"Helvetica,sans-Serif\" font-size=\"14.00\">gini = 0.309</text>\n",
       "<text text-anchor=\"start\" x=\"152.13\" y=\"-106.8\" font-family=\"Helvetica,sans-Serif\" font-size=\"14.00\">samples = 68</text>\n",
       "<text text-anchor=\"start\" x=\"145.89\" y=\"-92.8\" font-family=\"Helvetica,sans-Serif\" font-size=\"14.00\">value = [13, 55]</text>\n",
       "</g>\n",
       "<!-- 5&#45;&gt;7 -->\n",
       "<g id=\"edge7\" class=\"edge\">\n",
       "<title>5&#45;&gt;7</title>\n",
       "<path fill=\"none\" stroke=\"black\" d=\"M111.93,-185.99C123.31,-176.7 135.92,-166.4 147.77,-156.72\"/>\n",
       "<polygon fill=\"black\" stroke=\"black\" points=\"150.29,-159.18 155.82,-150.14 145.86,-153.76 150.29,-159.18\"/>\n",
       "</g>\n",
       "<!-- 8 -->\n",
       "<g id=\"node9\" class=\"node\">\n",
       "<title>8</title>\n",
       "<path fill=\"#e58139\" stroke=\"black\" d=\"M206.3,-50C206.3,-50 125.62,-50 125.62,-50 119.62,-50 113.62,-44 113.62,-38 113.62,-38 113.62,-12 113.62,-12 113.62,-6 119.62,0 125.62,0 125.62,0 206.3,0 206.3,0 212.3,0 218.3,-6 218.3,-12 218.3,-12 218.3,-38 218.3,-38 218.3,-44 212.3,-50 206.3,-50\"/>\n",
       "<text text-anchor=\"start\" x=\"137.35\" y=\"-34.8\" font-family=\"Helvetica,sans-Serif\" font-size=\"14.00\">gini = 0.0</text>\n",
       "<text text-anchor=\"start\" x=\"124.13\" y=\"-20.8\" font-family=\"Helvetica,sans-Serif\" font-size=\"14.00\">samples = 13</text>\n",
       "<text text-anchor=\"start\" x=\"121.79\" y=\"-6.8\" font-family=\"Helvetica,sans-Serif\" font-size=\"14.00\">value = [13, 0]</text>\n",
       "</g>\n",
       "<!-- 7&#45;&gt;8 -->\n",
       "<g id=\"edge8\" class=\"edge\">\n",
       "<title>7&#45;&gt;8</title>\n",
       "<path fill=\"none\" stroke=\"black\" d=\"M184.4,-85.94C181.8,-77.5 178.98,-68.32 176.34,-59.75\"/>\n",
       "<polygon fill=\"black\" stroke=\"black\" points=\"179.64,-58.56 173.35,-50.03 172.95,-60.62 179.64,-58.56\"/>\n",
       "</g>\n",
       "<!-- 9 -->\n",
       "<g id=\"node10\" class=\"node\">\n",
       "<title>9</title>\n",
       "<path fill=\"#399de5\" stroke=\"black\" d=\"M328.3,-50C328.3,-50 247.62,-50 247.62,-50 241.62,-50 235.62,-44 235.62,-38 235.62,-38 235.62,-12 235.62,-12 235.62,-6 241.62,0 247.62,0 247.62,0 328.3,0 328.3,0 334.3,0 340.3,-6 340.3,-12 340.3,-12 340.3,-38 340.3,-38 340.3,-44 334.3,-50 328.3,-50\"/>\n",
       "<text text-anchor=\"start\" x=\"259.35\" y=\"-34.8\" font-family=\"Helvetica,sans-Serif\" font-size=\"14.00\">gini = 0.0</text>\n",
       "<text text-anchor=\"start\" x=\"246.13\" y=\"-20.8\" font-family=\"Helvetica,sans-Serif\" font-size=\"14.00\">samples = 55</text>\n",
       "<text text-anchor=\"start\" x=\"243.79\" y=\"-6.8\" font-family=\"Helvetica,sans-Serif\" font-size=\"14.00\">value = [0, 55]</text>\n",
       "</g>\n",
       "<!-- 7&#45;&gt;9 -->\n",
       "<g id=\"edge9\" class=\"edge\">\n",
       "<title>7&#45;&gt;9</title>\n",
       "<path fill=\"none\" stroke=\"black\" d=\"M226.04,-85.94C235.61,-76.67 246.1,-66.52 255.68,-57.25\"/>\n",
       "<polygon fill=\"black\" stroke=\"black\" points=\"258.38,-59.5 263.13,-50.03 253.52,-54.47 258.38,-59.5\"/>\n",
       "</g>\n",
       "<!-- 14 -->\n",
       "<g id=\"node15\" class=\"node\">\n",
       "<title>14</title>\n",
       "<path fill=\"#399de5\" stroke=\"black\" d=\"M483.3,-443C483.3,-443 402.62,-443 402.62,-443 396.62,-443 390.62,-437 390.62,-431 390.62,-431 390.62,-405 390.62,-405 390.62,-399 396.62,-393 402.62,-393 402.62,-393 483.3,-393 483.3,-393 489.3,-393 495.3,-399 495.3,-405 495.3,-405 495.3,-431 495.3,-431 495.3,-437 489.3,-443 483.3,-443\"/>\n",
       "<text text-anchor=\"start\" x=\"414.35\" y=\"-427.8\" font-family=\"Helvetica,sans-Serif\" font-size=\"14.00\">gini = 0.0</text>\n",
       "<text text-anchor=\"start\" x=\"401.13\" y=\"-413.8\" font-family=\"Helvetica,sans-Serif\" font-size=\"14.00\">samples = 23</text>\n",
       "<text text-anchor=\"start\" x=\"398.79\" y=\"-399.8\" font-family=\"Helvetica,sans-Serif\" font-size=\"14.00\">value = [0, 23]</text>\n",
       "</g>\n",
       "<!-- 13&#45;&gt;14 -->\n",
       "<g id=\"edge14\" class=\"edge\">\n",
       "<title>13&#45;&gt;14</title>\n",
       "<path fill=\"none\" stroke=\"black\" d=\"M490.81,-485.99C482.96,-475 474.1,-462.6 466.16,-451.49\"/>\n",
       "<polygon fill=\"black\" stroke=\"black\" points=\"468.97,-449.39 460.3,-443.29 463.27,-453.46 468.97,-449.39\"/>\n",
       "</g>\n",
       "<!-- 15 -->\n",
       "<g id=\"node16\" class=\"node\">\n",
       "<title>15</title>\n",
       "<path fill=\"#e58139\" stroke=\"black\" d=\"M613.08,-443C613.08,-443 524.83,-443 524.83,-443 518.83,-443 512.83,-437 512.83,-431 512.83,-431 512.83,-405 512.83,-405 512.83,-399 518.83,-393 524.83,-393 524.83,-393 613.08,-393 613.08,-393 619.08,-393 625.08,-399 625.08,-405 625.08,-405 625.08,-431 625.08,-431 625.08,-437 619.08,-443 613.08,-443\"/>\n",
       "<text text-anchor=\"start\" x=\"540.35\" y=\"-427.8\" font-family=\"Helvetica,sans-Serif\" font-size=\"14.00\">gini = 0.0</text>\n",
       "<text text-anchor=\"start\" x=\"523.23\" y=\"-413.8\" font-family=\"Helvetica,sans-Serif\" font-size=\"14.00\">samples = 314</text>\n",
       "<text text-anchor=\"start\" x=\"520.89\" y=\"-399.8\" font-family=\"Helvetica,sans-Serif\" font-size=\"14.00\">value = [314, 0]</text>\n",
       "</g>\n",
       "<!-- 13&#45;&gt;15 -->\n",
       "<g id=\"edge15\" class=\"edge\">\n",
       "<title>13&#45;&gt;15</title>\n",
       "<path fill=\"none\" stroke=\"black\" d=\"M530.68,-485.99C536.83,-475.22 543.76,-463.09 550.02,-452.15\"/>\n",
       "<polygon fill=\"black\" stroke=\"black\" points=\"553.16,-453.71 555.08,-443.29 547.08,-450.23 553.16,-453.71\"/>\n",
       "</g>\n",
       "<!-- 17 -->\n",
       "<g id=\"node18\" class=\"node\">\n",
       "<title>17</title>\n",
       "<path fill=\"#e5833c\" stroke=\"black\" d=\"M804.27,-550C804.27,-550 613.64,-550 613.64,-550 607.64,-550 601.64,-544 601.64,-538 601.64,-538 601.64,-498 601.64,-498 601.64,-492 607.64,-486 613.64,-486 613.64,-486 804.27,-486 804.27,-486 810.27,-486 816.27,-492 816.27,-498 816.27,-498 816.27,-538 816.27,-538 816.27,-544 810.27,-550 804.27,-550\"/>\n",
       "<text text-anchor=\"start\" x=\"609.8\" y=\"-534.8\" font-family=\"Helvetica,sans-Serif\" font-size=\"14.00\">stalk&#45;surface&#45;below&#45;ring_y ≤ 0.5</text>\n",
       "<text text-anchor=\"start\" x=\"672.57\" y=\"-520.8\" font-family=\"Helvetica,sans-Serif\" font-size=\"14.00\">gini = 0.026</text>\n",
       "<text text-anchor=\"start\" x=\"659.34\" y=\"-506.8\" font-family=\"Helvetica,sans-Serif\" font-size=\"14.00\">samples = 2067</text>\n",
       "<text text-anchor=\"start\" x=\"653.11\" y=\"-492.8\" font-family=\"Helvetica,sans-Serif\" font-size=\"14.00\">value = [2040, 27]</text>\n",
       "</g>\n",
       "<!-- 16&#45;&gt;17 -->\n",
       "<g id=\"edge17\" class=\"edge\">\n",
       "<title>16&#45;&gt;17</title>\n",
       "<path fill=\"none\" stroke=\"black\" d=\"M708.96,-585.99C708.96,-577.86 708.96,-568.96 708.96,-560.38\"/>\n",
       "<polygon fill=\"black\" stroke=\"black\" points=\"712.46,-560.14 708.96,-550.14 705.46,-560.14 712.46,-560.14\"/>\n",
       "</g>\n",
       "<!-- 30 -->\n",
       "<g id=\"node31\" class=\"node\">\n",
       "<title>30</title>\n",
       "<path fill=\"#399de5\" stroke=\"black\" d=\"M926.3,-543C926.3,-543 845.62,-543 845.62,-543 839.62,-543 833.62,-537 833.62,-531 833.62,-531 833.62,-505 833.62,-505 833.62,-499 839.62,-493 845.62,-493 845.62,-493 926.3,-493 926.3,-493 932.3,-493 938.3,-499 938.3,-505 938.3,-505 938.3,-531 938.3,-531 938.3,-537 932.3,-543 926.3,-543\"/>\n",
       "<text text-anchor=\"start\" x=\"857.35\" y=\"-527.8\" font-family=\"Helvetica,sans-Serif\" font-size=\"14.00\">gini = 0.0</text>\n",
       "<text text-anchor=\"start\" x=\"844.13\" y=\"-513.8\" font-family=\"Helvetica,sans-Serif\" font-size=\"14.00\">samples = 46</text>\n",
       "<text text-anchor=\"start\" x=\"841.79\" y=\"-499.8\" font-family=\"Helvetica,sans-Serif\" font-size=\"14.00\">value = [0, 46]</text>\n",
       "</g>\n",
       "<!-- 16&#45;&gt;30 -->\n",
       "<g id=\"edge30\" class=\"edge\">\n",
       "<title>16&#45;&gt;30</title>\n",
       "<path fill=\"none\" stroke=\"black\" d=\"M764.96,-585.99C786.85,-573.87 811.82,-560.05 833.37,-548.12\"/>\n",
       "<polygon fill=\"black\" stroke=\"black\" points=\"835.32,-551.04 842.37,-543.13 831.93,-544.91 835.32,-551.04\"/>\n",
       "</g>\n",
       "<!-- 18 -->\n",
       "<g id=\"node19\" class=\"node\">\n",
       "<title>18</title>\n",
       "<path fill=\"#e58139\" stroke=\"black\" d=\"M762.55,-450C762.55,-450 655.37,-450 655.37,-450 649.37,-450 643.37,-444 643.37,-438 643.37,-438 643.37,-398 643.37,-398 643.37,-392 649.37,-386 655.37,-386 655.37,-386 762.55,-386 762.55,-386 768.55,-386 774.55,-392 774.55,-398 774.55,-398 774.55,-438 774.55,-438 774.55,-444 768.55,-450 762.55,-450\"/>\n",
       "<text text-anchor=\"start\" x=\"651.41\" y=\"-434.8\" font-family=\"Helvetica,sans-Serif\" font-size=\"14.00\">cap&#45;shape_c ≤ 0.5</text>\n",
       "<text text-anchor=\"start\" x=\"672.57\" y=\"-420.8\" font-family=\"Helvetica,sans-Serif\" font-size=\"14.00\">gini = 0.005</text>\n",
       "<text text-anchor=\"start\" x=\"659.34\" y=\"-406.8\" font-family=\"Helvetica,sans-Serif\" font-size=\"14.00\">samples = 2037</text>\n",
       "<text text-anchor=\"start\" x=\"657\" y=\"-392.8\" font-family=\"Helvetica,sans-Serif\" font-size=\"14.00\">value = [2032, 5]</text>\n",
       "</g>\n",
       "<!-- 17&#45;&gt;18 -->\n",
       "<g id=\"edge18\" class=\"edge\">\n",
       "<title>17&#45;&gt;18</title>\n",
       "<path fill=\"none\" stroke=\"black\" d=\"M708.96,-485.99C708.96,-477.86 708.96,-468.96 708.96,-460.38\"/>\n",
       "<polygon fill=\"black\" stroke=\"black\" points=\"712.46,-460.14 708.96,-450.14 705.46,-460.14 712.46,-460.14\"/>\n",
       "</g>\n",
       "<!-- 27 -->\n",
       "<g id=\"node28\" class=\"node\">\n",
       "<title>27</title>\n",
       "<path fill=\"#81c1ee\" stroke=\"black\" d=\"M893.63,-450C893.63,-450 804.28,-450 804.28,-450 798.28,-450 792.28,-444 792.28,-438 792.28,-438 792.28,-398 792.28,-398 792.28,-392 798.28,-386 804.28,-386 804.28,-386 893.63,-386 893.63,-386 899.63,-386 905.63,-392 905.63,-398 905.63,-398 905.63,-438 905.63,-438 905.63,-444 899.63,-450 893.63,-450\"/>\n",
       "<text text-anchor=\"start\" x=\"800.37\" y=\"-434.8\" font-family=\"Helvetica,sans-Serif\" font-size=\"14.00\">gill&#45;size_n ≤ 0.5</text>\n",
       "<text text-anchor=\"start\" x=\"812.57\" y=\"-420.8\" font-family=\"Helvetica,sans-Serif\" font-size=\"14.00\">gini = 0.391</text>\n",
       "<text text-anchor=\"start\" x=\"807.13\" y=\"-406.8\" font-family=\"Helvetica,sans-Serif\" font-size=\"14.00\">samples = 30</text>\n",
       "<text text-anchor=\"start\" x=\"804.79\" y=\"-392.8\" font-family=\"Helvetica,sans-Serif\" font-size=\"14.00\">value = [8, 22]</text>\n",
       "</g>\n",
       "<!-- 17&#45;&gt;27 -->\n",
       "<g id=\"edge27\" class=\"edge\">\n",
       "<title>17&#45;&gt;27</title>\n",
       "<path fill=\"none\" stroke=\"black\" d=\"M753.25,-485.99C766.91,-476.43 782.09,-465.81 796.26,-455.89\"/>\n",
       "<polygon fill=\"black\" stroke=\"black\" points=\"798.28,-458.74 804.47,-450.14 794.27,-453.01 798.28,-458.74\"/>\n",
       "</g>\n",
       "<!-- 19 -->\n",
       "<g id=\"node20\" class=\"node\">\n",
       "<title>19</title>\n",
       "<path fill=\"#e58139\" stroke=\"black\" d=\"M636.6,-350C636.6,-350 521.31,-350 521.31,-350 515.31,-350 509.31,-344 509.31,-338 509.31,-338 509.31,-298 509.31,-298 509.31,-292 515.31,-286 521.31,-286 521.31,-286 636.6,-286 636.6,-286 642.6,-286 648.6,-292 648.6,-298 648.6,-298 648.6,-338 648.6,-338 648.6,-344 642.6,-350 636.6,-350\"/>\n",
       "<text text-anchor=\"start\" x=\"517.14\" y=\"-334.8\" font-family=\"Helvetica,sans-Serif\" font-size=\"14.00\">cap&#45;surface_g ≤ 0.5</text>\n",
       "<text text-anchor=\"start\" x=\"542.57\" y=\"-320.8\" font-family=\"Helvetica,sans-Serif\" font-size=\"14.00\">gini = 0.003</text>\n",
       "<text text-anchor=\"start\" x=\"529.34\" y=\"-306.8\" font-family=\"Helvetica,sans-Serif\" font-size=\"14.00\">samples = 2035</text>\n",
       "<text text-anchor=\"start\" x=\"527\" y=\"-292.8\" font-family=\"Helvetica,sans-Serif\" font-size=\"14.00\">value = [2032, 3]</text>\n",
       "</g>\n",
       "<!-- 18&#45;&gt;19 -->\n",
       "<g id=\"edge19\" class=\"edge\">\n",
       "<title>18&#45;&gt;19</title>\n",
       "<path fill=\"none\" stroke=\"black\" d=\"M667.82,-385.99C655.26,-376.52 641.31,-366 628.26,-356.17\"/>\n",
       "<polygon fill=\"black\" stroke=\"black\" points=\"630.36,-353.37 620.27,-350.14 626.15,-358.96 630.36,-353.37\"/>\n",
       "</g>\n",
       "<!-- 26 -->\n",
       "<g id=\"node27\" class=\"node\">\n",
       "<title>26</title>\n",
       "<path fill=\"#399de5\" stroke=\"black\" d=\"M751.01,-343C751.01,-343 678.9,-343 678.9,-343 672.9,-343 666.9,-337 666.9,-331 666.9,-331 666.9,-305 666.9,-305 666.9,-299 672.9,-293 678.9,-293 678.9,-293 751.01,-293 751.01,-293 757.01,-293 763.01,-299 763.01,-305 763.01,-305 763.01,-331 763.01,-331 763.01,-337 757.01,-343 751.01,-343\"/>\n",
       "<text text-anchor=\"start\" x=\"686.35\" y=\"-327.8\" font-family=\"Helvetica,sans-Serif\" font-size=\"14.00\">gini = 0.0</text>\n",
       "<text text-anchor=\"start\" x=\"677.02\" y=\"-313.8\" font-family=\"Helvetica,sans-Serif\" font-size=\"14.00\">samples = 2</text>\n",
       "<text text-anchor=\"start\" x=\"674.68\" y=\"-299.8\" font-family=\"Helvetica,sans-Serif\" font-size=\"14.00\">value = [0, 2]</text>\n",
       "</g>\n",
       "<!-- 18&#45;&gt;26 -->\n",
       "<g id=\"edge26\" class=\"edge\">\n",
       "<title>18&#45;&gt;26</title>\n",
       "<path fill=\"none\" stroke=\"black\" d=\"M710.85,-385.99C711.49,-375.65 712.2,-364.06 712.85,-353.46\"/>\n",
       "<polygon fill=\"black\" stroke=\"black\" points=\"716.35,-353.48 713.47,-343.29 709.36,-353.06 716.35,-353.48\"/>\n",
       "</g>\n",
       "<!-- 20 -->\n",
       "<g id=\"node21\" class=\"node\">\n",
       "<title>20</title>\n",
       "<path fill=\"#e58139\" stroke=\"black\" d=\"M535.87,-250C535.87,-250 440.04,-250 440.04,-250 434.04,-250 428.04,-244 428.04,-238 428.04,-238 428.04,-198 428.04,-198 428.04,-192 434.04,-186 440.04,-186 440.04,-186 535.87,-186 535.87,-186 541.87,-186 547.87,-192 547.87,-198 547.87,-198 547.87,-238 547.87,-238 547.87,-244 541.87,-250 535.87,-250\"/>\n",
       "<text text-anchor=\"start\" x=\"439.37\" y=\"-234.8\" font-family=\"Helvetica,sans-Serif\" font-size=\"14.00\">gill&#45;size_n ≤ 0.5</text>\n",
       "<text text-anchor=\"start\" x=\"451.57\" y=\"-220.8\" font-family=\"Helvetica,sans-Serif\" font-size=\"14.00\">gini = 0.002</text>\n",
       "<text text-anchor=\"start\" x=\"438.34\" y=\"-206.8\" font-family=\"Helvetica,sans-Serif\" font-size=\"14.00\">samples = 2034</text>\n",
       "<text text-anchor=\"start\" x=\"436\" y=\"-192.8\" font-family=\"Helvetica,sans-Serif\" font-size=\"14.00\">value = [2032, 2]</text>\n",
       "</g>\n",
       "<!-- 19&#45;&gt;20 -->\n",
       "<g id=\"edge20\" class=\"edge\">\n",
       "<title>19&#45;&gt;20</title>\n",
       "<path fill=\"none\" stroke=\"black\" d=\"M550.16,-285.99C541.78,-276.97 532.52,-266.99 523.76,-257.56\"/>\n",
       "<polygon fill=\"black\" stroke=\"black\" points=\"526.24,-255.09 516.87,-250.14 521.11,-259.85 526.24,-255.09\"/>\n",
       "</g>\n",
       "<!-- 25 -->\n",
       "<g id=\"node26\" class=\"node\">\n",
       "<title>25</title>\n",
       "<path fill=\"#399de5\" stroke=\"black\" d=\"M650.01,-243C650.01,-243 577.9,-243 577.9,-243 571.9,-243 565.9,-237 565.9,-231 565.9,-231 565.9,-205 565.9,-205 565.9,-199 571.9,-193 577.9,-193 577.9,-193 650.01,-193 650.01,-193 656.01,-193 662.01,-199 662.01,-205 662.01,-205 662.01,-231 662.01,-231 662.01,-237 656.01,-243 650.01,-243\"/>\n",
       "<text text-anchor=\"start\" x=\"585.35\" y=\"-227.8\" font-family=\"Helvetica,sans-Serif\" font-size=\"14.00\">gini = 0.0</text>\n",
       "<text text-anchor=\"start\" x=\"576.02\" y=\"-213.8\" font-family=\"Helvetica,sans-Serif\" font-size=\"14.00\">samples = 1</text>\n",
       "<text text-anchor=\"start\" x=\"573.68\" y=\"-199.8\" font-family=\"Helvetica,sans-Serif\" font-size=\"14.00\">value = [0, 1]</text>\n",
       "</g>\n",
       "<!-- 19&#45;&gt;25 -->\n",
       "<g id=\"edge25\" class=\"edge\">\n",
       "<title>19&#45;&gt;25</title>\n",
       "<path fill=\"none\" stroke=\"black\" d=\"M590.03,-285.99C593.8,-275.43 598.04,-263.57 601.88,-252.8\"/>\n",
       "<polygon fill=\"black\" stroke=\"black\" points=\"605.22,-253.88 605.28,-243.29 598.62,-251.53 605.22,-253.88\"/>\n",
       "</g>\n",
       "<!-- 21 -->\n",
       "<g id=\"node22\" class=\"node\">\n",
       "<title>21</title>\n",
       "<path fill=\"#e58139\" stroke=\"black\" d=\"M431.87,-143C431.87,-143 336.04,-143 336.04,-143 330.04,-143 324.04,-137 324.04,-131 324.04,-131 324.04,-105 324.04,-105 324.04,-99 330.04,-93 336.04,-93 336.04,-93 431.87,-93 431.87,-93 437.87,-93 443.87,-99 443.87,-105 443.87,-105 443.87,-131 443.87,-131 443.87,-137 437.87,-143 431.87,-143\"/>\n",
       "<text text-anchor=\"start\" x=\"355.35\" y=\"-127.8\" font-family=\"Helvetica,sans-Serif\" font-size=\"14.00\">gini = 0.0</text>\n",
       "<text text-anchor=\"start\" x=\"334.34\" y=\"-113.8\" font-family=\"Helvetica,sans-Serif\" font-size=\"14.00\">samples = 1909</text>\n",
       "<text text-anchor=\"start\" x=\"332\" y=\"-99.8\" font-family=\"Helvetica,sans-Serif\" font-size=\"14.00\">value = [1909, 0]</text>\n",
       "</g>\n",
       "<!-- 20&#45;&gt;21 -->\n",
       "<g id=\"edge21\" class=\"edge\">\n",
       "<title>20&#45;&gt;21</title>\n",
       "<path fill=\"none\" stroke=\"black\" d=\"M455.05,-185.99C442.93,-174.57 429.2,-161.63 417.06,-150.19\"/>\n",
       "<polygon fill=\"black\" stroke=\"black\" points=\"419.41,-147.6 409.73,-143.29 414.61,-152.69 419.41,-147.6\"/>\n",
       "</g>\n",
       "<!-- 22 -->\n",
       "<g id=\"node23\" class=\"node\">\n",
       "<title>22</title>\n",
       "<path fill=\"#e5833c\" stroke=\"black\" d=\"M562.08,-150C562.08,-150 473.83,-150 473.83,-150 467.83,-150 461.83,-144 461.83,-138 461.83,-138 461.83,-98 461.83,-98 461.83,-92 467.83,-86 473.83,-86 473.83,-86 562.08,-86 562.08,-86 568.08,-86 574.08,-92 574.08,-98 574.08,-98 574.08,-138 574.08,-138 574.08,-144 568.08,-150 562.08,-150\"/>\n",
       "<text text-anchor=\"start\" x=\"472.09\" y=\"-134.8\" font-family=\"Helvetica,sans-Serif\" font-size=\"14.00\">bruises_t ≤ 0.5</text>\n",
       "<text text-anchor=\"start\" x=\"481.57\" y=\"-120.8\" font-family=\"Helvetica,sans-Serif\" font-size=\"14.00\">gini = 0.031</text>\n",
       "<text text-anchor=\"start\" x=\"472.23\" y=\"-106.8\" font-family=\"Helvetica,sans-Serif\" font-size=\"14.00\">samples = 125</text>\n",
       "<text text-anchor=\"start\" x=\"469.89\" y=\"-92.8\" font-family=\"Helvetica,sans-Serif\" font-size=\"14.00\">value = [123, 2]</text>\n",
       "</g>\n",
       "<!-- 20&#45;&gt;22 -->\n",
       "<g id=\"edge22\" class=\"edge\">\n",
       "<title>20&#45;&gt;22</title>\n",
       "<path fill=\"none\" stroke=\"black\" d=\"M497.45,-185.99C499.99,-177.68 502.78,-168.57 505.46,-159.81\"/>\n",
       "<polygon fill=\"black\" stroke=\"black\" points=\"508.84,-160.73 508.42,-150.14 502.15,-158.68 508.84,-160.73\"/>\n",
       "</g>\n",
       "<!-- 23 -->\n",
       "<g id=\"node24\" class=\"node\">\n",
       "<title>23</title>\n",
       "<path fill=\"#e58139\" stroke=\"black\" d=\"M468.08,-50C468.08,-50 379.83,-50 379.83,-50 373.83,-50 367.83,-44 367.83,-38 367.83,-38 367.83,-12 367.83,-12 367.83,-6 373.83,0 379.83,0 379.83,0 468.08,0 468.08,0 474.08,0 480.08,-6 480.08,-12 480.08,-12 480.08,-38 480.08,-38 480.08,-44 474.08,-50 468.08,-50\"/>\n",
       "<text text-anchor=\"start\" x=\"395.35\" y=\"-34.8\" font-family=\"Helvetica,sans-Serif\" font-size=\"14.00\">gini = 0.0</text>\n",
       "<text text-anchor=\"start\" x=\"378.23\" y=\"-20.8\" font-family=\"Helvetica,sans-Serif\" font-size=\"14.00\">samples = 123</text>\n",
       "<text text-anchor=\"start\" x=\"375.89\" y=\"-6.8\" font-family=\"Helvetica,sans-Serif\" font-size=\"14.00\">value = [123, 0]</text>\n",
       "</g>\n",
       "<!-- 22&#45;&gt;23 -->\n",
       "<g id=\"edge23\" class=\"edge\">\n",
       "<title>22&#45;&gt;23</title>\n",
       "<path fill=\"none\" stroke=\"black\" d=\"M485.87,-85.94C476.3,-76.67 465.81,-66.52 456.23,-57.25\"/>\n",
       "<polygon fill=\"black\" stroke=\"black\" points=\"458.4,-54.47 448.78,-50.03 453.53,-59.5 458.4,-54.47\"/>\n",
       "</g>\n",
       "<!-- 24 -->\n",
       "<g id=\"node25\" class=\"node\">\n",
       "<title>24</title>\n",
       "<path fill=\"#399de5\" stroke=\"black\" d=\"M582.01,-50C582.01,-50 509.9,-50 509.9,-50 503.9,-50 497.9,-44 497.9,-38 497.9,-38 497.9,-12 497.9,-12 497.9,-6 503.9,0 509.9,0 509.9,0 582.01,0 582.01,0 588.01,0 594.01,-6 594.01,-12 594.01,-12 594.01,-38 594.01,-38 594.01,-44 588.01,-50 582.01,-50\"/>\n",
       "<text text-anchor=\"start\" x=\"517.35\" y=\"-34.8\" font-family=\"Helvetica,sans-Serif\" font-size=\"14.00\">gini = 0.0</text>\n",
       "<text text-anchor=\"start\" x=\"508.02\" y=\"-20.8\" font-family=\"Helvetica,sans-Serif\" font-size=\"14.00\">samples = 2</text>\n",
       "<text text-anchor=\"start\" x=\"505.68\" y=\"-6.8\" font-family=\"Helvetica,sans-Serif\" font-size=\"14.00\">value = [0, 2]</text>\n",
       "</g>\n",
       "<!-- 22&#45;&gt;24 -->\n",
       "<g id=\"edge24\" class=\"edge\">\n",
       "<title>22&#45;&gt;24</title>\n",
       "<path fill=\"none\" stroke=\"black\" d=\"M527.51,-85.94C530.11,-77.5 532.93,-68.32 535.57,-59.75\"/>\n",
       "<polygon fill=\"black\" stroke=\"black\" points=\"538.97,-60.62 538.56,-50.03 532.28,-58.56 538.97,-60.62\"/>\n",
       "</g>\n",
       "<!-- 28 -->\n",
       "<g id=\"node29\" class=\"node\">\n",
       "<title>28</title>\n",
       "<path fill=\"#e58139\" stroke=\"black\" d=\"M878.01,-343C878.01,-343 805.9,-343 805.9,-343 799.9,-343 793.9,-337 793.9,-331 793.9,-331 793.9,-305 793.9,-305 793.9,-299 799.9,-293 805.9,-293 805.9,-293 878.01,-293 878.01,-293 884.01,-293 890.01,-299 890.01,-305 890.01,-305 890.01,-331 890.01,-331 890.01,-337 884.01,-343 878.01,-343\"/>\n",
       "<text text-anchor=\"start\" x=\"813.35\" y=\"-327.8\" font-family=\"Helvetica,sans-Serif\" font-size=\"14.00\">gini = 0.0</text>\n",
       "<text text-anchor=\"start\" x=\"804.02\" y=\"-313.8\" font-family=\"Helvetica,sans-Serif\" font-size=\"14.00\">samples = 8</text>\n",
       "<text text-anchor=\"start\" x=\"801.68\" y=\"-299.8\" font-family=\"Helvetica,sans-Serif\" font-size=\"14.00\">value = [8, 0]</text>\n",
       "</g>\n",
       "<!-- 27&#45;&gt;28 -->\n",
       "<g id=\"edge28\" class=\"edge\">\n",
       "<title>27&#45;&gt;28</title>\n",
       "<path fill=\"none\" stroke=\"black\" d=\"M846.74,-385.99C846,-375.65 845.17,-364.06 844.42,-353.46\"/>\n",
       "<polygon fill=\"black\" stroke=\"black\" points=\"847.9,-353.01 843.69,-343.29 840.91,-353.51 847.9,-353.01\"/>\n",
       "</g>\n",
       "<!-- 29 -->\n",
       "<g id=\"node30\" class=\"node\">\n",
       "<title>29</title>\n",
       "<path fill=\"#399de5\" stroke=\"black\" d=\"M1000.3,-343C1000.3,-343 919.62,-343 919.62,-343 913.62,-343 907.62,-337 907.62,-331 907.62,-331 907.62,-305 907.62,-305 907.62,-299 913.62,-293 919.62,-293 919.62,-293 1000.3,-293 1000.3,-293 1006.3,-293 1012.3,-299 1012.3,-305 1012.3,-305 1012.3,-331 1012.3,-331 1012.3,-337 1006.3,-343 1000.3,-343\"/>\n",
       "<text text-anchor=\"start\" x=\"931.35\" y=\"-327.8\" font-family=\"Helvetica,sans-Serif\" font-size=\"14.00\">gini = 0.0</text>\n",
       "<text text-anchor=\"start\" x=\"918.13\" y=\"-313.8\" font-family=\"Helvetica,sans-Serif\" font-size=\"14.00\">samples = 22</text>\n",
       "<text text-anchor=\"start\" x=\"915.79\" y=\"-299.8\" font-family=\"Helvetica,sans-Serif\" font-size=\"14.00\">value = [0, 22]</text>\n",
       "</g>\n",
       "<!-- 27&#45;&gt;29 -->\n",
       "<g id=\"edge29\" class=\"edge\">\n",
       "<title>27&#45;&gt;29</title>\n",
       "<path fill=\"none\" stroke=\"black\" d=\"M884.08,-385.99C897.02,-374.57 911.67,-361.63 924.63,-350.19\"/>\n",
       "<polygon fill=\"black\" stroke=\"black\" points=\"927.27,-352.53 932.45,-343.29 922.63,-347.28 927.27,-352.53\"/>\n",
       "</g>\n",
       "</g>\n",
       "</svg>\n"
      ],
      "text/plain": [
       "<graphviz.files.Source at 0x7fedb7999f50>"
      ]
     },
     "execution_count": 158,
     "metadata": {},
     "output_type": "execute_result"
    }
   ],
   "source": [
    "dot_data = export_graphviz(dt, out_file=None, \n",
    "                         feature_names=encoder.get_feature_names(input_features=X_train.columns),  \n",
    "                         filled=True, rounded=True,  \n",
    "                         special_characters=True)  \n",
    "graph = graphviz.Source(dot_data)  \n",
    "graph "
   ]
  },
  {
   "cell_type": "code",
   "execution_count": 161,
   "metadata": {},
   "outputs": [
    {
     "data": {
      "image/png": "[encoded data removed]",
      "text/plain": [
       "<Figure size 360x1080 with 1 Axes>"
      ]
     },
     "metadata": {
      "needs_background": "light"
     },
     "output_type": "display_data"
    }
   ],
   "source": [
    "features_list = encoder.get_feature_names(input_features=X_train.columns)\n",
    "feature_importance = dt.feature_importances_\n",
    "sorted_idx = np.argsort(feature_importance)\n",
    "\n",
    "plt.figure(figsize=(5,15))\n",
    "plt.barh(range(len(sorted_idx)), feature_importance[sorted_idx], align='center')\n",
    "plt.yticks(range(len(sorted_idx)), features_list[sorted_idx])\n",
    "plt.xlabel('Importance')\n",
    "plt.title('Feature importances')\n",
    "plt.draw()\n",
    "plt.show()"
   ]
  },
  {
   "cell_type": "code",
   "execution_count": null,
   "metadata": {},
   "outputs": [],
   "source": []
  },
  {
   "cell_type": "code",
   "execution_count": 162,
   "metadata": {},
   "outputs": [
    {
     "data": {
      "text/plain": [
       "array([0, 1, 0, ..., 1, 0, 1])"
      ]
     },
     "execution_count": 162,
     "metadata": {},
     "output_type": "execute_result"
    }
   ],
   "source": [
    "y_pred_dt = dt.predict(X_test_encoder)\n",
    "\n",
    "y_pred_dt"
   ]
  },
  {
   "cell_type": "code",
   "execution_count": 163,
   "metadata": {},
   "outputs": [
    {
     "data": {
      "text/plain": [
       "1.0"
      ]
     },
     "execution_count": 163,
     "metadata": {},
     "output_type": "execute_result"
    }
   ],
   "source": [
    "\n",
    "round(accuracy_score(y_test, y_pred_dt), 2)"
   ]
  },
  {
   "cell_type": "code",
   "execution_count": 165,
   "metadata": {},
   "outputs": [
    {
     "name": "stdout",
     "output_type": "stream",
     "text": [
      "[[1683    0]\n",
      " [   0 1567]]\n"
     ]
    },
    {
     "data": {
      "image/png": "[encoded data removed]",
      "text/plain": [
       "<Figure size 432x288 with 2 Axes>"
      ]
     },
     "metadata": {
      "needs_background": "light"
     },
     "output_type": "display_data"
    }
   ],
   "source": [
    "confusion_dt = confusion_matrix(y_test, y_pred_dt)\n",
    "print(confusion_dt)\n",
    "sns.heatmap(confusion_dt, annot=True, fmt='.0f')\n",
    "plt.ylabel('Verdaderos')\n",
    "plt.xlabel('Predichos');"
   ]
  },
  {
   "cell_type": "code",
   "execution_count": null,
   "metadata": {},
   "outputs": [],
   "source": []
  }
 ],
 "metadata": {
  "kernelspec": {
   "display_name": "Python 3",
   "language": "python",
   "name": "python3"
  },
  "language_info": {
   "codemirror_mode": {
    "name": "ipython",
    "version": 3
   },
   "file_extension": ".py",
   "mimetype": "text/x-python",
   "name": "python",
   "nbconvert_exporter": "python",
   "pygments_lexer": "ipython3",
   "version": "3.7.7"
  }
 },
 "nbformat": 4,
 "nbformat_minor": 4
}
