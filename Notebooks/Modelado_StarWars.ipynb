{
 "cells": [
  {
   "cell_type": "markdown",
   "metadata": {},
   "source": [
    "# Desafío 3"
   ]
  },
  {
   "cell_type": "markdown",
   "metadata": {},
   "source": [
    "## Modelado Star Wars para clasificación de Especies"
   ]
  },
  {
   "cell_type": "markdown",
   "metadata": {},
   "source": [
    "---\n",
    "<b><a id='section_1_1'>1.1. Descripción del dataset Characters</a></b>"
   ]
  },
  {
   "cell_type": "code",
   "execution_count": 56,
   "metadata": {},
   "outputs": [],
   "source": [
    "import numpy as np\n",
    "import pandas as pd\n",
    "import seaborn as sns\n",
    "%matplotlib inline\n",
    "import matplotlib.pyplot as plt\n",
    "import math"
   ]
  },
  {
   "cell_type": "code",
   "execution_count": 57,
   "metadata": {},
   "outputs": [
    {
     "name": "stdout",
     "output_type": "stream",
     "text": [
      "(87, 10)\n"
     ]
    }
   ],
   "source": [
    "data_location = \"../Data/StarWars_Species/characters.csv\"\n",
    "data = pd.read_csv(data_location, sep=\",\")\n",
    "print(data.shape)\n"
   ]
  },
  {
   "cell_type": "markdown",
   "metadata": {},
   "source": [
    "Remoción de espacios"
   ]
  },
  {
   "cell_type": "code",
   "execution_count": 58,
   "metadata": {},
   "outputs": [
    {
     "data": {
      "text/html": [
       "<div>\n",
       "<style scoped>\n",
       "    .dataframe tbody tr th:only-of-type {\n",
       "        vertical-align: middle;\n",
       "    }\n",
       "\n",
       "    .dataframe tbody tr th {\n",
       "        vertical-align: top;\n",
       "    }\n",
       "\n",
       "    .dataframe thead th {\n",
       "        text-align: right;\n",
       "    }\n",
       "</style>\n",
       "<table border=\"1\" class=\"dataframe\">\n",
       "  <thead>\n",
       "    <tr style=\"text-align: right;\">\n",
       "      <th></th>\n",
       "      <th>name</th>\n",
       "      <th>height</th>\n",
       "      <th>mass</th>\n",
       "      <th>hair_color</th>\n",
       "      <th>skin_color</th>\n",
       "      <th>eye_color</th>\n",
       "      <th>birth_year</th>\n",
       "      <th>gender</th>\n",
       "      <th>homeworld</th>\n",
       "      <th>species</th>\n",
       "    </tr>\n",
       "  </thead>\n",
       "  <tbody>\n",
       "    <tr>\n",
       "      <th>0</th>\n",
       "      <td>Luke Skywalker</td>\n",
       "      <td>172.0</td>\n",
       "      <td>77</td>\n",
       "      <td>blond</td>\n",
       "      <td>fair</td>\n",
       "      <td>blue</td>\n",
       "      <td>19BBY</td>\n",
       "      <td>male</td>\n",
       "      <td>Tatooine</td>\n",
       "      <td>Human</td>\n",
       "    </tr>\n",
       "    <tr>\n",
       "      <th>1</th>\n",
       "      <td>C-3PO</td>\n",
       "      <td>167.0</td>\n",
       "      <td>75</td>\n",
       "      <td>NaN</td>\n",
       "      <td>gold</td>\n",
       "      <td>yellow</td>\n",
       "      <td>112BBY</td>\n",
       "      <td>NaN</td>\n",
       "      <td>Tatooine</td>\n",
       "      <td>Droid</td>\n",
       "    </tr>\n",
       "    <tr>\n",
       "      <th>2</th>\n",
       "      <td>R2-D2</td>\n",
       "      <td>96.0</td>\n",
       "      <td>32</td>\n",
       "      <td>NaN</td>\n",
       "      <td>white, blue</td>\n",
       "      <td>red</td>\n",
       "      <td>33BBY</td>\n",
       "      <td>NaN</td>\n",
       "      <td>Naboo</td>\n",
       "      <td>Droid</td>\n",
       "    </tr>\n",
       "    <tr>\n",
       "      <th>3</th>\n",
       "      <td>Darth Vader</td>\n",
       "      <td>202.0</td>\n",
       "      <td>136</td>\n",
       "      <td>none</td>\n",
       "      <td>white</td>\n",
       "      <td>yellow</td>\n",
       "      <td>41.9BBY</td>\n",
       "      <td>male</td>\n",
       "      <td>Tatooine</td>\n",
       "      <td>Human</td>\n",
       "    </tr>\n",
       "    <tr>\n",
       "      <th>4</th>\n",
       "      <td>Leia Organa</td>\n",
       "      <td>150.0</td>\n",
       "      <td>49</td>\n",
       "      <td>brown</td>\n",
       "      <td>light</td>\n",
       "      <td>brown</td>\n",
       "      <td>19BBY</td>\n",
       "      <td>female</td>\n",
       "      <td>Alderaan</td>\n",
       "      <td>Human</td>\n",
       "    </tr>\n",
       "  </tbody>\n",
       "</table>\n",
       "</div>"
      ],
      "text/plain": [
       "             name  height mass hair_color   skin_color eye_color birth_year  \\\n",
       "0  Luke Skywalker   172.0   77      blond         fair      blue      19BBY   \n",
       "1           C-3PO   167.0   75        NaN         gold    yellow     112BBY   \n",
       "2           R2-D2    96.0   32        NaN  white, blue       red      33BBY   \n",
       "3     Darth Vader   202.0  136       none        white    yellow    41.9BBY   \n",
       "4     Leia Organa   150.0   49      brown        light     brown      19BBY   \n",
       "\n",
       "   gender homeworld species  \n",
       "0    male  Tatooine   Human  \n",
       "1     NaN  Tatooine   Droid  \n",
       "2     NaN     Naboo   Droid  \n",
       "3    male  Tatooine   Human  \n",
       "4  female  Alderaan   Human  "
      ]
     },
     "execution_count": 58,
     "metadata": {},
     "output_type": "execute_result"
    }
   ],
   "source": [
    "def trim_all_columns(df):\n",
    "    \"\"\"\n",
    "    Trim whitespace from ends of each value across all series in dataframe\n",
    "    \"\"\"\n",
    "    trim_strings = lambda x: x.strip() if isinstance(x, str) else x\n",
    "    return df.applymap(trim_strings)\n",
    "\n",
    "data = trim_all_columns(data)\n",
    "data.head()"
   ]
  },
  {
   "cell_type": "code",
   "execution_count": 59,
   "metadata": {},
   "outputs": [
    {
     "data": {
      "text/html": [
       "<div>\n",
       "<style scoped>\n",
       "    .dataframe tbody tr th:only-of-type {\n",
       "        vertical-align: middle;\n",
       "    }\n",
       "\n",
       "    .dataframe tbody tr th {\n",
       "        vertical-align: top;\n",
       "    }\n",
       "\n",
       "    .dataframe thead th {\n",
       "        text-align: right;\n",
       "    }\n",
       "</style>\n",
       "<table border=\"1\" class=\"dataframe\">\n",
       "  <thead>\n",
       "    <tr style=\"text-align: right;\">\n",
       "      <th></th>\n",
       "      <th>type</th>\n",
       "      <th>Porcentaje de nulos</th>\n",
       "      <th>Nulos</th>\n",
       "      <th>Valores distintos</th>\n",
       "      <th>Ejemplos</th>\n",
       "    </tr>\n",
       "  </thead>\n",
       "  <tbody>\n",
       "    <tr>\n",
       "      <th>name</th>\n",
       "      <td>object</td>\n",
       "      <td>0.00</td>\n",
       "      <td>0</td>\n",
       "      <td>87</td>\n",
       "      <td>[Luke Skywalker, C-3PO, R2-D2, Darth Vader, Le...</td>\n",
       "    </tr>\n",
       "    <tr>\n",
       "      <th>height</th>\n",
       "      <td>float64</td>\n",
       "      <td>0.07</td>\n",
       "      <td>6</td>\n",
       "      <td>46</td>\n",
       "      <td>[172.0, 167.0, 96.0, 202.0, 150.0, 178.0, 165....</td>\n",
       "    </tr>\n",
       "    <tr>\n",
       "      <th>mass</th>\n",
       "      <td>object</td>\n",
       "      <td>0.32</td>\n",
       "      <td>28</td>\n",
       "      <td>39</td>\n",
       "      <td>[77, 75, 32, 136, 49, 120, 84, nan, 112, 80, 7...</td>\n",
       "    </tr>\n",
       "    <tr>\n",
       "      <th>hair_color</th>\n",
       "      <td>object</td>\n",
       "      <td>0.07</td>\n",
       "      <td>6</td>\n",
       "      <td>12</td>\n",
       "      <td>[blond, nan, none, brown, brown, grey, black, ...</td>\n",
       "    </tr>\n",
       "    <tr>\n",
       "      <th>skin_color</th>\n",
       "      <td>object</td>\n",
       "      <td>0.02</td>\n",
       "      <td>2</td>\n",
       "      <td>31</td>\n",
       "      <td>[fair, gold, white, blue, white, light, white,...</td>\n",
       "    </tr>\n",
       "    <tr>\n",
       "      <th>eye_color</th>\n",
       "      <td>object</td>\n",
       "      <td>0.03</td>\n",
       "      <td>3</td>\n",
       "      <td>15</td>\n",
       "      <td>[blue, yellow, red, brown, blue-gray, black, o...</td>\n",
       "    </tr>\n",
       "    <tr>\n",
       "      <th>birth_year</th>\n",
       "      <td>object</td>\n",
       "      <td>0.51</td>\n",
       "      <td>44</td>\n",
       "      <td>37</td>\n",
       "      <td>[19BBY, 112BBY, 33BBY, 41.9BBY, 52BBY, 47BBY, ...</td>\n",
       "    </tr>\n",
       "    <tr>\n",
       "      <th>gender</th>\n",
       "      <td>object</td>\n",
       "      <td>0.03</td>\n",
       "      <td>3</td>\n",
       "      <td>5</td>\n",
       "      <td>[male, nan, female, hermaphrodite, none]</td>\n",
       "    </tr>\n",
       "    <tr>\n",
       "      <th>homeworld</th>\n",
       "      <td>object</td>\n",
       "      <td>0.11</td>\n",
       "      <td>10</td>\n",
       "      <td>49</td>\n",
       "      <td>[Tatooine, Naboo, Alderaan, Stewjon, Eriadu, K...</td>\n",
       "    </tr>\n",
       "    <tr>\n",
       "      <th>species</th>\n",
       "      <td>object</td>\n",
       "      <td>0.06</td>\n",
       "      <td>5</td>\n",
       "      <td>38</td>\n",
       "      <td>[Human, Droid, Wookiee, Rodian, Hutt, Yoda's s...</td>\n",
       "    </tr>\n",
       "  </tbody>\n",
       "</table>\n",
       "</div>"
      ],
      "text/plain": [
       "               type  Porcentaje de nulos  Nulos  Valores distintos  \\\n",
       "name         object                 0.00      0                 87   \n",
       "height      float64                 0.07      6                 46   \n",
       "mass         object                 0.32     28                 39   \n",
       "hair_color   object                 0.07      6                 12   \n",
       "skin_color   object                 0.02      2                 31   \n",
       "eye_color    object                 0.03      3                 15   \n",
       "birth_year   object                 0.51     44                 37   \n",
       "gender       object                 0.03      3                  5   \n",
       "homeworld    object                 0.11     10                 49   \n",
       "species      object                 0.06      5                 38   \n",
       "\n",
       "                                                     Ejemplos  \n",
       "name        [Luke Skywalker, C-3PO, R2-D2, Darth Vader, Le...  \n",
       "height      [172.0, 167.0, 96.0, 202.0, 150.0, 178.0, 165....  \n",
       "mass        [77, 75, 32, 136, 49, 120, 84, nan, 112, 80, 7...  \n",
       "hair_color  [blond, nan, none, brown, brown, grey, black, ...  \n",
       "skin_color  [fair, gold, white, blue, white, light, white,...  \n",
       "eye_color   [blue, yellow, red, brown, blue-gray, black, o...  \n",
       "birth_year  [19BBY, 112BBY, 33BBY, 41.9BBY, 52BBY, 47BBY, ...  \n",
       "gender               [male, nan, female, hermaphrodite, none]  \n",
       "homeworld   [Tatooine, Naboo, Alderaan, Stewjon, Eriadu, K...  \n",
       "species     [Human, Droid, Wookiee, Rodian, Hutt, Yoda's s...  "
      ]
     },
     "execution_count": 59,
     "metadata": {},
     "output_type": "execute_result"
    }
   ],
   "source": [
    "data_describe = pd.DataFrame(round(data.isnull().sum() /data.shape[0],2), columns= ['Porcentaje de nulos'])\n",
    "data_describe['type'] = data.dtypes\n",
    "data_describe = data_describe[['type','Porcentaje de nulos']]\n",
    "data_describe['Nulos'] = data.isnull().sum()\n",
    "values= []\n",
    "example=[]\n",
    "for x in data:\n",
    "    values.append(len(data[x].unique()))\n",
    "    example.append(data[x].unique())\n",
    "data_describe['Valores distintos'] = values\n",
    "data_describe['Ejemplos'] = example\n",
    "\n",
    "\n",
    "data_describe"
   ]
  },
  {
   "cell_type": "code",
   "execution_count": 60,
   "metadata": {},
   "outputs": [
    {
     "data": {
      "text/plain": [
       "Human             0.43\n",
       "Droid             0.06\n",
       "Gungan            0.04\n",
       "Kaminoan          0.02\n",
       "Mirialan          0.02\n",
       "Twi'lek           0.02\n",
       "Wookiee           0.02\n",
       "Zabrak            0.02\n",
       "Skakoan           0.01\n",
       "Pau'an            0.01\n",
       "Kaleesh           0.01\n",
       "Neimodian         0.01\n",
       "Iktotchi          0.01\n",
       "Muun              0.01\n",
       "Vulptereen        0.01\n",
       "Clawdite          0.01\n",
       "Quermian          0.01\n",
       "Rodian            0.01\n",
       "Geonosian         0.01\n",
       "Toydarian         0.01\n",
       "Tholothian        0.01\n",
       "Dug               0.01\n",
       "Nautolan          0.01\n",
       "Besalisk          0.01\n",
       "Xexto             0.01\n",
       "Mon Calamari      0.01\n",
       "Aleena            0.01\n",
       "Togruta           0.01\n",
       "Ewok              0.01\n",
       "Yoda's species    0.01\n",
       "Toong             0.01\n",
       "Chagrian          0.01\n",
       "Cerean            0.01\n",
       "Hutt              0.01\n",
       "Trandoshan        0.01\n",
       "Kel Dor           0.01\n",
       "Sullustan         0.01\n",
       "Name: species, dtype: float64"
      ]
     },
     "execution_count": 60,
     "metadata": {},
     "output_type": "execute_result"
    }
   ],
   "source": [
    "# Analizamos la proporción entre clases Target\n",
    "data['species'].value_counts(normalize=True).round(2)"
   ]
  },
  {
   "cell_type": "markdown",
   "metadata": {},
   "source": [
    "---\n",
    "<b><a id='section_1_2'>1.2. Preparación y manejo de nulos</a></b>"
   ]
  },
  {
   "cell_type": "markdown",
   "metadata": {},
   "source": [
    "Basado en la investigacion del mundo Star Wars, y teniendo como consulta una tabla especifica de datos de cada especie, decidimos eliminar algunas columnas que no son relevantes para el analisis."
   ]
  },
  {
   "cell_type": "markdown",
   "metadata": {},
   "source": [
    "Imputacion de Especie por investigacion en Internet"
   ]
  },
  {
   "cell_type": "code",
   "execution_count": 61,
   "metadata": {},
   "outputs": [
    {
     "data": {
      "text/html": [
       "<div>\n",
       "<style scoped>\n",
       "    .dataframe tbody tr th:only-of-type {\n",
       "        vertical-align: middle;\n",
       "    }\n",
       "\n",
       "    .dataframe tbody tr th {\n",
       "        vertical-align: top;\n",
       "    }\n",
       "\n",
       "    .dataframe thead th {\n",
       "        text-align: right;\n",
       "    }\n",
       "</style>\n",
       "<table border=\"1\" class=\"dataframe\">\n",
       "  <thead>\n",
       "    <tr style=\"text-align: right;\">\n",
       "      <th></th>\n",
       "      <th>name</th>\n",
       "      <th>height</th>\n",
       "      <th>mass</th>\n",
       "      <th>hair_color</th>\n",
       "      <th>skin_color</th>\n",
       "      <th>eye_color</th>\n",
       "      <th>birth_year</th>\n",
       "      <th>gender</th>\n",
       "      <th>homeworld</th>\n",
       "      <th>species</th>\n",
       "    </tr>\n",
       "  </thead>\n",
       "  <tbody>\n",
       "    <tr>\n",
       "      <th>36</th>\n",
       "      <td>Ric Olié</td>\n",
       "      <td>183.0</td>\n",
       "      <td>NaN</td>\n",
       "      <td>brown</td>\n",
       "      <td>fair</td>\n",
       "      <td>blue</td>\n",
       "      <td>NaN</td>\n",
       "      <td>male</td>\n",
       "      <td>Naboo</td>\n",
       "      <td>NaN</td>\n",
       "    </tr>\n",
       "    <tr>\n",
       "      <th>39</th>\n",
       "      <td>Quarsh Panaka</td>\n",
       "      <td>183.0</td>\n",
       "      <td>NaN</td>\n",
       "      <td>black</td>\n",
       "      <td>dark</td>\n",
       "      <td>brown</td>\n",
       "      <td>62BBY</td>\n",
       "      <td>male</td>\n",
       "      <td>Naboo</td>\n",
       "      <td>NaN</td>\n",
       "    </tr>\n",
       "    <tr>\n",
       "      <th>72</th>\n",
       "      <td>R4-P17</td>\n",
       "      <td>96.0</td>\n",
       "      <td>NaN</td>\n",
       "      <td>none</td>\n",
       "      <td>silver, red</td>\n",
       "      <td>red, blue</td>\n",
       "      <td>NaN</td>\n",
       "      <td>female</td>\n",
       "      <td>NaN</td>\n",
       "      <td>NaN</td>\n",
       "    </tr>\n",
       "    <tr>\n",
       "      <th>79</th>\n",
       "      <td>Sly Moore</td>\n",
       "      <td>178.0</td>\n",
       "      <td>48</td>\n",
       "      <td>none</td>\n",
       "      <td>pale</td>\n",
       "      <td>white</td>\n",
       "      <td>NaN</td>\n",
       "      <td>female</td>\n",
       "      <td>Umbara</td>\n",
       "      <td>NaN</td>\n",
       "    </tr>\n",
       "    <tr>\n",
       "      <th>85</th>\n",
       "      <td>Captain Phasma</td>\n",
       "      <td>NaN</td>\n",
       "      <td>NaN</td>\n",
       "      <td>NaN</td>\n",
       "      <td>NaN</td>\n",
       "      <td>NaN</td>\n",
       "      <td>NaN</td>\n",
       "      <td>female</td>\n",
       "      <td>NaN</td>\n",
       "      <td>NaN</td>\n",
       "    </tr>\n",
       "  </tbody>\n",
       "</table>\n",
       "</div>"
      ],
      "text/plain": [
       "              name  height mass hair_color   skin_color  eye_color birth_year  \\\n",
       "36        Ric Olié   183.0  NaN      brown         fair       blue        NaN   \n",
       "39   Quarsh Panaka   183.0  NaN      black         dark      brown      62BBY   \n",
       "72          R4-P17    96.0  NaN       none  silver, red  red, blue        NaN   \n",
       "79       Sly Moore   178.0   48       none         pale      white        NaN   \n",
       "85  Captain Phasma     NaN  NaN        NaN          NaN        NaN        NaN   \n",
       "\n",
       "    gender homeworld species  \n",
       "36    male     Naboo     NaN  \n",
       "39    male     Naboo     NaN  \n",
       "72  female       NaN     NaN  \n",
       "79  female    Umbara     NaN  \n",
       "85  female       NaN     NaN  "
      ]
     },
     "execution_count": 61,
     "metadata": {},
     "output_type": "execute_result"
    }
   ],
   "source": [
    "sp_mask = data['species'].isnull()\n",
    "sp_nulls = data.loc[sp_mask, :]\n",
    "sp_nulls"
   ]
  },
  {
   "cell_type": "markdown",
   "metadata": {},
   "source": [
    "Analisis de la tabla de Especies"
   ]
  },
  {
   "cell_type": "code",
   "execution_count": 62,
   "metadata": {},
   "outputs": [
    {
     "data": {
      "text/plain": [
       "array(['Hutt', \"Yoda's species\", 'Trandoshan', 'Mon Calamari', 'Ewok',\n",
       "       'Sullustan', 'Neimodian', 'Gungan', 'Toydarian', 'Dug', \"Twi'lek\",\n",
       "       'Aleena', 'Vulptereen', 'Xexto', 'Toong', 'Cerean', 'Nautolan',\n",
       "       'Zabrak', 'Tholothian', 'Iktotchi', 'Quermian', 'Kel Dor',\n",
       "       'Chagrian', 'Geonosian', 'Mirialan', 'Clawdite', 'Besalisk',\n",
       "       'Kaminoan', 'Skakoan', 'Muun', 'Togruta', 'Kaleesh', \"Pau'an\",\n",
       "       'Wookiee', 'Droid', 'Human', 'Rodian'], dtype=object)"
      ]
     },
     "execution_count": 62,
     "metadata": {},
     "output_type": "execute_result"
    }
   ],
   "source": [
    "data_sp_location = \"../Data/StarWars_Species/species.csv\"\n",
    "data_sp = pd.read_csv(data_sp_location, sep=\",\")\n",
    "data_sp['name'].unique()\n"
   ]
  },
  {
   "cell_type": "markdown",
   "metadata": {},
   "source": [
    "Ric Olié es 'Human' - Quarsh Panaka es 'Human' - R4 es 'Droid' - Sly Moore es 'Umbaran' - Phasma es 'Human'"
   ]
  },
  {
   "cell_type": "markdown",
   "metadata": {},
   "source": [
    "Imputación de especie en Nulos"
   ]
  },
  {
   "cell_type": "code",
   "execution_count": 63,
   "metadata": {},
   "outputs": [
    {
     "data": {
      "text/plain": [
       "0"
      ]
     },
     "execution_count": 63,
     "metadata": {},
     "output_type": "execute_result"
    }
   ],
   "source": [
    "data.loc[36, ['species']] = 'Human'\n",
    "data.loc[39, ['species']] = 'Human'\n",
    "data.loc[85, ['species']] = 'Human'\n",
    "data.loc[72, ['species']] = 'Droid'\n",
    "data.loc[79, ['species']] = 'Umbaran'\n",
    "data['species'].isnull().sum()"
   ]
  },
  {
   "cell_type": "markdown",
   "metadata": {},
   "source": [
    "Eliminacion de filas con valores nulos en 'height', 'mass', 'hair_color', 'skin_color', 'eye_color', 'gender', 'homeworld'"
   ]
  },
  {
   "cell_type": "code",
   "execution_count": 64,
   "metadata": {},
   "outputs": [
    {
     "data": {
      "text/plain": [
       "(87, 10)"
      ]
     },
     "execution_count": 64,
     "metadata": {},
     "output_type": "execute_result"
    }
   ],
   "source": [
    "data.shape"
   ]
  },
  {
   "cell_type": "code",
   "execution_count": 65,
   "metadata": {},
   "outputs": [
    {
     "data": {
      "text/plain": [
       "(86, 10)"
      ]
     },
     "execution_count": 65,
     "metadata": {},
     "output_type": "execute_result"
    }
   ],
   "source": [
    "data.dropna(how='all', subset=['height', 'mass', 'hair_color', 'skin_color', 'eye_color'], inplace=True)\n",
    "data.shape"
   ]
  },
  {
   "cell_type": "markdown",
   "metadata": {},
   "source": [
    "Trabajo sobre 'gender'"
   ]
  },
  {
   "cell_type": "code",
   "execution_count": 66,
   "metadata": {},
   "outputs": [
    {
     "data": {
      "text/html": [
       "<div>\n",
       "<style scoped>\n",
       "    .dataframe tbody tr th:only-of-type {\n",
       "        vertical-align: middle;\n",
       "    }\n",
       "\n",
       "    .dataframe tbody tr th {\n",
       "        vertical-align: top;\n",
       "    }\n",
       "\n",
       "    .dataframe thead th {\n",
       "        text-align: right;\n",
       "    }\n",
       "</style>\n",
       "<table border=\"1\" class=\"dataframe\">\n",
       "  <thead>\n",
       "    <tr style=\"text-align: right;\">\n",
       "      <th></th>\n",
       "      <th>name</th>\n",
       "      <th>height</th>\n",
       "      <th>mass</th>\n",
       "      <th>hair_color</th>\n",
       "      <th>skin_color</th>\n",
       "      <th>eye_color</th>\n",
       "      <th>birth_year</th>\n",
       "      <th>gender</th>\n",
       "      <th>homeworld</th>\n",
       "      <th>species</th>\n",
       "    </tr>\n",
       "  </thead>\n",
       "  <tbody>\n",
       "    <tr>\n",
       "      <th>1</th>\n",
       "      <td>C-3PO</td>\n",
       "      <td>167.0</td>\n",
       "      <td>75</td>\n",
       "      <td>NaN</td>\n",
       "      <td>gold</td>\n",
       "      <td>yellow</td>\n",
       "      <td>112BBY</td>\n",
       "      <td>NaN</td>\n",
       "      <td>Tatooine</td>\n",
       "      <td>Droid</td>\n",
       "    </tr>\n",
       "    <tr>\n",
       "      <th>2</th>\n",
       "      <td>R2-D2</td>\n",
       "      <td>96.0</td>\n",
       "      <td>32</td>\n",
       "      <td>NaN</td>\n",
       "      <td>white, blue</td>\n",
       "      <td>red</td>\n",
       "      <td>33BBY</td>\n",
       "      <td>NaN</td>\n",
       "      <td>Naboo</td>\n",
       "      <td>Droid</td>\n",
       "    </tr>\n",
       "    <tr>\n",
       "      <th>7</th>\n",
       "      <td>R5-D4</td>\n",
       "      <td>97.0</td>\n",
       "      <td>32</td>\n",
       "      <td>NaN</td>\n",
       "      <td>white, red</td>\n",
       "      <td>red</td>\n",
       "      <td>NaN</td>\n",
       "      <td>NaN</td>\n",
       "      <td>Tatooine</td>\n",
       "      <td>Droid</td>\n",
       "    </tr>\n",
       "  </tbody>\n",
       "</table>\n",
       "</div>"
      ],
      "text/plain": [
       "    name  height mass hair_color   skin_color eye_color birth_year gender  \\\n",
       "1  C-3PO   167.0   75        NaN         gold    yellow     112BBY    NaN   \n",
       "2  R2-D2    96.0   32        NaN  white, blue       red      33BBY    NaN   \n",
       "7  R5-D4    97.0   32        NaN   white, red       red        NaN    NaN   \n",
       "\n",
       "  homeworld species  \n",
       "1  Tatooine   Droid  \n",
       "2     Naboo   Droid  \n",
       "7  Tatooine   Droid  "
      ]
     },
     "execution_count": 66,
     "metadata": {},
     "output_type": "execute_result"
    }
   ],
   "source": [
    "gr_mask = data['gender'].isnull()\n",
    "gr_nulls = data.loc[gr_mask, :]\n",
    "gr_nulls"
   ]
  },
  {
   "cell_type": "code",
   "execution_count": 67,
   "metadata": {},
   "outputs": [
    {
     "data": {
      "text/plain": [
       "array(['male', nan, 'female', 'hermaphrodite', 'none'], dtype=object)"
      ]
     },
     "execution_count": 67,
     "metadata": {},
     "output_type": "execute_result"
    }
   ],
   "source": [
    "data['gender'].unique()"
   ]
  },
  {
   "cell_type": "markdown",
   "metadata": {},
   "source": [
    "Al ser todos Droid, imputamos genero 'none'"
   ]
  },
  {
   "cell_type": "code",
   "execution_count": 68,
   "metadata": {},
   "outputs": [
    {
     "data": {
      "text/plain": [
       "0"
      ]
     },
     "execution_count": 68,
     "metadata": {},
     "output_type": "execute_result"
    }
   ],
   "source": [
    "data.loc[gr_mask, ['gender']] = 'none'\n",
    "data['gender'].isnull().sum()"
   ]
  },
  {
   "cell_type": "markdown",
   "metadata": {},
   "source": [
    "En el caso de 'homeworld' muchas especies comparten el planeta natal, por lo tanto esta columna y la fecha de nacimiento no se utilizaran para el analisis."
   ]
  },
  {
   "cell_type": "code",
   "execution_count": 69,
   "metadata": {},
   "outputs": [
    {
     "data": {
      "text/plain": [
       "(86, 8)"
      ]
     },
     "execution_count": 69,
     "metadata": {},
     "output_type": "execute_result"
    }
   ],
   "source": [
    "data.drop(['homeworld', 'birth_year'], axis=1, inplace=True)\n",
    "data.shape"
   ]
  },
  {
   "cell_type": "markdown",
   "metadata": {},
   "source": [
    "Columna 'eye_color'"
   ]
  },
  {
   "cell_type": "code",
   "execution_count": 70,
   "metadata": {},
   "outputs": [
    {
     "data": {
      "text/html": [
       "<div>\n",
       "<style scoped>\n",
       "    .dataframe tbody tr th:only-of-type {\n",
       "        vertical-align: middle;\n",
       "    }\n",
       "\n",
       "    .dataframe tbody tr th {\n",
       "        vertical-align: top;\n",
       "    }\n",
       "\n",
       "    .dataframe thead th {\n",
       "        text-align: right;\n",
       "    }\n",
       "</style>\n",
       "<table border=\"1\" class=\"dataframe\">\n",
       "  <thead>\n",
       "    <tr style=\"text-align: right;\">\n",
       "      <th></th>\n",
       "      <th>name</th>\n",
       "      <th>height</th>\n",
       "      <th>mass</th>\n",
       "      <th>hair_color</th>\n",
       "      <th>skin_color</th>\n",
       "      <th>eye_color</th>\n",
       "      <th>gender</th>\n",
       "      <th>species</th>\n",
       "    </tr>\n",
       "  </thead>\n",
       "  <tbody>\n",
       "    <tr>\n",
       "      <th>71</th>\n",
       "      <td>Ratts Tyerell</td>\n",
       "      <td>79.0</td>\n",
       "      <td>15</td>\n",
       "      <td>none</td>\n",
       "      <td>grey, blue</td>\n",
       "      <td>NaN</td>\n",
       "      <td>male</td>\n",
       "      <td>Aleena</td>\n",
       "    </tr>\n",
       "    <tr>\n",
       "      <th>73</th>\n",
       "      <td>Wat Tambor</td>\n",
       "      <td>193.0</td>\n",
       "      <td>48</td>\n",
       "      <td>none</td>\n",
       "      <td>green, grey</td>\n",
       "      <td>NaN</td>\n",
       "      <td>male</td>\n",
       "      <td>Skakoan</td>\n",
       "    </tr>\n",
       "  </tbody>\n",
       "</table>\n",
       "</div>"
      ],
      "text/plain": [
       "             name  height mass hair_color   skin_color eye_color gender  \\\n",
       "71  Ratts Tyerell    79.0   15       none   grey, blue       NaN   male   \n",
       "73     Wat Tambor   193.0   48       none  green, grey       NaN   male   \n",
       "\n",
       "    species  \n",
       "71   Aleena  \n",
       "73  Skakoan  "
      ]
     },
     "execution_count": 70,
     "metadata": {},
     "output_type": "execute_result"
    }
   ],
   "source": [
    "ey_mask = data['eye_color'].isnull()\n",
    "ey_nulls = data.loc[ey_mask, :]\n",
    "ey_nulls"
   ]
  },
  {
   "cell_type": "code",
   "execution_count": 71,
   "metadata": {},
   "outputs": [
    {
     "data": {
      "text/plain": [
       "array(['blue', 'yellow', 'red', 'brown', 'blue-gray', 'black', 'orange',\n",
       "       'hazel', 'pink', nan, 'red, blue', 'gold', 'green, yellow',\n",
       "       'white', 'dark'], dtype=object)"
      ]
     },
     "execution_count": 71,
     "metadata": {},
     "output_type": "execute_result"
    }
   ],
   "source": [
    "data['eye_color'].unique()"
   ]
  },
  {
   "cell_type": "markdown",
   "metadata": {},
   "source": [
    "Al ser personajes con cascos o gafas, decidimos agregar 'unknown' como categoria"
   ]
  },
  {
   "cell_type": "code",
   "execution_count": 72,
   "metadata": {},
   "outputs": [
    {
     "data": {
      "text/plain": [
       "0"
      ]
     },
     "execution_count": 72,
     "metadata": {},
     "output_type": "execute_result"
    }
   ],
   "source": [
    "data.loc[ey_mask, ['eye_color']] = 'unknown'\n",
    "data['eye_color'].isnull().sum()"
   ]
  },
  {
   "cell_type": "markdown",
   "metadata": {},
   "source": [
    "Columna 'skin_color'"
   ]
  },
  {
   "cell_type": "code",
   "execution_count": 73,
   "metadata": {},
   "outputs": [
    {
     "data": {
      "text/html": [
       "<div>\n",
       "<style scoped>\n",
       "    .dataframe tbody tr th:only-of-type {\n",
       "        vertical-align: middle;\n",
       "    }\n",
       "\n",
       "    .dataframe tbody tr th {\n",
       "        vertical-align: top;\n",
       "    }\n",
       "\n",
       "    .dataframe thead th {\n",
       "        text-align: right;\n",
       "    }\n",
       "</style>\n",
       "<table border=\"1\" class=\"dataframe\">\n",
       "  <thead>\n",
       "    <tr style=\"text-align: right;\">\n",
       "      <th></th>\n",
       "      <th>name</th>\n",
       "      <th>height</th>\n",
       "      <th>mass</th>\n",
       "      <th>hair_color</th>\n",
       "      <th>skin_color</th>\n",
       "      <th>eye_color</th>\n",
       "      <th>gender</th>\n",
       "      <th>species</th>\n",
       "    </tr>\n",
       "  </thead>\n",
       "  <tbody>\n",
       "    <tr>\n",
       "      <th>12</th>\n",
       "      <td>Chewbacca</td>\n",
       "      <td>228.0</td>\n",
       "      <td>112</td>\n",
       "      <td>brown</td>\n",
       "      <td>NaN</td>\n",
       "      <td>blue</td>\n",
       "      <td>male</td>\n",
       "      <td>Wookiee</td>\n",
       "    </tr>\n",
       "  </tbody>\n",
       "</table>\n",
       "</div>"
      ],
      "text/plain": [
       "         name  height mass hair_color skin_color eye_color gender  species\n",
       "12  Chewbacca   228.0  112      brown        NaN      blue   male  Wookiee"
      ]
     },
     "execution_count": 73,
     "metadata": {},
     "output_type": "execute_result"
    }
   ],
   "source": [
    "sk_mask = data['skin_color'].isnull()\n",
    "sk_nulls = data.loc[sk_mask, :]\n",
    "sk_nulls"
   ]
  },
  {
   "cell_type": "code",
   "execution_count": 74,
   "metadata": {},
   "outputs": [
    {
     "data": {
      "text/plain": [
       "array(['fair', 'gold', 'white, blue', 'white', 'light', 'white, red', nan,\n",
       "       'green', 'green-tan, brown', 'pale', 'metal', 'dark',\n",
       "       'brown mottle', 'brown', 'grey', 'mottled green', 'orange',\n",
       "       'blue, grey', 'grey, red', 'red', 'blue', 'grey, green, yellow',\n",
       "       'yellow', 'tan', 'fair, green, yellow', 'grey, blue',\n",
       "       'silver, red', 'green, grey', 'red, blue, white', 'brown, white',\n",
       "       'none'], dtype=object)"
      ]
     },
     "execution_count": 74,
     "metadata": {},
     "output_type": "execute_result"
    }
   ],
   "source": [
    "data['skin_color'].unique()"
   ]
  },
  {
   "cell_type": "code",
   "execution_count": 75,
   "metadata": {},
   "outputs": [],
   "source": [
    "data.loc[12, ['skin_color']] = 'dark'"
   ]
  },
  {
   "cell_type": "markdown",
   "metadata": {},
   "source": [
    "Columna 'hair_color'"
   ]
  },
  {
   "cell_type": "code",
   "execution_count": 76,
   "metadata": {},
   "outputs": [
    {
     "data": {
      "text/html": [
       "<div>\n",
       "<style scoped>\n",
       "    .dataframe tbody tr th:only-of-type {\n",
       "        vertical-align: middle;\n",
       "    }\n",
       "\n",
       "    .dataframe tbody tr th {\n",
       "        vertical-align: top;\n",
       "    }\n",
       "\n",
       "    .dataframe thead th {\n",
       "        text-align: right;\n",
       "    }\n",
       "</style>\n",
       "<table border=\"1\" class=\"dataframe\">\n",
       "  <thead>\n",
       "    <tr style=\"text-align: right;\">\n",
       "      <th></th>\n",
       "      <th>name</th>\n",
       "      <th>height</th>\n",
       "      <th>mass</th>\n",
       "      <th>hair_color</th>\n",
       "      <th>skin_color</th>\n",
       "      <th>eye_color</th>\n",
       "      <th>gender</th>\n",
       "      <th>species</th>\n",
       "    </tr>\n",
       "  </thead>\n",
       "  <tbody>\n",
       "    <tr>\n",
       "      <th>1</th>\n",
       "      <td>C-3PO</td>\n",
       "      <td>167.0</td>\n",
       "      <td>75</td>\n",
       "      <td>NaN</td>\n",
       "      <td>gold</td>\n",
       "      <td>yellow</td>\n",
       "      <td>none</td>\n",
       "      <td>Droid</td>\n",
       "    </tr>\n",
       "    <tr>\n",
       "      <th>2</th>\n",
       "      <td>R2-D2</td>\n",
       "      <td>96.0</td>\n",
       "      <td>32</td>\n",
       "      <td>NaN</td>\n",
       "      <td>white, blue</td>\n",
       "      <td>red</td>\n",
       "      <td>none</td>\n",
       "      <td>Droid</td>\n",
       "    </tr>\n",
       "    <tr>\n",
       "      <th>7</th>\n",
       "      <td>R5-D4</td>\n",
       "      <td>97.0</td>\n",
       "      <td>32</td>\n",
       "      <td>NaN</td>\n",
       "      <td>white, red</td>\n",
       "      <td>red</td>\n",
       "      <td>none</td>\n",
       "      <td>Droid</td>\n",
       "    </tr>\n",
       "    <tr>\n",
       "      <th>14</th>\n",
       "      <td>Greedo</td>\n",
       "      <td>173.0</td>\n",
       "      <td>74</td>\n",
       "      <td>NaN</td>\n",
       "      <td>green</td>\n",
       "      <td>black</td>\n",
       "      <td>male</td>\n",
       "      <td>Rodian</td>\n",
       "    </tr>\n",
       "    <tr>\n",
       "      <th>15</th>\n",
       "      <td>Jabba Desilijic Tiure</td>\n",
       "      <td>175.0</td>\n",
       "      <td>1,358</td>\n",
       "      <td>NaN</td>\n",
       "      <td>green-tan, brown</td>\n",
       "      <td>orange</td>\n",
       "      <td>hermaphrodite</td>\n",
       "      <td>Hutt</td>\n",
       "    </tr>\n",
       "  </tbody>\n",
       "</table>\n",
       "</div>"
      ],
      "text/plain": [
       "                     name  height   mass hair_color        skin_color  \\\n",
       "1                   C-3PO   167.0     75        NaN              gold   \n",
       "2                   R2-D2    96.0     32        NaN       white, blue   \n",
       "7                   R5-D4    97.0     32        NaN        white, red   \n",
       "14                 Greedo   173.0     74        NaN             green   \n",
       "15  Jabba Desilijic Tiure   175.0  1,358        NaN  green-tan, brown   \n",
       "\n",
       "   eye_color         gender species  \n",
       "1     yellow           none   Droid  \n",
       "2        red           none   Droid  \n",
       "7        red           none   Droid  \n",
       "14     black           male  Rodian  \n",
       "15    orange  hermaphrodite    Hutt  "
      ]
     },
     "execution_count": 76,
     "metadata": {},
     "output_type": "execute_result"
    }
   ],
   "source": [
    "hr_mask = data['hair_color'].isnull()\n",
    "hr_nulls = data.loc[hr_mask, :]\n",
    "hr_nulls"
   ]
  },
  {
   "cell_type": "code",
   "execution_count": 78,
   "metadata": {},
   "outputs": [
    {
     "data": {
      "text/plain": [
       "none             37\n",
       "brown            18\n",
       "black            13\n",
       "white             4\n",
       "blond             3\n",
       "auburn, grey      1\n",
       "grey              1\n",
       "blonde            1\n",
       "brown, grey       1\n",
       "auburn, white     1\n",
       "auburn            1\n",
       "Name: hair_color, dtype: int64"
      ]
     },
     "execution_count": 78,
     "metadata": {},
     "output_type": "execute_result"
    }
   ],
   "source": [
    "data['hair_color'].value_counts()"
   ]
  },
  {
   "cell_type": "code",
   "execution_count": 79,
   "metadata": {},
   "outputs": [
    {
     "data": {
      "text/plain": [
       "0"
      ]
     },
     "execution_count": 79,
     "metadata": {},
     "output_type": "execute_result"
    }
   ],
   "source": [
    "data.loc[hr_mask, ['hair_color']] = 'none'\n",
    "data['hair_color'].isnull().sum()"
   ]
  },
  {
   "cell_type": "code",
   "execution_count": 81,
   "metadata": {},
   "outputs": [],
   "source": [
    "data.loc[data['hair_color']=='blonde', ['hair_color']] = 'blond'"
   ]
  },
  {
   "cell_type": "markdown",
   "metadata": {},
   "source": [
    "Convertir a numerica la columna de 'mass'"
   ]
  },
  {
   "cell_type": "code",
   "execution_count": 88,
   "metadata": {},
   "outputs": [
    {
     "data": {
      "text/plain": [
       "27"
      ]
     },
     "execution_count": 88,
     "metadata": {},
     "output_type": "execute_result"
    }
   ],
   "source": [
    "data['mass'].isnull().sum()"
   ]
  },
  {
   "cell_type": "code",
   "execution_count": 90,
   "metadata": {},
   "outputs": [
    {
     "data": {
      "text/plain": [
       "dtype('float64')"
      ]
     },
     "execution_count": 90,
     "metadata": {},
     "output_type": "execute_result"
    }
   ],
   "source": [
    "\n",
    "data['mass'] = pd.to_numeric(data['mass'], errors='coerce')\n",
    "data['mass'].dtype"
   ]
  },
  {
   "cell_type": "markdown",
   "metadata": {},
   "source": [
    "Tanto para 'mass' y 'height' por su relevancia, completaremos con el SimpleImputer"
   ]
  },
  {
   "cell_type": "code",
   "execution_count": 93,
   "metadata": {},
   "outputs": [
    {
     "data": {
      "text/plain": [
       "count     58.000000\n",
       "mean      75.575862\n",
       "std       29.252514\n",
       "min       15.000000\n",
       "25%       55.300000\n",
       "50%       79.000000\n",
       "75%       84.000000\n",
       "max      159.000000\n",
       "Name: mass, dtype: float64"
      ]
     },
     "execution_count": 93,
     "metadata": {},
     "output_type": "execute_result"
    }
   ],
   "source": [
    "data['mass'].describe()"
   ]
  },
  {
   "cell_type": "code",
   "execution_count": 94,
   "metadata": {},
   "outputs": [
    {
     "data": {
      "text/plain": [
       "count     81.000000\n",
       "mean     174.358025\n",
       "std       34.770429\n",
       "min       66.000000\n",
       "25%      167.000000\n",
       "50%      180.000000\n",
       "75%      191.000000\n",
       "max      264.000000\n",
       "Name: height, dtype: float64"
      ]
     },
     "execution_count": 94,
     "metadata": {},
     "output_type": "execute_result"
    }
   ],
   "source": [
    "data['height'].describe()"
   ]
  },
  {
   "cell_type": "code",
   "execution_count": null,
   "metadata": {},
   "outputs": [],
   "source": []
  },
  {
   "cell_type": "code",
   "execution_count": 96,
   "metadata": {},
   "outputs": [
    {
     "data": {
      "text/plain": [
       "Text(0, 0.5, 'Masa')"
      ]
     },
     "execution_count": 96,
     "metadata": {},
     "output_type": "execute_result"
    },
    {
     "data": {
      "image/png": "[encoded data removed]",
      "text/plain": [
       "<Figure size 1080x360 with 1 Axes>"
      ]
     },
     "metadata": {
      "needs_background": "light"
     },
     "output_type": "display_data"
    }
   ],
   "source": [
    "f, ax = plt.subplots()\n",
    "f.set_figwidth(15)\n",
    "f.set_figheight(5)\n",
    "sns.boxplot(x=data['species'],y=data['mass'])\n",
    "plt.title(\"Relacion de masa por especie\",fontsize=15)\n",
    "plt.xlabel(\"Especie\",fontsize=5)\n",
    "plt.ylabel(\"Masa\",fontsize=8)"
   ]
  },
  {
   "cell_type": "code",
   "execution_count": 97,
   "metadata": {},
   "outputs": [
    {
     "data": {
      "text/plain": [
       "Text(0, 0.5, 'Altura')"
      ]
     },
     "execution_count": 97,
     "metadata": {},
     "output_type": "execute_result"
    },
    {
     "data": {
      "image/png": "[encoded data removed]",
      "text/plain": [
       "<Figure size 1080x360 with 1 Axes>"
      ]
     },
     "metadata": {
      "needs_background": "light"
     },
     "output_type": "display_data"
    }
   ],
   "source": [
    "f, ax = plt.subplots()\n",
    "f.set_figwidth(15)\n",
    "f.set_figheight(5)\n",
    "sns.boxplot(x=data['species'],y=data['height'])\n",
    "plt.title(\"Relacion de altura por especie\",fontsize=15)\n",
    "plt.xlabel(\"Especie\",fontsize=5)\n",
    "plt.ylabel(\"Altura\",fontsize=8)"
   ]
  },
  {
   "cell_type": "markdown",
   "metadata": {},
   "source": [
    "#### Se aplica SimpleImputer, se pueden variar las estrategias de imputacion sobre los valores de masa y altura"
   ]
  },
  {
   "cell_type": "code",
   "execution_count": 107,
   "metadata": {},
   "outputs": [
    {
     "data": {
      "text/plain": [
       "height    0\n",
       "mass      0\n",
       "dtype: int64"
      ]
     },
     "execution_count": 107,
     "metadata": {},
     "output_type": "execute_result"
    }
   ],
   "source": [
    "from sklearn.impute import SimpleImputer\n",
    "imp_mean = SimpleImputer(strategy='mean')\n",
    "height_mass = data[['height','mass']]\n",
    "data[['height', 'mass']] = imp_mean.fit_transform(height_mass)\n",
    "\n",
    "data[['height', 'mass']].isnull().sum()"
   ]
  },
  {
   "cell_type": "code",
   "execution_count": 108,
   "metadata": {},
   "outputs": [
    {
     "data": {
      "text/html": [
       "<div>\n",
       "<style scoped>\n",
       "    .dataframe tbody tr th:only-of-type {\n",
       "        vertical-align: middle;\n",
       "    }\n",
       "\n",
       "    .dataframe tbody tr th {\n",
       "        vertical-align: top;\n",
       "    }\n",
       "\n",
       "    .dataframe thead th {\n",
       "        text-align: right;\n",
       "    }\n",
       "</style>\n",
       "<table border=\"1\" class=\"dataframe\">\n",
       "  <thead>\n",
       "    <tr style=\"text-align: right;\">\n",
       "      <th></th>\n",
       "      <th>name</th>\n",
       "      <th>height</th>\n",
       "      <th>mass</th>\n",
       "      <th>hair_color</th>\n",
       "      <th>skin_color</th>\n",
       "      <th>eye_color</th>\n",
       "      <th>gender</th>\n",
       "      <th>species</th>\n",
       "    </tr>\n",
       "  </thead>\n",
       "  <tbody>\n",
       "    <tr>\n",
       "      <th>82</th>\n",
       "      <td>Rey</td>\n",
       "      <td>174.358025</td>\n",
       "      <td>75.575862</td>\n",
       "      <td>brown</td>\n",
       "      <td>light</td>\n",
       "      <td>hazel</td>\n",
       "      <td>female</td>\n",
       "      <td>Human</td>\n",
       "    </tr>\n",
       "    <tr>\n",
       "      <th>81</th>\n",
       "      <td>Finn</td>\n",
       "      <td>174.358025</td>\n",
       "      <td>75.575862</td>\n",
       "      <td>black</td>\n",
       "      <td>dark</td>\n",
       "      <td>dark</td>\n",
       "      <td>male</td>\n",
       "      <td>Human</td>\n",
       "    </tr>\n",
       "    <tr>\n",
       "      <th>1</th>\n",
       "      <td>C-3PO</td>\n",
       "      <td>167.000000</td>\n",
       "      <td>75.000000</td>\n",
       "      <td>none</td>\n",
       "      <td>gold</td>\n",
       "      <td>yellow</td>\n",
       "      <td>none</td>\n",
       "      <td>Droid</td>\n",
       "    </tr>\n",
       "    <tr>\n",
       "      <th>26</th>\n",
       "      <td>Mon Mothma</td>\n",
       "      <td>150.000000</td>\n",
       "      <td>75.575862</td>\n",
       "      <td>auburn</td>\n",
       "      <td>fair</td>\n",
       "      <td>blue</td>\n",
       "      <td>female</td>\n",
       "      <td>Human</td>\n",
       "    </tr>\n",
       "    <tr>\n",
       "      <th>44</th>\n",
       "      <td>Dud Bolt</td>\n",
       "      <td>94.000000</td>\n",
       "      <td>45.000000</td>\n",
       "      <td>none</td>\n",
       "      <td>blue, grey</td>\n",
       "      <td>yellow</td>\n",
       "      <td>male</td>\n",
       "      <td>Vulptereen</td>\n",
       "    </tr>\n",
       "  </tbody>\n",
       "</table>\n",
       "</div>"
      ],
      "text/plain": [
       "          name      height       mass hair_color  skin_color eye_color  \\\n",
       "82         Rey  174.358025  75.575862      brown       light     hazel   \n",
       "81        Finn  174.358025  75.575862      black        dark      dark   \n",
       "1        C-3PO  167.000000  75.000000       none        gold    yellow   \n",
       "26  Mon Mothma  150.000000  75.575862     auburn        fair      blue   \n",
       "44    Dud Bolt   94.000000  45.000000       none  blue, grey    yellow   \n",
       "\n",
       "    gender     species  \n",
       "82  female       Human  \n",
       "81    male       Human  \n",
       "1     none       Droid  \n",
       "26  female       Human  \n",
       "44    male  Vulptereen  "
      ]
     },
     "execution_count": 108,
     "metadata": {},
     "output_type": "execute_result"
    }
   ],
   "source": [
    "data.sample(5)"
   ]
  },
  {
   "cell_type": "markdown",
   "metadata": {},
   "source": [
    "---\n",
    "<b><a id='section_1_3'>1.3. Preparación de sets de datos, conversion de variables categoricas</a></b>"
   ]
  },
  {
   "cell_type": "markdown",
   "metadata": {},
   "source": [
    "Conversion con LabelEncoder"
   ]
  },
  {
   "cell_type": "code",
   "execution_count": 111,
   "metadata": {},
   "outputs": [],
   "source": [
    "from sklearn.preprocessing import OneHotEncoder\n",
    "from sklearn.compose import ColumnTransformer\n",
    "from sklearn.preprocessing import LabelEncoder"
   ]
  },
  {
   "cell_type": "code",
   "execution_count": 113,
   "metadata": {},
   "outputs": [],
   "source": [
    "le = LabelEncoder()"
   ]
  },
  {
   "cell_type": "code",
   "execution_count": 120,
   "metadata": {},
   "outputs": [
    {
     "data": {
      "text/html": [
       "<div>\n",
       "<style scoped>\n",
       "    .dataframe tbody tr th:only-of-type {\n",
       "        vertical-align: middle;\n",
       "    }\n",
       "\n",
       "    .dataframe tbody tr th {\n",
       "        vertical-align: top;\n",
       "    }\n",
       "\n",
       "    .dataframe thead th {\n",
       "        text-align: right;\n",
       "    }\n",
       "</style>\n",
       "<table border=\"1\" class=\"dataframe\">\n",
       "  <thead>\n",
       "    <tr style=\"text-align: right;\">\n",
       "      <th></th>\n",
       "      <th>name</th>\n",
       "      <th>height</th>\n",
       "      <th>mass</th>\n",
       "      <th>hair_color</th>\n",
       "      <th>skin_color</th>\n",
       "      <th>eye_color</th>\n",
       "      <th>gender</th>\n",
       "      <th>species</th>\n",
       "    </tr>\n",
       "  </thead>\n",
       "  <tbody>\n",
       "    <tr>\n",
       "      <th>0</th>\n",
       "      <td>Luke Skywalker</td>\n",
       "      <td>172.0</td>\n",
       "      <td>77.0</td>\n",
       "      <td>4</td>\n",
       "      <td>6</td>\n",
       "      <td>1</td>\n",
       "      <td>2</td>\n",
       "      <td>10</td>\n",
       "    </tr>\n",
       "    <tr>\n",
       "      <th>1</th>\n",
       "      <td>C-3PO</td>\n",
       "      <td>167.0</td>\n",
       "      <td>75.0</td>\n",
       "      <td>8</td>\n",
       "      <td>8</td>\n",
       "      <td>14</td>\n",
       "      <td>3</td>\n",
       "      <td>5</td>\n",
       "    </tr>\n",
       "    <tr>\n",
       "      <th>2</th>\n",
       "      <td>R2-D2</td>\n",
       "      <td>96.0</td>\n",
       "      <td>32.0</td>\n",
       "      <td>8</td>\n",
       "      <td>27</td>\n",
       "      <td>10</td>\n",
       "      <td>3</td>\n",
       "      <td>5</td>\n",
       "    </tr>\n",
       "  </tbody>\n",
       "</table>\n",
       "</div>"
      ],
      "text/plain": [
       "             name  height  mass  hair_color  skin_color  eye_color  gender  \\\n",
       "0  Luke Skywalker   172.0  77.0           4           6          1       2   \n",
       "1           C-3PO   167.0  75.0           8           8         14       3   \n",
       "2           R2-D2    96.0  32.0           8          27         10       3   \n",
       "\n",
       "   species  \n",
       "0       10  \n",
       "1        5  \n",
       "2        5  "
      ]
     },
     "execution_count": 120,
     "metadata": {},
     "output_type": "execute_result"
    }
   ],
   "source": [
    "data[['hair_color', 'skin_color', 'eye_color',\n",
    "       'gender', 'species']] = data[['hair_color', 'skin_color', 'eye_color',\n",
    "       'gender', 'species']].apply(le.fit_transform)\n",
    "data.head(3)"
   ]
  },
  {
   "cell_type": "code",
   "execution_count": 125,
   "metadata": {},
   "outputs": [
    {
     "name": "stdout",
     "output_type": "stream",
     "text": [
      "<class 'pandas.core.frame.DataFrame'>\n",
      "Int64Index: 86 entries, 0 to 86\n",
      "Data columns (total 6 columns):\n",
      " #   Column      Non-Null Count  Dtype  \n",
      "---  ------      --------------  -----  \n",
      " 0   height      86 non-null     float64\n",
      " 1   mass        86 non-null     float64\n",
      " 2   hair_color  86 non-null     int64  \n",
      " 3   skin_color  86 non-null     int64  \n",
      " 4   eye_color   86 non-null     int64  \n",
      " 5   gender      86 non-null     int64  \n",
      "dtypes: float64(2), int64(4)\n",
      "memory usage: 7.2 KB\n",
      "None\n",
      "0     10\n",
      "1      5\n",
      "2      5\n",
      "3     10\n",
      "4     10\n",
      "      ..\n",
      "81    10\n",
      "82    10\n",
      "83    10\n",
      "84     5\n",
      "86    10\n",
      "Name: species, Length: 86, dtype: int64\n"
     ]
    }
   ],
   "source": [
    "X = data.drop(['name', 'species'], axis=1)\n",
    "y = data['species']\n",
    "print(X.info())\n",
    "print(y)"
   ]
  },
  {
   "cell_type": "code",
   "execution_count": 131,
   "metadata": {},
   "outputs": [],
   "source": [
    "from sklearn.preprocessing import StandardScaler\n",
    "scaler = StandardScaler()"
   ]
  },
  {
   "cell_type": "code",
   "execution_count": 134,
   "metadata": {},
   "outputs": [
    {
     "data": {
      "text/plain": [
       "<matplotlib.axes._subplots.AxesSubplot at 0x7f843a7f2f10>"
      ]
     },
     "execution_count": 134,
     "metadata": {},
     "output_type": "execute_result"
    },
    {
     "data": {
      "image/png": "[encoded data removed]",
      "text/plain": [
       "<Figure size 432x648 with 2 Axes>"
      ]
     },
     "metadata": {
      "needs_background": "light"
     },
     "output_type": "display_data"
    }
   ],
   "source": [
    "data_corr = data.drop(['name'], axis=1)\n",
    "plt.figure(figsize=(6,9))\n",
    "sns.heatmap(data_corr.corr()[['species']], cmap=\"PiYG\", annot=True)"
   ]
  },
  {
   "cell_type": "code",
   "execution_count": 135,
   "metadata": {},
   "outputs": [],
   "source": [
    "from sklearn.model_selection import train_test_split\n",
    "X_train, X_test, y_train, y_test = train_test_split(X, y,random_state=12)"
   ]
  },
  {
   "cell_type": "code",
   "execution_count": 129,
   "metadata": {},
   "outputs": [
    {
     "data": {
      "text/plain": [
       "10    0.45\n",
       "5     0.06\n",
       "9     0.05\n",
       "37    0.03\n",
       "31    0.03\n",
       "17    0.02\n",
       "2     0.02\n",
       "4     0.02\n",
       "6     0.02\n",
       "7     0.02\n",
       "11    0.02\n",
       "12    0.02\n",
       "13    0.02\n",
       "14    0.02\n",
       "16    0.02\n",
       "19    0.02\n",
       "36    0.02\n",
       "21    0.02\n",
       "22    0.02\n",
       "24    0.02\n",
       "26    0.02\n",
       "27    0.02\n",
       "28    0.02\n",
       "29    0.02\n",
       "30    0.02\n",
       "32    0.02\n",
       "34    0.02\n",
       "35    0.02\n",
       "1     0.02\n",
       "Name: species, dtype: float64"
      ]
     },
     "metadata": {},
     "output_type": "display_data"
    },
    {
     "data": {
      "text/plain": [
       "10    0.36\n",
       "5     0.09\n",
       "25    0.05\n",
       "23    0.05\n",
       "20    0.05\n",
       "18    0.05\n",
       "16    0.05\n",
       "15    0.05\n",
       "14    0.05\n",
       "8     0.05\n",
       "3     0.05\n",
       "34    0.05\n",
       "33    0.05\n",
       "0     0.05\n",
       "Name: species, dtype: float64"
      ]
     },
     "metadata": {},
     "output_type": "display_data"
    }
   ],
   "source": [
    "display(y_train.value_counts(normalize=True).round(2))\n",
    "display(y_test.value_counts(normalize=True).round(2))"
   ]
  }
 ],
 "metadata": {
  "kernelspec": {
   "display_name": "Python 3",
   "language": "python",
   "name": "python3"
  },
  "language_info": {
   "codemirror_mode": {
    "name": "ipython",
    "version": 3
   },
   "file_extension": ".py",
   "mimetype": "text/x-python",
   "name": "python",
   "nbconvert_exporter": "python",
   "pygments_lexer": "ipython3",
   "version": "3.7.7"
  }
 },
 "nbformat": 4,
 "nbformat_minor": 4
}
