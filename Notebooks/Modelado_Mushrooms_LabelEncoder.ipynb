{
 "cells": [
  {
   "cell_type": "markdown",
   "metadata": {},
   "source": [
    "# Desafío 3"
   ]
  },
  {
   "cell_type": "markdown",
   "metadata": {},
   "source": [
    "## Modelado para Mushrooms"
   ]
  },
  {
   "cell_type": "markdown",
   "metadata": {},
   "source": [
    "---\n",
    "<b><a id='section_1_'>1.1. Descripción del dataset Hongos</a></b>"
   ]
  },
  {
   "cell_type": "code",
   "execution_count": 449,
   "metadata": {},
   "outputs": [],
   "source": [
    "import numpy as np\n",
    "import pandas as pd\n",
    "import seaborn as sns\n",
    "%matplotlib inline\n",
    "import matplotlib.pyplot as plt\n",
    "import math"
   ]
  },
  {
   "cell_type": "code",
   "execution_count": 450,
   "metadata": {},
   "outputs": [
    {
     "name": "stdout",
     "output_type": "stream",
     "text": [
      "(8124, 23)\n"
     ]
    }
   ],
   "source": [
    "data_location = \"../Data/Hongos/mushrooms.csv\"\n",
    "data = pd.read_csv(data_location, sep=\",\")\n",
    "print(data.shape)\n"
   ]
  },
  {
   "cell_type": "code",
   "execution_count": 451,
   "metadata": {},
   "outputs": [
    {
     "data": {
      "text/html": [
       "<div>\n",
       "<style scoped>\n",
       "    .dataframe tbody tr th:only-of-type {\n",
       "        vertical-align: middle;\n",
       "    }\n",
       "\n",
       "    .dataframe tbody tr th {\n",
       "        vertical-align: top;\n",
       "    }\n",
       "\n",
       "    .dataframe thead th {\n",
       "        text-align: right;\n",
       "    }\n",
       "</style>\n",
       "<table border=\"1\" class=\"dataframe\">\n",
       "  <thead>\n",
       "    <tr style=\"text-align: right;\">\n",
       "      <th></th>\n",
       "      <th>type</th>\n",
       "      <th>Porcentaje de nulos</th>\n",
       "      <th>Nulos</th>\n",
       "      <th>Valores distintos</th>\n",
       "      <th>Ejemplos</th>\n",
       "    </tr>\n",
       "  </thead>\n",
       "  <tbody>\n",
       "    <tr>\n",
       "      <th>class</th>\n",
       "      <td>object</td>\n",
       "      <td>0.0</td>\n",
       "      <td>0</td>\n",
       "      <td>2</td>\n",
       "      <td>[p, e]</td>\n",
       "    </tr>\n",
       "    <tr>\n",
       "      <th>cap-shape</th>\n",
       "      <td>object</td>\n",
       "      <td>0.0</td>\n",
       "      <td>0</td>\n",
       "      <td>6</td>\n",
       "      <td>[x, b, s, f, k, c]</td>\n",
       "    </tr>\n",
       "    <tr>\n",
       "      <th>cap-surface</th>\n",
       "      <td>object</td>\n",
       "      <td>0.0</td>\n",
       "      <td>0</td>\n",
       "      <td>4</td>\n",
       "      <td>[s, y, f, g]</td>\n",
       "    </tr>\n",
       "    <tr>\n",
       "      <th>cap-color</th>\n",
       "      <td>object</td>\n",
       "      <td>0.0</td>\n",
       "      <td>0</td>\n",
       "      <td>10</td>\n",
       "      <td>[n, y, w, g, e, p, b, u, c, r]</td>\n",
       "    </tr>\n",
       "    <tr>\n",
       "      <th>bruises</th>\n",
       "      <td>object</td>\n",
       "      <td>0.0</td>\n",
       "      <td>0</td>\n",
       "      <td>2</td>\n",
       "      <td>[t, f]</td>\n",
       "    </tr>\n",
       "    <tr>\n",
       "      <th>odor</th>\n",
       "      <td>object</td>\n",
       "      <td>0.0</td>\n",
       "      <td>0</td>\n",
       "      <td>9</td>\n",
       "      <td>[p, a, l, n, f, c, y, s, m]</td>\n",
       "    </tr>\n",
       "    <tr>\n",
       "      <th>gill-attachment</th>\n",
       "      <td>object</td>\n",
       "      <td>0.0</td>\n",
       "      <td>0</td>\n",
       "      <td>2</td>\n",
       "      <td>[f, a]</td>\n",
       "    </tr>\n",
       "    <tr>\n",
       "      <th>gill-spacing</th>\n",
       "      <td>object</td>\n",
       "      <td>0.0</td>\n",
       "      <td>0</td>\n",
       "      <td>2</td>\n",
       "      <td>[c, w]</td>\n",
       "    </tr>\n",
       "    <tr>\n",
       "      <th>gill-size</th>\n",
       "      <td>object</td>\n",
       "      <td>0.0</td>\n",
       "      <td>0</td>\n",
       "      <td>2</td>\n",
       "      <td>[n, b]</td>\n",
       "    </tr>\n",
       "    <tr>\n",
       "      <th>gill-color</th>\n",
       "      <td>object</td>\n",
       "      <td>0.0</td>\n",
       "      <td>0</td>\n",
       "      <td>12</td>\n",
       "      <td>[k, n, g, p, w, h, u, e, b, r, y, o]</td>\n",
       "    </tr>\n",
       "    <tr>\n",
       "      <th>stalk-shape</th>\n",
       "      <td>object</td>\n",
       "      <td>0.0</td>\n",
       "      <td>0</td>\n",
       "      <td>2</td>\n",
       "      <td>[e, t]</td>\n",
       "    </tr>\n",
       "    <tr>\n",
       "      <th>stalk-root</th>\n",
       "      <td>object</td>\n",
       "      <td>0.0</td>\n",
       "      <td>0</td>\n",
       "      <td>5</td>\n",
       "      <td>[e, c, b, r, ?]</td>\n",
       "    </tr>\n",
       "    <tr>\n",
       "      <th>stalk-surface-above-ring</th>\n",
       "      <td>object</td>\n",
       "      <td>0.0</td>\n",
       "      <td>0</td>\n",
       "      <td>4</td>\n",
       "      <td>[s, f, k, y]</td>\n",
       "    </tr>\n",
       "    <tr>\n",
       "      <th>stalk-surface-below-ring</th>\n",
       "      <td>object</td>\n",
       "      <td>0.0</td>\n",
       "      <td>0</td>\n",
       "      <td>4</td>\n",
       "      <td>[s, f, y, k]</td>\n",
       "    </tr>\n",
       "    <tr>\n",
       "      <th>stalk-color-above-ring</th>\n",
       "      <td>object</td>\n",
       "      <td>0.0</td>\n",
       "      <td>0</td>\n",
       "      <td>9</td>\n",
       "      <td>[w, g, p, n, b, e, o, c, y]</td>\n",
       "    </tr>\n",
       "    <tr>\n",
       "      <th>stalk-color-below-ring</th>\n",
       "      <td>object</td>\n",
       "      <td>0.0</td>\n",
       "      <td>0</td>\n",
       "      <td>9</td>\n",
       "      <td>[w, p, g, b, n, e, y, o, c]</td>\n",
       "    </tr>\n",
       "    <tr>\n",
       "      <th>veil-type</th>\n",
       "      <td>object</td>\n",
       "      <td>0.0</td>\n",
       "      <td>0</td>\n",
       "      <td>1</td>\n",
       "      <td>[p]</td>\n",
       "    </tr>\n",
       "    <tr>\n",
       "      <th>veil-color</th>\n",
       "      <td>object</td>\n",
       "      <td>0.0</td>\n",
       "      <td>0</td>\n",
       "      <td>4</td>\n",
       "      <td>[w, n, o, y]</td>\n",
       "    </tr>\n",
       "    <tr>\n",
       "      <th>ring-number</th>\n",
       "      <td>object</td>\n",
       "      <td>0.0</td>\n",
       "      <td>0</td>\n",
       "      <td>3</td>\n",
       "      <td>[o, t, n]</td>\n",
       "    </tr>\n",
       "    <tr>\n",
       "      <th>ring-type</th>\n",
       "      <td>object</td>\n",
       "      <td>0.0</td>\n",
       "      <td>0</td>\n",
       "      <td>5</td>\n",
       "      <td>[p, e, l, f, n]</td>\n",
       "    </tr>\n",
       "    <tr>\n",
       "      <th>spore-print-color</th>\n",
       "      <td>object</td>\n",
       "      <td>0.0</td>\n",
       "      <td>0</td>\n",
       "      <td>9</td>\n",
       "      <td>[k, n, u, h, w, r, o, y, b]</td>\n",
       "    </tr>\n",
       "    <tr>\n",
       "      <th>population</th>\n",
       "      <td>object</td>\n",
       "      <td>0.0</td>\n",
       "      <td>0</td>\n",
       "      <td>6</td>\n",
       "      <td>[s, n, a, v, y, c]</td>\n",
       "    </tr>\n",
       "    <tr>\n",
       "      <th>habitat</th>\n",
       "      <td>object</td>\n",
       "      <td>0.0</td>\n",
       "      <td>0</td>\n",
       "      <td>7</td>\n",
       "      <td>[u, g, m, d, p, w, l]</td>\n",
       "    </tr>\n",
       "  </tbody>\n",
       "</table>\n",
       "</div>"
      ],
      "text/plain": [
       "                            type  Porcentaje de nulos  Nulos  \\\n",
       "class                     object                  0.0      0   \n",
       "cap-shape                 object                  0.0      0   \n",
       "cap-surface               object                  0.0      0   \n",
       "cap-color                 object                  0.0      0   \n",
       "bruises                   object                  0.0      0   \n",
       "odor                      object                  0.0      0   \n",
       "gill-attachment           object                  0.0      0   \n",
       "gill-spacing              object                  0.0      0   \n",
       "gill-size                 object                  0.0      0   \n",
       "gill-color                object                  0.0      0   \n",
       "stalk-shape               object                  0.0      0   \n",
       "stalk-root                object                  0.0      0   \n",
       "stalk-surface-above-ring  object                  0.0      0   \n",
       "stalk-surface-below-ring  object                  0.0      0   \n",
       "stalk-color-above-ring    object                  0.0      0   \n",
       "stalk-color-below-ring    object                  0.0      0   \n",
       "veil-type                 object                  0.0      0   \n",
       "veil-color                object                  0.0      0   \n",
       "ring-number               object                  0.0      0   \n",
       "ring-type                 object                  0.0      0   \n",
       "spore-print-color         object                  0.0      0   \n",
       "population                object                  0.0      0   \n",
       "habitat                   object                  0.0      0   \n",
       "\n",
       "                          Valores distintos  \\\n",
       "class                                     2   \n",
       "cap-shape                                 6   \n",
       "cap-surface                               4   \n",
       "cap-color                                10   \n",
       "bruises                                   2   \n",
       "odor                                      9   \n",
       "gill-attachment                           2   \n",
       "gill-spacing                              2   \n",
       "gill-size                                 2   \n",
       "gill-color                               12   \n",
       "stalk-shape                               2   \n",
       "stalk-root                                5   \n",
       "stalk-surface-above-ring                  4   \n",
       "stalk-surface-below-ring                  4   \n",
       "stalk-color-above-ring                    9   \n",
       "stalk-color-below-ring                    9   \n",
       "veil-type                                 1   \n",
       "veil-color                                4   \n",
       "ring-number                               3   \n",
       "ring-type                                 5   \n",
       "spore-print-color                         9   \n",
       "population                                6   \n",
       "habitat                                   7   \n",
       "\n",
       "                                                      Ejemplos  \n",
       "class                                                   [p, e]  \n",
       "cap-shape                                   [x, b, s, f, k, c]  \n",
       "cap-surface                                       [s, y, f, g]  \n",
       "cap-color                       [n, y, w, g, e, p, b, u, c, r]  \n",
       "bruises                                                 [t, f]  \n",
       "odor                               [p, a, l, n, f, c, y, s, m]  \n",
       "gill-attachment                                         [f, a]  \n",
       "gill-spacing                                            [c, w]  \n",
       "gill-size                                               [n, b]  \n",
       "gill-color                [k, n, g, p, w, h, u, e, b, r, y, o]  \n",
       "stalk-shape                                             [e, t]  \n",
       "stalk-root                                     [e, c, b, r, ?]  \n",
       "stalk-surface-above-ring                          [s, f, k, y]  \n",
       "stalk-surface-below-ring                          [s, f, y, k]  \n",
       "stalk-color-above-ring             [w, g, p, n, b, e, o, c, y]  \n",
       "stalk-color-below-ring             [w, p, g, b, n, e, y, o, c]  \n",
       "veil-type                                                  [p]  \n",
       "veil-color                                        [w, n, o, y]  \n",
       "ring-number                                          [o, t, n]  \n",
       "ring-type                                      [p, e, l, f, n]  \n",
       "spore-print-color                  [k, n, u, h, w, r, o, y, b]  \n",
       "population                                  [s, n, a, v, y, c]  \n",
       "habitat                                  [u, g, m, d, p, w, l]  "
      ]
     },
     "execution_count": 451,
     "metadata": {},
     "output_type": "execute_result"
    }
   ],
   "source": [
    "data_describe = pd.DataFrame(round(data.isnull().sum() /data.shape[0],2), columns= ['Porcentaje de nulos'])\n",
    "data_describe['type'] = data.dtypes\n",
    "data_describe = data_describe[['type','Porcentaje de nulos']]\n",
    "data_describe['Nulos'] = data.isnull().sum()\n",
    "values= []\n",
    "example=[]\n",
    "for x in data:\n",
    "    values.append(len(data[x].unique()))\n",
    "    example.append(data[x].unique())\n",
    "data_describe['Valores distintos'] = values\n",
    "data_describe['Ejemplos'] = example\n",
    "\n",
    "\n",
    "data_describe"
   ]
  },
  {
   "cell_type": "code",
   "execution_count": 452,
   "metadata": {},
   "outputs": [
    {
     "data": {
      "text/plain": [
       "e    0.52\n",
       "p    0.48\n",
       "Name: class, dtype: float64"
      ]
     },
     "execution_count": 452,
     "metadata": {},
     "output_type": "execute_result"
    }
   ],
   "source": [
    "# Analizamos la proporción entre clases Target\n",
    "data['class'].value_counts(normalize=True).round(2)"
   ]
  },
  {
   "cell_type": "markdown",
   "metadata": {},
   "source": [
    "---\n",
    "<b><a id='section_1_'>1.2. Transformación de variables Categoricas</a></b>"
   ]
  },
  {
   "cell_type": "code",
   "execution_count": 453,
   "metadata": {},
   "outputs": [],
   "source": [
    "from sklearn.preprocessing import OneHotEncoder\n",
    "from sklearn.compose import ColumnTransformer\n",
    "from sklearn.preprocessing import LabelEncoder"
   ]
  },
  {
   "cell_type": "markdown",
   "metadata": {},
   "source": [
    "### Probando LabelEncoder"
   ]
  },
  {
   "cell_type": "code",
   "execution_count": 454,
   "metadata": {},
   "outputs": [],
   "source": [
    "le = LabelEncoder()"
   ]
  },
  {
   "cell_type": "code",
   "execution_count": 455,
   "metadata": {},
   "outputs": [
    {
     "data": {
      "text/plain": [
       "class                       int64\n",
       "cap-shape                   int64\n",
       "cap-surface                 int64\n",
       "cap-color                   int64\n",
       "bruises                     int64\n",
       "odor                        int64\n",
       "gill-attachment             int64\n",
       "gill-spacing                int64\n",
       "gill-size                   int64\n",
       "gill-color                  int64\n",
       "stalk-shape                 int64\n",
       "stalk-root                  int64\n",
       "stalk-surface-above-ring    int64\n",
       "stalk-surface-below-ring    int64\n",
       "stalk-color-above-ring      int64\n",
       "stalk-color-below-ring      int64\n",
       "veil-type                   int64\n",
       "veil-color                  int64\n",
       "ring-number                 int64\n",
       "ring-type                   int64\n",
       "spore-print-color           int64\n",
       "population                  int64\n",
       "habitat                     int64\n",
       "dtype: object"
      ]
     },
     "execution_count": 455,
     "metadata": {},
     "output_type": "execute_result"
    }
   ],
   "source": [
    "data_encoded = data.apply(le.fit_transform)\n",
    "data_encoded.dtypes"
   ]
  },
  {
   "cell_type": "markdown",
   "metadata": {},
   "source": [
    "### Separación de features, target y sets de entrenamiento y testeo"
   ]
  },
  {
   "cell_type": "code",
   "execution_count": 483,
   "metadata": {},
   "outputs": [
    {
     "name": "stdout",
     "output_type": "stream",
     "text": [
      "<class 'pandas.core.frame.DataFrame'>\n",
      "<class 'pandas.core.series.Series'>\n"
     ]
    }
   ],
   "source": [
    "erase_columns = ['cap-color','veil-type', 'stalk-shape', 'gill-size', 'gill-attachment', 'gill-spacing', 'bruises','class', 'veil-color', 'ring-number', 'stalk-surface-above-ring', 'population', 'stalk-color-above-ring','stalk-root', 'odor','stalk-surface-below-ring', 'stalk-color-below-ring','cap-shape', 'cap-surface']\n",
    "X = data_encoded[['ring-type']]\n",
    "y = data_encoded['class']\n",
    "print(type(X))\n",
    "print(type(y))\n"
   ]
  },
  {
   "cell_type": "code",
   "execution_count": 457,
   "metadata": {},
   "outputs": [
    {
     "data": {
      "text/plain": [
       "<matplotlib.axes._subplots.AxesSubplot at 0x7ff2a13d43d0>"
      ]
     },
     "execution_count": 457,
     "metadata": {},
     "output_type": "execute_result"
    },
    {
     "data": {
      "image/png": "[encoded data removed]",
      "text/plain": [
       "<Figure size 432x648 with 2 Axes>"
      ]
     },
     "metadata": {
      "needs_background": "light"
     },
     "output_type": "display_data"
    }
   ],
   "source": [
    "plt.figure(figsize=(6,9))\n",
    "sns.heatmap(data_encoded.corr()[['class']], cmap=\"PiYG\", annot=True)"
   ]
  },
  {
   "cell_type": "code",
   "execution_count": 458,
   "metadata": {},
   "outputs": [
    {
     "data": {
      "text/plain": [
       "<seaborn.axisgrid.FacetGrid at 0x7ff2a1611250>"
      ]
     },
     "execution_count": 458,
     "metadata": {},
     "output_type": "execute_result"
    },
    {
     "data": {
      "image/png": "[encoded data removed]",
      "text/plain": [
       "<Figure size 360x360 with 1 Axes>"
      ]
     },
     "metadata": {
      "needs_background": "light"
     },
     "output_type": "display_data"
    }
   ],
   "source": [
    "sns.catplot(x='class', y='gill-color', data=data_encoded)\n",
    "#sns.pairplot(data_encoded.drop('veil-type', axis=1), hue='class')"
   ]
  },
  {
   "cell_type": "code",
   "execution_count": 459,
   "metadata": {},
   "outputs": [
    {
     "data": {
      "text/plain": [
       "<seaborn.axisgrid.PairGrid at 0x7ff29eb6d710>"
      ]
     },
     "execution_count": 459,
     "metadata": {},
     "output_type": "execute_result"
    },
    {
     "data": {
      "image/png": "[encoded data removed]",
      "text/plain": [
       "<Figure size 1122.38x1080 with 36 Axes>"
      ]
     },
     "metadata": {
      "needs_background": "light"
     },
     "output_type": "display_data"
    }
   ],
   "source": [
    "erase_columns2 = ['veil-type', 'stalk-shape', 'gill-size', 'gill-attachment', 'gill-spacing', 'bruises', 'veil-color', 'ring-number', 'stalk-surface-above-ring', 'stalk-surface-below-ring','population', 'stalk-color-above-ring', 'odor', 'stalk-color-below-ring', 'cap-shape', 'cap-surface']\n",
    "sns.pairplot(data_encoded.drop(erase_columns2, axis=1), diag_kind='none', hue='class')"
   ]
  },
  {
   "cell_type": "code",
   "execution_count": 460,
   "metadata": {},
   "outputs": [
    {
     "name": "stdout",
     "output_type": "stream",
     "text": [
      "<class 'pandas.core.frame.DataFrame'>\n",
      "RangeIndex: 8124 entries, 0 to 8123\n",
      "Data columns (total 23 columns):\n",
      " #   Column                    Non-Null Count  Dtype\n",
      "---  ------                    --------------  -----\n",
      " 0   class                     8124 non-null   int64\n",
      " 1   cap-shape                 8124 non-null   int64\n",
      " 2   cap-surface               8124 non-null   int64\n",
      " 3   cap-color                 8124 non-null   int64\n",
      " 4   bruises                   8124 non-null   int64\n",
      " 5   odor                      8124 non-null   int64\n",
      " 6   gill-attachment           8124 non-null   int64\n",
      " 7   gill-spacing              8124 non-null   int64\n",
      " 8   gill-size                 8124 non-null   int64\n",
      " 9   gill-color                8124 non-null   int64\n",
      " 10  stalk-shape               8124 non-null   int64\n",
      " 11  stalk-root                8124 non-null   int64\n",
      " 12  stalk-surface-above-ring  8124 non-null   int64\n",
      " 13  stalk-surface-below-ring  8124 non-null   int64\n",
      " 14  stalk-color-above-ring    8124 non-null   int64\n",
      " 15  stalk-color-below-ring    8124 non-null   int64\n",
      " 16  veil-type                 8124 non-null   int64\n",
      " 17  veil-color                8124 non-null   int64\n",
      " 18  ring-number               8124 non-null   int64\n",
      " 19  ring-type                 8124 non-null   int64\n",
      " 20  spore-print-color         8124 non-null   int64\n",
      " 21  population                8124 non-null   int64\n",
      " 22  habitat                   8124 non-null   int64\n",
      "dtypes: int64(23)\n",
      "memory usage: 1.4 MB\n"
     ]
    }
   ],
   "source": [
    "data_encoded.info()"
   ]
  },
  {
   "cell_type": "code",
   "execution_count": 461,
   "metadata": {},
   "outputs": [],
   "source": [
    "from sklearn.model_selection import train_test_split\n",
    "X_train, X_test, y_train, y_test = train_test_split(X, y, stratify=y, random_state=12)"
   ]
  },
  {
   "cell_type": "code",
   "execution_count": 462,
   "metadata": {},
   "outputs": [
    {
     "data": {
      "text/plain": [
       "0    0.52\n",
       "1    0.48\n",
       "Name: class, dtype: float64"
      ]
     },
     "metadata": {},
     "output_type": "display_data"
    },
    {
     "data": {
      "text/plain": [
       "0    0.52\n",
       "1    0.48\n",
       "Name: class, dtype: float64"
      ]
     },
     "metadata": {},
     "output_type": "display_data"
    }
   ],
   "source": [
    "display(y_train.value_counts(normalize=True).round(2))\n",
    "display(y_test.value_counts(normalize=True).round(2))"
   ]
  },
  {
   "cell_type": "markdown",
   "metadata": {},
   "source": [
    "### GridSearchCV con KNN y LogisticRegression"
   ]
  },
  {
   "cell_type": "code",
   "execution_count": 463,
   "metadata": {},
   "outputs": [],
   "source": [
    "from sklearn.linear_model import LogisticRegression\n",
    "from sklearn.neighbors import KNeighborsClassifier\n",
    "from sklearn.model_selection import GridSearchCV\n",
    "from sklearn.metrics import classification_report, confusion_matrix\n",
    "from sklearn.preprocessing import normalize"
   ]
  },
  {
   "cell_type": "code",
   "execution_count": 464,
   "metadata": {
    "colab": {},
    "colab_type": "code",
    "id": "IYwM0lY7i7bl"
   },
   "outputs": [],
   "source": [
    "lr = LogisticRegression()\n",
    "knn = KNeighborsClassifier()"
   ]
  },
  {
   "cell_type": "code",
   "execution_count": 465,
   "metadata": {},
   "outputs": [],
   "source": [
    "k_range = list(range(1, 30))\n",
    "C = [0.02,0.03,0.04,0.05,0.06]\n",
    "solver = ['saga']\n",
    "penalty = ['l1','l2']\n",
    "weight_options = ['uniform', 'distance']\n",
    "#class_weight = ['balanced']\n"
   ]
  },
  {
   "cell_type": "code",
   "execution_count": 466,
   "metadata": {
    "colab": {},
    "colab_type": "code",
    "id": "2tvslAf2i7br"
   },
   "outputs": [
    {
     "name": "stdout",
     "output_type": "stream",
     "text": [
      "{'C': [0.02, 0.03, 0.04, 0.05, 0.06], 'solver': ['saga'], 'penalty': ['l1', 'l2']}\n"
     ]
    }
   ],
   "source": [
    "param_grid_lr = dict(C=C, solver=solver, penalty=penalty)\n",
    "print(param_grid_lr)"
   ]
  },
  {
   "cell_type": "code",
   "execution_count": 467,
   "metadata": {},
   "outputs": [
    {
     "name": "stdout",
     "output_type": "stream",
     "text": [
      "{'n_neighbors': [1, 2, 3, 4, 5, 6, 7, 8, 9, 10, 11, 12, 13, 14, 15, 16, 17, 18, 19, 20, 21, 22, 23, 24, 25, 26, 27, 28, 29], 'weights': ['uniform', 'distance']}\n"
     ]
    }
   ],
   "source": [
    "param_grid_knn = dict(n_neighbors=k_range, weights=weight_options)\n",
    "print(param_grid_knn)"
   ]
  },
  {
   "cell_type": "markdown",
   "metadata": {},
   "source": [
    "Evaluamos la mejor configuración de hiperparámetros de cada modelo: **LogReg** y **KNN**"
   ]
  },
  {
   "cell_type": "code",
   "execution_count": 468,
   "metadata": {},
   "outputs": [],
   "source": [
    "from sklearn.model_selection import StratifiedKFold\n",
    "folds=StratifiedKFold(n_splits=10, random_state=19, shuffle=True)"
   ]
  },
  {
   "cell_type": "code",
   "execution_count": 469,
   "metadata": {},
   "outputs": [
    {
     "data": {
      "text/plain": [
       "GridSearchCV(cv=StratifiedKFold(n_splits=10, random_state=19, shuffle=True),\n",
       "             estimator=KNeighborsClassifier(),\n",
       "             param_grid={'n_neighbors': [1, 2, 3, 4, 5, 6, 7, 8, 9, 10, 11, 12,\n",
       "                                         13, 14, 15, 16, 17, 18, 19, 20, 21, 22,\n",
       "                                         23, 24, 25, 26, 27, 28, 29],\n",
       "                         'weights': ['uniform', 'distance']},\n",
       "             scoring='accuracy')"
      ]
     },
     "execution_count": 469,
     "metadata": {},
     "output_type": "execute_result"
    }
   ],
   "source": [
    "grid_lr = GridSearchCV(lr, param_grid_lr, cv=folds, scoring='accuracy')\n",
    "grid_lr.fit(X_train, y_train)\n",
    "grid_knn = GridSearchCV(knn, param_grid_knn, cv=folds, scoring='accuracy')\n",
    "grid_knn.fit(X_train, y_train)"
   ]
  },
  {
   "cell_type": "code",
   "execution_count": 470,
   "metadata": {},
   "outputs": [
    {
     "name": "stdout",
     "output_type": "stream",
     "text": [
      "Logistic Regression:\n",
      "LogisticRegression(C=0.02, penalty='l1', solver='saga')\n",
      "0.667967912999004\n",
      "{'C': 0.02, 'penalty': 'l1', 'solver': 'saga'}\n",
      "######################\n",
      "KNN:\n",
      "KNeighborsClassifier(n_neighbors=17)\n",
      "0.8663972112304503\n",
      "{'n_neighbors': 17, 'weights': 'uniform'}\n"
     ]
    }
   ],
   "source": [
    "print(\"Logistic Regression:\")\n",
    "print(grid_lr.best_estimator_)\n",
    "print(grid_lr.best_score_)\n",
    "print(grid_lr.best_params_)\n",
    "print(\"######################\")\n",
    "print(\"KNN:\")\n",
    "print(grid_knn.best_estimator_)\n",
    "print(grid_knn.best_score_)\n",
    "print(grid_knn.best_params_)"
   ]
  },
  {
   "cell_type": "code",
   "execution_count": 471,
   "metadata": {},
   "outputs": [],
   "source": [
    "y_pred_grid_lr = grid_lr.predict(X_test)\n",
    "y_pred_grid_knn = grid_knn.predict(X_test)"
   ]
  },
  {
   "cell_type": "code",
   "execution_count": 472,
   "metadata": {},
   "outputs": [
    {
     "name": "stdout",
     "output_type": "stream",
     "text": [
      "              precision    recall  f1-score   support\n",
      "\n",
      "           0       0.63      0.83      0.72      1052\n",
      "           1       0.73      0.48      0.58       979\n",
      "\n",
      "    accuracy                           0.66      2031\n",
      "   macro avg       0.68      0.66      0.65      2031\n",
      "weighted avg       0.68      0.66      0.65      2031\n",
      "\n",
      "              precision    recall  f1-score   support\n",
      "\n",
      "           0       0.90      0.85      0.87      1052\n",
      "           1       0.85      0.89      0.87       979\n",
      "\n",
      "    accuracy                           0.87      2031\n",
      "   macro avg       0.87      0.87      0.87      2031\n",
      "weighted avg       0.87      0.87      0.87      2031\n",
      "\n"
     ]
    }
   ],
   "source": [
    "print (classification_report(y_test, y_pred_grid_lr))\n",
    "print (classification_report(y_test, y_pred_grid_knn))"
   ]
  },
  {
   "cell_type": "code",
   "execution_count": 473,
   "metadata": {},
   "outputs": [
    {
     "name": "stdout",
     "output_type": "stream",
     "text": [
      "[[878 174]\n",
      " [507 472]]\n",
      "[[898 154]\n",
      " [104 875]]\n"
     ]
    },
    {
     "data": {
      "image/png": "[encoded data removed]",
      "text/plain": [
       "<Figure size 432x288 with 2 Axes>"
      ]
     },
     "metadata": {
      "needs_background": "light"
     },
     "output_type": "display_data"
    }
   ],
   "source": [
    "import matplotlib.pyplot as plt\n",
    "%matplotlib inline\n",
    "import seaborn as sns\n",
    "confusion_lr = confusion_matrix(y_test, y_pred_grid_lr)\n",
    "print(confusion_lr)\n",
    "confusion_knn = confusion_matrix(y_test, y_pred_grid_knn)\n",
    "print(confusion_knn)\n",
    "sns.heatmap(confusion_lr, annot=True, fmt='.0f')\n",
    "plt.ylabel('Verdaderos')\n",
    "plt.xlabel('Predichos');"
   ]
  },
  {
   "cell_type": "code",
   "execution_count": 474,
   "metadata": {},
   "outputs": [
    {
     "data": {
      "image/png": "[encoded data removed]",
      "text/plain": [
       "<Figure size 432x288 with 2 Axes>"
      ]
     },
     "metadata": {
      "needs_background": "light"
     },
     "output_type": "display_data"
    }
   ],
   "source": [
    "sns.heatmap(confusion_knn, annot=True, fmt='.0f')\n",
    "plt.ylabel('Verdaderos')\n",
    "plt.xlabel('Predichos');"
   ]
  },
  {
   "cell_type": "code",
   "execution_count": 475,
   "metadata": {},
   "outputs": [
    {
     "data": {
      "text/html": [
       "<div>\n",
       "<style scoped>\n",
       "    .dataframe tbody tr th:only-of-type {\n",
       "        vertical-align: middle;\n",
       "    }\n",
       "\n",
       "    .dataframe tbody tr th {\n",
       "        vertical-align: top;\n",
       "    }\n",
       "\n",
       "    .dataframe thead th {\n",
       "        text-align: right;\n",
       "    }\n",
       "</style>\n",
       "<table border=\"1\" class=\"dataframe\">\n",
       "  <thead>\n",
       "    <tr style=\"text-align: right;\">\n",
       "      <th></th>\n",
       "      <th>0</th>\n",
       "      <th>1</th>\n",
       "    </tr>\n",
       "  </thead>\n",
       "  <tbody>\n",
       "    <tr>\n",
       "      <th>0</th>\n",
       "      <td>0.608978</td>\n",
       "      <td>0.391022</td>\n",
       "    </tr>\n",
       "    <tr>\n",
       "      <th>1</th>\n",
       "      <td>0.608978</td>\n",
       "      <td>0.391022</td>\n",
       "    </tr>\n",
       "    <tr>\n",
       "      <th>2</th>\n",
       "      <td>0.397469</td>\n",
       "      <td>0.602531</td>\n",
       "    </tr>\n",
       "    <tr>\n",
       "      <th>3</th>\n",
       "      <td>0.397469</td>\n",
       "      <td>0.602531</td>\n",
       "    </tr>\n",
       "    <tr>\n",
       "      <th>4</th>\n",
       "      <td>0.397469</td>\n",
       "      <td>0.602531</td>\n",
       "    </tr>\n",
       "    <tr>\n",
       "      <th>...</th>\n",
       "      <td>...</td>\n",
       "      <td>...</td>\n",
       "    </tr>\n",
       "    <tr>\n",
       "      <th>2026</th>\n",
       "      <td>0.608978</td>\n",
       "      <td>0.391022</td>\n",
       "    </tr>\n",
       "    <tr>\n",
       "      <th>2027</th>\n",
       "      <td>0.539088</td>\n",
       "      <td>0.460912</td>\n",
       "    </tr>\n",
       "    <tr>\n",
       "      <th>2028</th>\n",
       "      <td>0.539088</td>\n",
       "      <td>0.460912</td>\n",
       "    </tr>\n",
       "    <tr>\n",
       "      <th>2029</th>\n",
       "      <td>0.539088</td>\n",
       "      <td>0.460912</td>\n",
       "    </tr>\n",
       "    <tr>\n",
       "      <th>2030</th>\n",
       "      <td>0.539088</td>\n",
       "      <td>0.460912</td>\n",
       "    </tr>\n",
       "  </tbody>\n",
       "</table>\n",
       "<p>2031 rows × 2 columns</p>\n",
       "</div>"
      ],
      "text/plain": [
       "             0         1\n",
       "0     0.608978  0.391022\n",
       "1     0.608978  0.391022\n",
       "2     0.397469  0.602531\n",
       "3     0.397469  0.602531\n",
       "4     0.397469  0.602531\n",
       "...        ...       ...\n",
       "2026  0.608978  0.391022\n",
       "2027  0.539088  0.460912\n",
       "2028  0.539088  0.460912\n",
       "2029  0.539088  0.460912\n",
       "2030  0.539088  0.460912\n",
       "\n",
       "[2031 rows x 2 columns]"
      ]
     },
     "execution_count": 475,
     "metadata": {},
     "output_type": "execute_result"
    }
   ],
   "source": [
    "y_pred_lr_proba = grid_lr.predict_proba(X_test)\n",
    "y_pred_lr_proba_df = pd.DataFrame(y_pred_lr_proba)\n",
    "y_pred_lr_proba_df"
   ]
  },
  {
   "cell_type": "markdown",
   "metadata": {},
   "source": [
    "### Test sobre los threshold"
   ]
  },
  {
   "cell_type": "code",
   "execution_count": 476,
   "metadata": {},
   "outputs": [
    {
     "name": "stdout",
     "output_type": "stream",
     "text": [
      "\n",
      "******** For i = 0.05 ******\n",
      "Our testing accuracy is 0.48202855736090594\n",
      "[[   0 1052]\n",
      " [   0  979]]\n",
      "\n",
      "******** For i = 0.1 ******\n",
      "Our testing accuracy is 0.48202855736090594\n",
      "[[   0 1052]\n",
      " [   0  979]]\n",
      "\n",
      "******** For i = 0.15 ******\n",
      "Our testing accuracy is 0.48202855736090594\n",
      "[[   0 1052]\n",
      " [   0  979]]\n",
      "\n",
      "******** For i = 0.2 ******\n",
      "Our testing accuracy is 0.48202855736090594\n",
      "[[   0 1052]\n",
      " [   0  979]]\n",
      "\n",
      "******** For i = 0.25 ******\n",
      "Our testing accuracy is 0.48202855736090594\n",
      "[[   0 1052]\n",
      " [   0  979]]\n",
      "\n",
      "******** For i = 0.3 ******\n",
      "Our testing accuracy is 0.48202855736090594\n",
      "[[   0 1052]\n",
      " [   0  979]]\n",
      "\n",
      "******** For i = 0.35 ******\n",
      "Our testing accuracy is 0.48202855736090594\n",
      "[[   0 1052]\n",
      " [   0  979]]\n",
      "\n",
      "******** For i = 0.4 ******\n",
      "Our testing accuracy is 0.29246676514032494\n",
      "[[  18 1034]\n",
      " [ 403  576]]\n",
      "\n",
      "******** For i = 0.45 ******\n",
      "Our testing accuracy is 0.4707040866568193\n",
      "[[431 621]\n",
      " [454 525]]\n",
      "\n",
      "******** For i = 0.5 ******\n",
      "Our testing accuracy is 0.6646971935007385\n",
      "[[878 174]\n",
      " [507 472]]\n",
      "\n",
      "******** For i = 0.55 ******\n",
      "Our testing accuracy is 0.6568193008370261\n",
      "[[878 174]\n",
      " [523 456]]\n",
      "\n",
      "******** For i = 0.6 ******\n",
      "Our testing accuracy is 0.6632200886262924\n",
      "[[891 161]\n",
      " [523 456]]\n",
      "\n",
      "******** For i = 0.65 ******\n",
      "Our testing accuracy is 0.517971442639094\n",
      "[[1052    0]\n",
      " [ 979    0]]\n",
      "\n",
      "******** For i = 0.7 ******\n",
      "Our testing accuracy is 0.517971442639094\n",
      "[[1052    0]\n",
      " [ 979    0]]\n",
      "\n",
      "******** For i = 0.75 ******\n",
      "Our testing accuracy is 0.517971442639094\n",
      "[[1052    0]\n",
      " [ 979    0]]\n",
      "\n",
      "******** For i = 0.8 ******\n",
      "Our testing accuracy is 0.517971442639094\n",
      "[[1052    0]\n",
      " [ 979    0]]\n",
      "\n",
      "******** For i = 0.85 ******\n",
      "Our testing accuracy is 0.517971442639094\n",
      "[[1052    0]\n",
      " [ 979    0]]\n",
      "\n",
      "******** For i = 0.9 ******\n",
      "Our testing accuracy is 0.517971442639094\n",
      "[[1052    0]\n",
      " [ 979    0]]\n",
      "\n",
      "******** For i = 0.95 ******\n",
      "Our testing accuracy is 0.517971442639094\n",
      "[[1052    0]\n",
      " [ 979    0]]\n",
      "\n",
      "******** For i = 0.99 ******\n",
      "Our testing accuracy is 0.517971442639094\n",
      "[[1052    0]\n",
      " [ 979    0]]\n"
     ]
    }
   ],
   "source": [
    "from sklearn.metrics import confusion_matrix, accuracy_score, precision_score, recall_score\n",
    "\n",
    "threshold_list = [0.05,0.1,0.15,0.2,0.25,0.3,0.35,0.4,0.45,0.5,0.55,0.6,0.65,.7,.75,.8,.85,.9,.95,.99]\n",
    "for i in threshold_list:\n",
    "    print ('\\n******** For i = {} ******'.format(i))\n",
    "    Y_test_pred = y_pred_lr_proba_df.applymap(lambda x: 1 if x>i else 0)\n",
    "    test_accuracy = accuracy_score(y_test.to_numpy().reshape(y_test.to_numpy().size,1), Y_test_pred.iloc[:,1].to_numpy().reshape(Y_test_pred.iloc[:,1].to_numpy().size,1))\n",
    "    print('Our testing accuracy is {}'.format(test_accuracy))\n",
    "\n",
    "    print(confusion_matrix(y_test.to_numpy().reshape(y_test.to_numpy().size,1),Y_test_pred.iloc[:,1].to_numpy().reshape(Y_test_pred.iloc[:,1].to_numpy().size,1)))"
   ]
  },
  {
   "cell_type": "code",
   "execution_count": 477,
   "metadata": {},
   "outputs": [
    {
     "data": {
      "text/plain": [
       "0.8346007604562737"
      ]
     },
     "execution_count": 477,
     "metadata": {},
     "output_type": "execute_result"
    }
   ],
   "source": [
    "# Specificity\n",
    "TP = confusion_lr[1, 1]\n",
    "TN = confusion_lr[0, 0]\n",
    "FP = confusion_lr[0, 1]\n",
    "FN = confusion_lr[1, 0]\n",
    "\n",
    "speci = TN/(TN+FP)\n",
    "speci"
   ]
  },
  {
   "cell_type": "markdown",
   "metadata": {},
   "source": [
    "### Curva ROC"
   ]
  },
  {
   "cell_type": "code",
   "execution_count": 478,
   "metadata": {},
   "outputs": [
    {
     "data": {
      "image/png": "[encoded data removed]",
      "text/plain": [
       "<Figure size 432x288 with 1 Axes>"
      ]
     },
     "metadata": {
      "needs_background": "light"
     },
     "output_type": "display_data"
    }
   ],
   "source": [
    "from sklearn.metrics import roc_curve\n",
    "fpr_lr,tpr_lr,thr_lr = roc_curve(y_test, y_pred_lr_proba[:,1])\n",
    "\n",
    "df = pd.DataFrame(dict(fpr=fpr_lr, tpr=tpr_lr, thr = thr_lr))\n",
    "\n",
    "plt.axis([0, 1.01, 0, 1.01])\n",
    "plt.xlabel('1 - Specificty')\n",
    "plt.ylabel('TPR / Sensitivity')\n",
    "plt.title('ROC Curve')\n",
    "plt.plot(df['fpr'],df['tpr'])\n",
    "plt.plot(np.arange(0,1, step =0.01), np.arange(0,1, step =0.01))\n",
    "plt.show()"
   ]
  },
  {
   "cell_type": "code",
   "execution_count": 479,
   "metadata": {},
   "outputs": [
    {
     "name": "stdout",
     "output_type": "stream",
     "text": [
      "AUC= 0.4900350322553082\n"
     ]
    }
   ],
   "source": [
    "from sklearn.metrics import auc\n",
    "print('AUC=', auc(fpr_lr, tpr_lr))"
   ]
  },
  {
   "cell_type": "code",
   "execution_count": 480,
   "metadata": {},
   "outputs": [
    {
     "data": {
      "text/plain": [
       "(0, 1)"
      ]
     },
     "execution_count": 480,
     "metadata": {},
     "output_type": "execute_result"
    },
    {
     "data": {
      "image/png": "[encoded data removed]",
      "text/plain": [
       "<Figure size 432x288 with 1 Axes>"
      ]
     },
     "metadata": {
      "needs_background": "light"
     },
     "output_type": "display_data"
    }
   ],
   "source": [
    "from sklearn.metrics import precision_recall_curve\n",
    "precision, recall, thresholds = precision_recall_curve(y_test, y_pred_lr_proba[:,1]) \n",
    "   #retrieve probability of being 1(in second column of probs_y)\n",
    "pr_auc = auc(recall, precision)\n",
    "\n",
    "plt.title(\"Precision-Recall vs Threshold Chart\")\n",
    "plt.plot(thresholds, precision[: -1], \"b--\", label=\"Precision\")\n",
    "plt.plot(thresholds, recall[: -1], \"r--\", label=\"Recall\")\n",
    "plt.ylabel(\"Precision, Recall\")\n",
    "plt.xlabel(\"Threshold\")\n",
    "plt.legend(loc=\"lower left\")\n",
    "plt.ylim([0,1])"
   ]
  },
  {
   "cell_type": "code",
   "execution_count": 481,
   "metadata": {},
   "outputs": [
    {
     "data": {
      "text/plain": [
       "LogisticRegression(C=0.02, penalty='l1', solver='saga')"
      ]
     },
     "execution_count": 481,
     "metadata": {},
     "output_type": "execute_result"
    }
   ],
   "source": [
    "best_lr=grid_lr.best_estimator_\n",
    "best_lr"
   ]
  },
  {
   "cell_type": "code",
   "execution_count": 482,
   "metadata": {},
   "outputs": [
    {
     "data": {
      "text/html": [
       "<div>\n",
       "<style scoped>\n",
       "    .dataframe tbody tr th:only-of-type {\n",
       "        vertical-align: middle;\n",
       "    }\n",
       "\n",
       "    .dataframe tbody tr th {\n",
       "        vertical-align: top;\n",
       "    }\n",
       "\n",
       "    .dataframe thead th {\n",
       "        text-align: right;\n",
       "    }\n",
       "</style>\n",
       "<table border=\"1\" class=\"dataframe\">\n",
       "  <thead>\n",
       "    <tr style=\"text-align: right;\">\n",
       "      <th></th>\n",
       "      <th>0</th>\n",
       "    </tr>\n",
       "  </thead>\n",
       "  <tbody>\n",
       "    <tr>\n",
       "      <th>spore-print-color</th>\n",
       "      <td>0.143173</td>\n",
       "    </tr>\n",
       "  </tbody>\n",
       "</table>\n",
       "</div>"
      ],
      "text/plain": [
       "                          0\n",
       "spore-print-color  0.143173"
      ]
     },
     "execution_count": 482,
     "metadata": {},
     "output_type": "execute_result"
    }
   ],
   "source": [
    "coeficientes = pd.DataFrame(best_lr.coef_, columns=X.columns).T\n",
    "coeficientes.sort_values(by=0)"
   ]
  },
  {
   "cell_type": "code",
   "execution_count": null,
   "metadata": {},
   "outputs": [],
   "source": []
  }
 ],
 "metadata": {
  "kernelspec": {
   "display_name": "Python 3",
   "language": "python",
   "name": "python3"
  },
  "language_info": {
   "codemirror_mode": {
    "name": "ipython",
    "version": 3
   },
   "file_extension": ".py",
   "mimetype": "text/x-python",
   "name": "python",
   "nbconvert_exporter": "python",
   "pygments_lexer": "ipython3",
   "version": "3.7.7"
  }
 },
 "nbformat": 4,
 "nbformat_minor": 4
}
